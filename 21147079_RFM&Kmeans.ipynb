{
  "nbformat": 4,
  "nbformat_minor": 0,
  "metadata": {
    "colab": {
      "provenance": [],
      "collapsed_sections": [],
      "authorship_tag": "ABX9TyMlg8R+/DQlrvdXnsOSvjO4",
      "include_colab_link": true
    },
    "kernelspec": {
      "name": "python3",
      "display_name": "Python 3"
    },
    "language_info": {
      "name": "python"
    }
  },
  "cells": [
    {
      "cell_type": "markdown",
      "metadata": {
        "id": "view-in-github",
        "colab_type": "text"
      },
      "source": [
        "<a href=\"https://colab.research.google.com/github/Adekoyaag/Adekoyaag/blob/main/21147079_RFM%26Kmeans.ipynb\" target=\"_parent\"><img src=\"https://colab.research.google.com/assets/colab-badge.svg\" alt=\"Open In Colab\"/></a>"
      ]
    },
    {
      "cell_type": "code",
      "execution_count": 1,
      "metadata": {
        "id": "0Eo71zK0bxyv"
      },
      "outputs": [],
      "source": [
        "#Import necessary libraries\n",
        "%matplotlib inline\n",
        "import numpy as np\n",
        "import pandas as pd\n",
        "import matplotlib.pyplot as plt"
      ]
    },
    {
      "cell_type": "code",
      "source": [
        "#Import Data containing transactions from combined tables\n",
        "Bank_data = pd.read_csv('/content/Anonymous_data.csv', encoding = 'unicode_escape')\n",
        "Bank_data.head()"
      ],
      "metadata": {
        "colab": {
          "base_uri": "https://localhost:8080/",
          "height": 270
        },
        "id": "aFp9x--fdWZD",
        "outputId": "1947f1c6-ffdd-4ff2-a1cf-e134f81dc788"
      },
      "execution_count": 4,
      "outputs": [
        {
          "output_type": "execute_result",
          "data": {
            "text/plain": [
              "                                               RECID    ACCOUNT_NUMBER  \\\n",
              "0  S!NGN1280020172001!CR!NGN!TT!183!20220406!2022...  NGN1280020172001   \n",
              "1                                         1.9875E+14        0057267493   \n",
              "2                                        1.98706E+14        0076780146   \n",
              "3                                        1.98156E+14        0087555265   \n",
              "4                                        1.97564E+14        0057262780   \n",
              "\n",
              "   AMOUNT_LCY  CUSTOMER_ID  ACCOUNT_OFFICER VALUE_DATE BOOKING_DATE  \\\n",
              "0   500053.75          NaN                1    00:00.0      00:00.0   \n",
              "1        0.90   10000007.0              777    00:00.0      00:00.0   \n",
              "2    30000.00   10009141.0           500696    00:00.0      00:00.0   \n",
              "3    93000.00   10000166.0           500930    00:00.0      00:00.0   \n",
              "4        0.11   10000023.0             1111    00:00.0      00:00.0   \n",
              "\n",
              "   BOOKING_DATE_YMD PROCESSING_DATE DEB_CRE_IND  AMOUNT_LCY_SIGN  \\\n",
              "0          20220406         00:00.0           C        500053.75   \n",
              "1          20220531         00:00.0           C             0.90   \n",
              "2          20220526         00:00.0           C         30000.00   \n",
              "3          20220401         00:00.0           C         93000.00   \n",
              "4          20220131         00:00.0           C             0.11   \n",
              "\n",
              "   AMOUNT_FCY_SIGN OPENINGDATE DATE_LAST_CR_CUST  seqnum  \n",
              "0              0.0    5/2/2016         5/26/2016     901  \n",
              "1              0.0    6/9/2016         6/15/2016       1  \n",
              "2              0.0   3/25/2020         8/10/2022      69  \n",
              "3              0.0   2/18/2022         7/14/2022       1  \n",
              "4              0.0    6/9/2016         6/21/2016       1  "
            ],
            "text/html": [
              "\n",
              "  <div id=\"df-651c5e26-c733-43f6-9ba9-60eccd92c113\">\n",
              "    <div class=\"colab-df-container\">\n",
              "      <div>\n",
              "<style scoped>\n",
              "    .dataframe tbody tr th:only-of-type {\n",
              "        vertical-align: middle;\n",
              "    }\n",
              "\n",
              "    .dataframe tbody tr th {\n",
              "        vertical-align: top;\n",
              "    }\n",
              "\n",
              "    .dataframe thead th {\n",
              "        text-align: right;\n",
              "    }\n",
              "</style>\n",
              "<table border=\"1\" class=\"dataframe\">\n",
              "  <thead>\n",
              "    <tr style=\"text-align: right;\">\n",
              "      <th></th>\n",
              "      <th>RECID</th>\n",
              "      <th>ACCOUNT_NUMBER</th>\n",
              "      <th>AMOUNT_LCY</th>\n",
              "      <th>CUSTOMER_ID</th>\n",
              "      <th>ACCOUNT_OFFICER</th>\n",
              "      <th>VALUE_DATE</th>\n",
              "      <th>BOOKING_DATE</th>\n",
              "      <th>BOOKING_DATE_YMD</th>\n",
              "      <th>PROCESSING_DATE</th>\n",
              "      <th>DEB_CRE_IND</th>\n",
              "      <th>AMOUNT_LCY_SIGN</th>\n",
              "      <th>AMOUNT_FCY_SIGN</th>\n",
              "      <th>OPENINGDATE</th>\n",
              "      <th>DATE_LAST_CR_CUST</th>\n",
              "      <th>seqnum</th>\n",
              "    </tr>\n",
              "  </thead>\n",
              "  <tbody>\n",
              "    <tr>\n",
              "      <th>0</th>\n",
              "      <td>S!NGN1280020172001!CR!NGN!TT!183!20220406!2022...</td>\n",
              "      <td>NGN1280020172001</td>\n",
              "      <td>500053.75</td>\n",
              "      <td>NaN</td>\n",
              "      <td>1</td>\n",
              "      <td>00:00.0</td>\n",
              "      <td>00:00.0</td>\n",
              "      <td>20220406</td>\n",
              "      <td>00:00.0</td>\n",
              "      <td>C</td>\n",
              "      <td>500053.75</td>\n",
              "      <td>0.0</td>\n",
              "      <td>5/2/2016</td>\n",
              "      <td>5/26/2016</td>\n",
              "      <td>901</td>\n",
              "    </tr>\n",
              "    <tr>\n",
              "      <th>1</th>\n",
              "      <td>1.9875E+14</td>\n",
              "      <td>0057267493</td>\n",
              "      <td>0.90</td>\n",
              "      <td>10000007.0</td>\n",
              "      <td>777</td>\n",
              "      <td>00:00.0</td>\n",
              "      <td>00:00.0</td>\n",
              "      <td>20220531</td>\n",
              "      <td>00:00.0</td>\n",
              "      <td>C</td>\n",
              "      <td>0.90</td>\n",
              "      <td>0.0</td>\n",
              "      <td>6/9/2016</td>\n",
              "      <td>6/15/2016</td>\n",
              "      <td>1</td>\n",
              "    </tr>\n",
              "    <tr>\n",
              "      <th>2</th>\n",
              "      <td>1.98706E+14</td>\n",
              "      <td>0076780146</td>\n",
              "      <td>30000.00</td>\n",
              "      <td>10009141.0</td>\n",
              "      <td>500696</td>\n",
              "      <td>00:00.0</td>\n",
              "      <td>00:00.0</td>\n",
              "      <td>20220526</td>\n",
              "      <td>00:00.0</td>\n",
              "      <td>C</td>\n",
              "      <td>30000.00</td>\n",
              "      <td>0.0</td>\n",
              "      <td>3/25/2020</td>\n",
              "      <td>8/10/2022</td>\n",
              "      <td>69</td>\n",
              "    </tr>\n",
              "    <tr>\n",
              "      <th>3</th>\n",
              "      <td>1.98156E+14</td>\n",
              "      <td>0087555265</td>\n",
              "      <td>93000.00</td>\n",
              "      <td>10000166.0</td>\n",
              "      <td>500930</td>\n",
              "      <td>00:00.0</td>\n",
              "      <td>00:00.0</td>\n",
              "      <td>20220401</td>\n",
              "      <td>00:00.0</td>\n",
              "      <td>C</td>\n",
              "      <td>93000.00</td>\n",
              "      <td>0.0</td>\n",
              "      <td>2/18/2022</td>\n",
              "      <td>7/14/2022</td>\n",
              "      <td>1</td>\n",
              "    </tr>\n",
              "    <tr>\n",
              "      <th>4</th>\n",
              "      <td>1.97564E+14</td>\n",
              "      <td>0057262780</td>\n",
              "      <td>0.11</td>\n",
              "      <td>10000023.0</td>\n",
              "      <td>1111</td>\n",
              "      <td>00:00.0</td>\n",
              "      <td>00:00.0</td>\n",
              "      <td>20220131</td>\n",
              "      <td>00:00.0</td>\n",
              "      <td>C</td>\n",
              "      <td>0.11</td>\n",
              "      <td>0.0</td>\n",
              "      <td>6/9/2016</td>\n",
              "      <td>6/21/2016</td>\n",
              "      <td>1</td>\n",
              "    </tr>\n",
              "  </tbody>\n",
              "</table>\n",
              "</div>\n",
              "      <button class=\"colab-df-convert\" onclick=\"convertToInteractive('df-651c5e26-c733-43f6-9ba9-60eccd92c113')\"\n",
              "              title=\"Convert this dataframe to an interactive table.\"\n",
              "              style=\"display:none;\">\n",
              "        \n",
              "  <svg xmlns=\"http://www.w3.org/2000/svg\" height=\"24px\"viewBox=\"0 0 24 24\"\n",
              "       width=\"24px\">\n",
              "    <path d=\"M0 0h24v24H0V0z\" fill=\"none\"/>\n",
              "    <path d=\"M18.56 5.44l.94 2.06.94-2.06 2.06-.94-2.06-.94-.94-2.06-.94 2.06-2.06.94zm-11 1L8.5 8.5l.94-2.06 2.06-.94-2.06-.94L8.5 2.5l-.94 2.06-2.06.94zm10 10l.94 2.06.94-2.06 2.06-.94-2.06-.94-.94-2.06-.94 2.06-2.06.94z\"/><path d=\"M17.41 7.96l-1.37-1.37c-.4-.4-.92-.59-1.43-.59-.52 0-1.04.2-1.43.59L10.3 9.45l-7.72 7.72c-.78.78-.78 2.05 0 2.83L4 21.41c.39.39.9.59 1.41.59.51 0 1.02-.2 1.41-.59l7.78-7.78 2.81-2.81c.8-.78.8-2.07 0-2.86zM5.41 20L4 18.59l7.72-7.72 1.47 1.35L5.41 20z\"/>\n",
              "  </svg>\n",
              "      </button>\n",
              "      \n",
              "  <style>\n",
              "    .colab-df-container {\n",
              "      display:flex;\n",
              "      flex-wrap:wrap;\n",
              "      gap: 12px;\n",
              "    }\n",
              "\n",
              "    .colab-df-convert {\n",
              "      background-color: #E8F0FE;\n",
              "      border: none;\n",
              "      border-radius: 50%;\n",
              "      cursor: pointer;\n",
              "      display: none;\n",
              "      fill: #1967D2;\n",
              "      height: 32px;\n",
              "      padding: 0 0 0 0;\n",
              "      width: 32px;\n",
              "    }\n",
              "\n",
              "    .colab-df-convert:hover {\n",
              "      background-color: #E2EBFA;\n",
              "      box-shadow: 0px 1px 2px rgba(60, 64, 67, 0.3), 0px 1px 3px 1px rgba(60, 64, 67, 0.15);\n",
              "      fill: #174EA6;\n",
              "    }\n",
              "\n",
              "    [theme=dark] .colab-df-convert {\n",
              "      background-color: #3B4455;\n",
              "      fill: #D2E3FC;\n",
              "    }\n",
              "\n",
              "    [theme=dark] .colab-df-convert:hover {\n",
              "      background-color: #434B5C;\n",
              "      box-shadow: 0px 1px 3px 1px rgba(0, 0, 0, 0.15);\n",
              "      filter: drop-shadow(0px 1px 2px rgba(0, 0, 0, 0.3));\n",
              "      fill: #FFFFFF;\n",
              "    }\n",
              "  </style>\n",
              "\n",
              "      <script>\n",
              "        const buttonEl =\n",
              "          document.querySelector('#df-651c5e26-c733-43f6-9ba9-60eccd92c113 button.colab-df-convert');\n",
              "        buttonEl.style.display =\n",
              "          google.colab.kernel.accessAllowed ? 'block' : 'none';\n",
              "\n",
              "        async function convertToInteractive(key) {\n",
              "          const element = document.querySelector('#df-651c5e26-c733-43f6-9ba9-60eccd92c113');\n",
              "          const dataTable =\n",
              "            await google.colab.kernel.invokeFunction('convertToInteractive',\n",
              "                                                     [key], {});\n",
              "          if (!dataTable) return;\n",
              "\n",
              "          const docLinkHtml = 'Like what you see? Visit the ' +\n",
              "            '<a target=\"_blank\" href=https://colab.research.google.com/notebooks/data_table.ipynb>data table notebook</a>'\n",
              "            + ' to learn more about interactive tables.';\n",
              "          element.innerHTML = '';\n",
              "          dataTable['output_type'] = 'display_data';\n",
              "          await google.colab.output.renderOutput(dataTable, element);\n",
              "          const docLink = document.createElement('div');\n",
              "          docLink.innerHTML = docLinkHtml;\n",
              "          element.appendChild(docLink);\n",
              "        }\n",
              "      </script>\n",
              "    </div>\n",
              "  </div>\n",
              "  "
            ]
          },
          "metadata": {},
          "execution_count": 4
        }
      ]
    },
    {
      "cell_type": "code",
      "source": [
        "#Check the shape (number of columns and rows) in the dataset\n",
        "Bank_data.shape"
      ],
      "metadata": {
        "colab": {
          "base_uri": "https://localhost:8080/"
        },
        "id": "p1301PVDgUsy",
        "outputId": "e38976db-7002-4e9e-80bf-234126e5c85c"
      },
      "execution_count": 5,
      "outputs": [
        {
          "output_type": "execute_result",
          "data": {
            "text/plain": [
              "(200000, 15)"
            ]
          },
          "metadata": {},
          "execution_count": 5
        }
      ]
    },
    {
      "cell_type": "code",
      "source": [
        "#Customer distribution by Account officers\n",
        "Acctofficer_cust_data=Bank_data[['ACCOUNT_OFFICER','CUSTOMER_ID']].drop_duplicates()\n",
        "Acctofficer_cust_data.groupby(['ACCOUNT_OFFICER'])['CUSTOMER_ID'].aggregate('count').reset_index().sort_values('CUSTOMER_ID', ascending=False)"
      ],
      "metadata": {
        "colab": {
          "base_uri": "https://localhost:8080/",
          "height": 424
        },
        "id": "VThzl4s7gbNS",
        "outputId": "e0275ea4-26b7-4abe-ae09-dfd5ce970396"
      },
      "execution_count": 6,
      "outputs": [
        {
          "output_type": "execute_result",
          "data": {
            "text/plain": [
              "      ACCOUNT_OFFICER  CUSTOMER_ID\n",
              "10               1111         7133\n",
              "8                 777          529\n",
              "7                 555          492\n",
              "0                   1          487\n",
              "9                 999          427\n",
              "...               ...          ...\n",
              "2914           514485            0\n",
              "1905           508919            0\n",
              "2675           512696            0\n",
              "936            503371            0\n",
              "330            501257            0\n",
              "\n",
              "[3017 rows x 2 columns]"
            ],
            "text/html": [
              "\n",
              "  <div id=\"df-fd0d9198-1e7e-40b8-a094-76ad7e562997\">\n",
              "    <div class=\"colab-df-container\">\n",
              "      <div>\n",
              "<style scoped>\n",
              "    .dataframe tbody tr th:only-of-type {\n",
              "        vertical-align: middle;\n",
              "    }\n",
              "\n",
              "    .dataframe tbody tr th {\n",
              "        vertical-align: top;\n",
              "    }\n",
              "\n",
              "    .dataframe thead th {\n",
              "        text-align: right;\n",
              "    }\n",
              "</style>\n",
              "<table border=\"1\" class=\"dataframe\">\n",
              "  <thead>\n",
              "    <tr style=\"text-align: right;\">\n",
              "      <th></th>\n",
              "      <th>ACCOUNT_OFFICER</th>\n",
              "      <th>CUSTOMER_ID</th>\n",
              "    </tr>\n",
              "  </thead>\n",
              "  <tbody>\n",
              "    <tr>\n",
              "      <th>10</th>\n",
              "      <td>1111</td>\n",
              "      <td>7133</td>\n",
              "    </tr>\n",
              "    <tr>\n",
              "      <th>8</th>\n",
              "      <td>777</td>\n",
              "      <td>529</td>\n",
              "    </tr>\n",
              "    <tr>\n",
              "      <th>7</th>\n",
              "      <td>555</td>\n",
              "      <td>492</td>\n",
              "    </tr>\n",
              "    <tr>\n",
              "      <th>0</th>\n",
              "      <td>1</td>\n",
              "      <td>487</td>\n",
              "    </tr>\n",
              "    <tr>\n",
              "      <th>9</th>\n",
              "      <td>999</td>\n",
              "      <td>427</td>\n",
              "    </tr>\n",
              "    <tr>\n",
              "      <th>...</th>\n",
              "      <td>...</td>\n",
              "      <td>...</td>\n",
              "    </tr>\n",
              "    <tr>\n",
              "      <th>2914</th>\n",
              "      <td>514485</td>\n",
              "      <td>0</td>\n",
              "    </tr>\n",
              "    <tr>\n",
              "      <th>1905</th>\n",
              "      <td>508919</td>\n",
              "      <td>0</td>\n",
              "    </tr>\n",
              "    <tr>\n",
              "      <th>2675</th>\n",
              "      <td>512696</td>\n",
              "      <td>0</td>\n",
              "    </tr>\n",
              "    <tr>\n",
              "      <th>936</th>\n",
              "      <td>503371</td>\n",
              "      <td>0</td>\n",
              "    </tr>\n",
              "    <tr>\n",
              "      <th>330</th>\n",
              "      <td>501257</td>\n",
              "      <td>0</td>\n",
              "    </tr>\n",
              "  </tbody>\n",
              "</table>\n",
              "<p>3017 rows × 2 columns</p>\n",
              "</div>\n",
              "      <button class=\"colab-df-convert\" onclick=\"convertToInteractive('df-fd0d9198-1e7e-40b8-a094-76ad7e562997')\"\n",
              "              title=\"Convert this dataframe to an interactive table.\"\n",
              "              style=\"display:none;\">\n",
              "        \n",
              "  <svg xmlns=\"http://www.w3.org/2000/svg\" height=\"24px\"viewBox=\"0 0 24 24\"\n",
              "       width=\"24px\">\n",
              "    <path d=\"M0 0h24v24H0V0z\" fill=\"none\"/>\n",
              "    <path d=\"M18.56 5.44l.94 2.06.94-2.06 2.06-.94-2.06-.94-.94-2.06-.94 2.06-2.06.94zm-11 1L8.5 8.5l.94-2.06 2.06-.94-2.06-.94L8.5 2.5l-.94 2.06-2.06.94zm10 10l.94 2.06.94-2.06 2.06-.94-2.06-.94-.94-2.06-.94 2.06-2.06.94z\"/><path d=\"M17.41 7.96l-1.37-1.37c-.4-.4-.92-.59-1.43-.59-.52 0-1.04.2-1.43.59L10.3 9.45l-7.72 7.72c-.78.78-.78 2.05 0 2.83L4 21.41c.39.39.9.59 1.41.59.51 0 1.02-.2 1.41-.59l7.78-7.78 2.81-2.81c.8-.78.8-2.07 0-2.86zM5.41 20L4 18.59l7.72-7.72 1.47 1.35L5.41 20z\"/>\n",
              "  </svg>\n",
              "      </button>\n",
              "      \n",
              "  <style>\n",
              "    .colab-df-container {\n",
              "      display:flex;\n",
              "      flex-wrap:wrap;\n",
              "      gap: 12px;\n",
              "    }\n",
              "\n",
              "    .colab-df-convert {\n",
              "      background-color: #E8F0FE;\n",
              "      border: none;\n",
              "      border-radius: 50%;\n",
              "      cursor: pointer;\n",
              "      display: none;\n",
              "      fill: #1967D2;\n",
              "      height: 32px;\n",
              "      padding: 0 0 0 0;\n",
              "      width: 32px;\n",
              "    }\n",
              "\n",
              "    .colab-df-convert:hover {\n",
              "      background-color: #E2EBFA;\n",
              "      box-shadow: 0px 1px 2px rgba(60, 64, 67, 0.3), 0px 1px 3px 1px rgba(60, 64, 67, 0.15);\n",
              "      fill: #174EA6;\n",
              "    }\n",
              "\n",
              "    [theme=dark] .colab-df-convert {\n",
              "      background-color: #3B4455;\n",
              "      fill: #D2E3FC;\n",
              "    }\n",
              "\n",
              "    [theme=dark] .colab-df-convert:hover {\n",
              "      background-color: #434B5C;\n",
              "      box-shadow: 0px 1px 3px 1px rgba(0, 0, 0, 0.15);\n",
              "      filter: drop-shadow(0px 1px 2px rgba(0, 0, 0, 0.3));\n",
              "      fill: #FFFFFF;\n",
              "    }\n",
              "  </style>\n",
              "\n",
              "      <script>\n",
              "        const buttonEl =\n",
              "          document.querySelector('#df-fd0d9198-1e7e-40b8-a094-76ad7e562997 button.colab-df-convert');\n",
              "        buttonEl.style.display =\n",
              "          google.colab.kernel.accessAllowed ? 'block' : 'none';\n",
              "\n",
              "        async function convertToInteractive(key) {\n",
              "          const element = document.querySelector('#df-fd0d9198-1e7e-40b8-a094-76ad7e562997');\n",
              "          const dataTable =\n",
              "            await google.colab.kernel.invokeFunction('convertToInteractive',\n",
              "                                                     [key], {});\n",
              "          if (!dataTable) return;\n",
              "\n",
              "          const docLinkHtml = 'Like what you see? Visit the ' +\n",
              "            '<a target=\"_blank\" href=https://colab.research.google.com/notebooks/data_table.ipynb>data table notebook</a>'\n",
              "            + ' to learn more about interactive tables.';\n",
              "          element.innerHTML = '';\n",
              "          dataTable['output_type'] = 'display_data';\n",
              "          await google.colab.output.renderOutput(dataTable, element);\n",
              "          const docLink = document.createElement('div');\n",
              "          docLink.innerHTML = docLinkHtml;\n",
              "          element.appendChild(docLink);\n",
              "        }\n",
              "      </script>\n",
              "    </div>\n",
              "  </div>\n",
              "  "
            ]
          },
          "metadata": {},
          "execution_count": 6
        }
      ]
    },
    {
      "cell_type": "code",
      "source": [
        "#Customer distribution by Account officers\n",
        "country_cust_data=Bank_data[['ACCOUNT_OFFICER','CUSTOMER_ID','RECID']].drop_duplicates()\n",
        "country_cust_data.groupby(['ACCOUNT_OFFICER'])['CUSTOMER_ID','RECID'].aggregate('count').reset_index().sort_values('CUSTOMER_ID', ascending=False)"
      ],
      "metadata": {
        "colab": {
          "base_uri": "https://localhost:8080/",
          "height": 458
        },
        "id": "G8d2N-zfG-Xv",
        "outputId": "9a627ac0-fbce-4c82-8c57-e23065a593e3"
      },
      "execution_count": 7,
      "outputs": [
        {
          "output_type": "stream",
          "name": "stderr",
          "text": [
            "/usr/local/lib/python3.7/dist-packages/ipykernel_launcher.py:3: FutureWarning: Indexing with multiple keys (implicitly converted to a tuple of keys) will be deprecated, use a list instead.\n",
            "  This is separate from the ipykernel package so we can avoid doing imports until\n"
          ]
        },
        {
          "output_type": "execute_result",
          "data": {
            "text/plain": [
              "      ACCOUNT_OFFICER  CUSTOMER_ID  RECID\n",
              "10               1111        42719  42719\n",
              "0                   1         4322   6753\n",
              "7                 555         3009   3037\n",
              "11               3003         2666   2666\n",
              "8                 777         2029   2136\n",
              "...               ...          ...    ...\n",
              "533            502059            0      1\n",
              "340            501303            0      1\n",
              "1004           504505            0      1\n",
              "2903           514339            0      1\n",
              "1018           504929            0      4\n",
              "\n",
              "[3017 rows x 3 columns]"
            ],
            "text/html": [
              "\n",
              "  <div id=\"df-a47b5ef0-1ca1-4361-834c-c4ac0c384476\">\n",
              "    <div class=\"colab-df-container\">\n",
              "      <div>\n",
              "<style scoped>\n",
              "    .dataframe tbody tr th:only-of-type {\n",
              "        vertical-align: middle;\n",
              "    }\n",
              "\n",
              "    .dataframe tbody tr th {\n",
              "        vertical-align: top;\n",
              "    }\n",
              "\n",
              "    .dataframe thead th {\n",
              "        text-align: right;\n",
              "    }\n",
              "</style>\n",
              "<table border=\"1\" class=\"dataframe\">\n",
              "  <thead>\n",
              "    <tr style=\"text-align: right;\">\n",
              "      <th></th>\n",
              "      <th>ACCOUNT_OFFICER</th>\n",
              "      <th>CUSTOMER_ID</th>\n",
              "      <th>RECID</th>\n",
              "    </tr>\n",
              "  </thead>\n",
              "  <tbody>\n",
              "    <tr>\n",
              "      <th>10</th>\n",
              "      <td>1111</td>\n",
              "      <td>42719</td>\n",
              "      <td>42719</td>\n",
              "    </tr>\n",
              "    <tr>\n",
              "      <th>0</th>\n",
              "      <td>1</td>\n",
              "      <td>4322</td>\n",
              "      <td>6753</td>\n",
              "    </tr>\n",
              "    <tr>\n",
              "      <th>7</th>\n",
              "      <td>555</td>\n",
              "      <td>3009</td>\n",
              "      <td>3037</td>\n",
              "    </tr>\n",
              "    <tr>\n",
              "      <th>11</th>\n",
              "      <td>3003</td>\n",
              "      <td>2666</td>\n",
              "      <td>2666</td>\n",
              "    </tr>\n",
              "    <tr>\n",
              "      <th>8</th>\n",
              "      <td>777</td>\n",
              "      <td>2029</td>\n",
              "      <td>2136</td>\n",
              "    </tr>\n",
              "    <tr>\n",
              "      <th>...</th>\n",
              "      <td>...</td>\n",
              "      <td>...</td>\n",
              "      <td>...</td>\n",
              "    </tr>\n",
              "    <tr>\n",
              "      <th>533</th>\n",
              "      <td>502059</td>\n",
              "      <td>0</td>\n",
              "      <td>1</td>\n",
              "    </tr>\n",
              "    <tr>\n",
              "      <th>340</th>\n",
              "      <td>501303</td>\n",
              "      <td>0</td>\n",
              "      <td>1</td>\n",
              "    </tr>\n",
              "    <tr>\n",
              "      <th>1004</th>\n",
              "      <td>504505</td>\n",
              "      <td>0</td>\n",
              "      <td>1</td>\n",
              "    </tr>\n",
              "    <tr>\n",
              "      <th>2903</th>\n",
              "      <td>514339</td>\n",
              "      <td>0</td>\n",
              "      <td>1</td>\n",
              "    </tr>\n",
              "    <tr>\n",
              "      <th>1018</th>\n",
              "      <td>504929</td>\n",
              "      <td>0</td>\n",
              "      <td>4</td>\n",
              "    </tr>\n",
              "  </tbody>\n",
              "</table>\n",
              "<p>3017 rows × 3 columns</p>\n",
              "</div>\n",
              "      <button class=\"colab-df-convert\" onclick=\"convertToInteractive('df-a47b5ef0-1ca1-4361-834c-c4ac0c384476')\"\n",
              "              title=\"Convert this dataframe to an interactive table.\"\n",
              "              style=\"display:none;\">\n",
              "        \n",
              "  <svg xmlns=\"http://www.w3.org/2000/svg\" height=\"24px\"viewBox=\"0 0 24 24\"\n",
              "       width=\"24px\">\n",
              "    <path d=\"M0 0h24v24H0V0z\" fill=\"none\"/>\n",
              "    <path d=\"M18.56 5.44l.94 2.06.94-2.06 2.06-.94-2.06-.94-.94-2.06-.94 2.06-2.06.94zm-11 1L8.5 8.5l.94-2.06 2.06-.94-2.06-.94L8.5 2.5l-.94 2.06-2.06.94zm10 10l.94 2.06.94-2.06 2.06-.94-2.06-.94-.94-2.06-.94 2.06-2.06.94z\"/><path d=\"M17.41 7.96l-1.37-1.37c-.4-.4-.92-.59-1.43-.59-.52 0-1.04.2-1.43.59L10.3 9.45l-7.72 7.72c-.78.78-.78 2.05 0 2.83L4 21.41c.39.39.9.59 1.41.59.51 0 1.02-.2 1.41-.59l7.78-7.78 2.81-2.81c.8-.78.8-2.07 0-2.86zM5.41 20L4 18.59l7.72-7.72 1.47 1.35L5.41 20z\"/>\n",
              "  </svg>\n",
              "      </button>\n",
              "      \n",
              "  <style>\n",
              "    .colab-df-container {\n",
              "      display:flex;\n",
              "      flex-wrap:wrap;\n",
              "      gap: 12px;\n",
              "    }\n",
              "\n",
              "    .colab-df-convert {\n",
              "      background-color: #E8F0FE;\n",
              "      border: none;\n",
              "      border-radius: 50%;\n",
              "      cursor: pointer;\n",
              "      display: none;\n",
              "      fill: #1967D2;\n",
              "      height: 32px;\n",
              "      padding: 0 0 0 0;\n",
              "      width: 32px;\n",
              "    }\n",
              "\n",
              "    .colab-df-convert:hover {\n",
              "      background-color: #E2EBFA;\n",
              "      box-shadow: 0px 1px 2px rgba(60, 64, 67, 0.3), 0px 1px 3px 1px rgba(60, 64, 67, 0.15);\n",
              "      fill: #174EA6;\n",
              "    }\n",
              "\n",
              "    [theme=dark] .colab-df-convert {\n",
              "      background-color: #3B4455;\n",
              "      fill: #D2E3FC;\n",
              "    }\n",
              "\n",
              "    [theme=dark] .colab-df-convert:hover {\n",
              "      background-color: #434B5C;\n",
              "      box-shadow: 0px 1px 3px 1px rgba(0, 0, 0, 0.15);\n",
              "      filter: drop-shadow(0px 1px 2px rgba(0, 0, 0, 0.3));\n",
              "      fill: #FFFFFF;\n",
              "    }\n",
              "  </style>\n",
              "\n",
              "      <script>\n",
              "        const buttonEl =\n",
              "          document.querySelector('#df-a47b5ef0-1ca1-4361-834c-c4ac0c384476 button.colab-df-convert');\n",
              "        buttonEl.style.display =\n",
              "          google.colab.kernel.accessAllowed ? 'block' : 'none';\n",
              "\n",
              "        async function convertToInteractive(key) {\n",
              "          const element = document.querySelector('#df-a47b5ef0-1ca1-4361-834c-c4ac0c384476');\n",
              "          const dataTable =\n",
              "            await google.colab.kernel.invokeFunction('convertToInteractive',\n",
              "                                                     [key], {});\n",
              "          if (!dataTable) return;\n",
              "\n",
              "          const docLinkHtml = 'Like what you see? Visit the ' +\n",
              "            '<a target=\"_blank\" href=https://colab.research.google.com/notebooks/data_table.ipynb>data table notebook</a>'\n",
              "            + ' to learn more about interactive tables.';\n",
              "          element.innerHTML = '';\n",
              "          dataTable['output_type'] = 'display_data';\n",
              "          await google.colab.output.renderOutput(dataTable, element);\n",
              "          const docLink = document.createElement('div');\n",
              "          docLink.innerHTML = docLinkHtml;\n",
              "          element.appendChild(docLink);\n",
              "        }\n",
              "      </script>\n",
              "    </div>\n",
              "  </div>\n",
              "  "
            ]
          },
          "metadata": {},
          "execution_count": 7
        }
      ]
    },
    {
      "cell_type": "code",
      "source": [
        "#df_new_ = Bank_data[Bank_data.ACCOUNT_OFFICER.isin([777,555,999,1111])]\n",
        "\n"
      ],
      "metadata": {
        "id": "oqCW4xrbgNuj"
      },
      "execution_count": 8,
      "outputs": []
    },
    {
      "cell_type": "code",
      "source": [
        "df_new_ = Bank_data"
      ],
      "metadata": {
        "id": "Tuzf042ue6Xw"
      },
      "execution_count": 9,
      "outputs": []
    },
    {
      "cell_type": "code",
      "source": [
        "#Check for missing values in the dataset\n",
        "df_new_.isnull().sum(axis=0)"
      ],
      "metadata": {
        "colab": {
          "base_uri": "https://localhost:8080/"
        },
        "id": "RFpAB4fQtnOk",
        "outputId": "e37a5910-c287-4a7d-93d0-664a7459fbcc"
      },
      "execution_count": 10,
      "outputs": [
        {
          "output_type": "execute_result",
          "data": {
            "text/plain": [
              "RECID                   0\n",
              "ACCOUNT_NUMBER          0\n",
              "AMOUNT_LCY              0\n",
              "CUSTOMER_ID          3334\n",
              "ACCOUNT_OFFICER         0\n",
              "VALUE_DATE              0\n",
              "BOOKING_DATE            0\n",
              "BOOKING_DATE_YMD        0\n",
              "PROCESSING_DATE         0\n",
              "DEB_CRE_IND             0\n",
              "AMOUNT_LCY_SIGN         0\n",
              "AMOUNT_FCY_SIGN         0\n",
              "OPENINGDATE             0\n",
              "DATE_LAST_CR_CUST    4609\n",
              "seqnum                  0\n",
              "dtype: int64"
            ]
          },
          "metadata": {},
          "execution_count": 10
        }
      ]
    },
    {
      "cell_type": "code",
      "source": [
        "#Remove missing values from CustomerID column, can ignore missing values in description column\n",
        "df_new1 = df_new_[pd.notnull(df_new_['CUSTOMER_ID'])]\n",
        "\n"
      ],
      "metadata": {
        "id": "56xBf7NttzU1"
      },
      "execution_count": 11,
      "outputs": []
    },
    {
      "cell_type": "code",
      "source": [
        "df_new2 = df_new1[pd.notnull(df_new1['DATE_LAST_CR_CUST'])]"
      ],
      "metadata": {
        "id": "cEa95ZRmvLEt"
      },
      "execution_count": 12,
      "outputs": []
    },
    {
      "cell_type": "code",
      "source": [
        "df_new = df_new2[pd.notnull(df_new1['seqnum'])]"
      ],
      "metadata": {
        "colab": {
          "base_uri": "https://localhost:8080/"
        },
        "id": "oA8YNsNMkkq_",
        "outputId": "dd54af1b-96bd-4df6-f0a0-6e00f124faf5"
      },
      "execution_count": 13,
      "outputs": [
        {
          "output_type": "stream",
          "name": "stderr",
          "text": [
            "/usr/local/lib/python3.7/dist-packages/ipykernel_launcher.py:1: UserWarning: Boolean Series key will be reindexed to match DataFrame index.\n",
            "  \"\"\"Entry point for launching an IPython kernel.\n"
          ]
        }
      ]
    },
    {
      "cell_type": "code",
      "source": [
        "#Check for missing values in the dataset\n",
        "df_new.isnull().sum(axis=0)"
      ],
      "metadata": {
        "id": "uroOB2x1vdcM",
        "colab": {
          "base_uri": "https://localhost:8080/"
        },
        "outputId": "20db9ede-4e6b-411f-bb05-0fdb2968f73f"
      },
      "execution_count": 14,
      "outputs": [
        {
          "output_type": "execute_result",
          "data": {
            "text/plain": [
              "RECID                0\n",
              "ACCOUNT_NUMBER       0\n",
              "AMOUNT_LCY           0\n",
              "CUSTOMER_ID          0\n",
              "ACCOUNT_OFFICER      0\n",
              "VALUE_DATE           0\n",
              "BOOKING_DATE         0\n",
              "BOOKING_DATE_YMD     0\n",
              "PROCESSING_DATE      0\n",
              "DEB_CRE_IND          0\n",
              "AMOUNT_LCY_SIGN      0\n",
              "AMOUNT_FCY_SIGN      0\n",
              "OPENINGDATE          0\n",
              "DATE_LAST_CR_CUST    0\n",
              "seqnum               0\n",
              "dtype: int64"
            ]
          },
          "metadata": {},
          "execution_count": 14
        }
      ]
    },
    {
      "cell_type": "code",
      "source": [
        "#Validate if there are any negative values in TransactionID\n",
        "df_new.RECID.min()"
      ],
      "metadata": {
        "colab": {
          "base_uri": "https://localhost:8080/",
          "height": 36
        },
        "id": "DL77hY8_vhUN",
        "outputId": "5bcbf26c-d9e2-4149-b960-0b25e968b898"
      },
      "execution_count": 15,
      "outputs": [
        {
          "output_type": "execute_result",
          "data": {
            "text/plain": [
              "'1.97241E+14'"
            ],
            "application/vnd.google.colaboratory.intrinsic+json": {
              "type": "string"
            }
          },
          "metadata": {},
          "execution_count": 15
        }
      ]
    },
    {
      "cell_type": "code",
      "source": [
        "#Validate if there are any negative values in TransactionID\n",
        "df_new.AMOUNT_LCY.min()"
      ],
      "metadata": {
        "colab": {
          "base_uri": "https://localhost:8080/"
        },
        "id": "b6ucpnLhv9Cd",
        "outputId": "7e20d1be-babd-4d6e-e00a-96a6f78a2122"
      },
      "execution_count": 16,
      "outputs": [
        {
          "output_type": "execute_result",
          "data": {
            "text/plain": [
              "0.01"
            ]
          },
          "metadata": {},
          "execution_count": 16
        }
      ]
    },
    {
      "cell_type": "code",
      "source": [
        "df_new.shape"
      ],
      "metadata": {
        "colab": {
          "base_uri": "https://localhost:8080/"
        },
        "id": "wRQ9WLNtfGOj",
        "outputId": "5e8d0a15-0d5e-414f-f80c-5c0158bc383c"
      },
      "execution_count": 17,
      "outputs": [
        {
          "output_type": "execute_result",
          "data": {
            "text/plain": [
              "(192084, 15)"
            ]
          },
          "metadata": {},
          "execution_count": 17
        }
      ]
    },
    {
      "cell_type": "code",
      "source": [
        "#plot Amount variable distribution\n",
        "\n",
        "plt.hist(df_new['AMOUNT_LCY'], facecolor= 'peru', edgecolor='blue',\n",
        "        range=(100000,200000))\n",
        "plt.show()\n",
        "\n",
        "\n",
        "#df_new.hist(column='AMOUNT_LCY')"
      ],
      "metadata": {
        "colab": {
          "base_uri": "https://localhost:8080/",
          "height": 265
        },
        "id": "XixGU7F4wois",
        "outputId": "5bf2fb69-3fa8-44be-ffbf-5ce30cd9e39c"
      },
      "execution_count": 22,
      "outputs": [
        {
          "output_type": "display_data",
          "data": {
            "text/plain": [
              "<Figure size 432x288 with 1 Axes>"
            ],
            "image/png": "[encoded data removed]"
          },
          "metadata": {
            "needs_background": "light"
          }
        }
      ]
    },
    {
      "cell_type": "code",
      "source": [
        "RFM_Variables = df_new[['AMOUNT_LCY','CUSTOMER_ID']]\n",
        "RFM_Variables.head(10)\n",
        "RFM_Variables.plot()"
      ],
      "metadata": {
        "colab": {
          "base_uri": "https://localhost:8080/",
          "height": 293
        },
        "id": "38g2Lq3NAf3u",
        "outputId": "3834e6a1-c056-4a2e-8846-33f9debb4fa3"
      },
      "execution_count": 23,
      "outputs": [
        {
          "output_type": "execute_result",
          "data": {
            "text/plain": [
              "<matplotlib.axes._subplots.AxesSubplot at 0x7fd8f9aaac50>"
            ]
          },
          "metadata": {},
          "execution_count": 23
        },
        {
          "output_type": "display_data",
          "data": {
            "text/plain": [
              "<Figure size 432x288 with 1 Axes>"
            ],
            "image/png": "[encoded data removed]"
          },
          "metadata": {
            "needs_background": "light"
          }
        }
      ]
    },
    {
      "cell_type": "code",
      "source": [
        "# generate related variables\n",
        "from numpy import mean\n",
        "from numpy import std\n",
        "from numpy.random import randn\n",
        "from numpy.random import seed\n",
        "from matplotlib import pyplot\n",
        "# seed random number generator\n",
        "seed(1)\n",
        "# prepare data\n",
        "data1 = df_new['CUSTOMER_ID']\n",
        "data2 = df_new['AMOUNT_LCY']\n",
        "# summarize\n",
        "print('data1: mean=%.3f stdv=%.3f' % (mean(data1), std(data1)))\n",
        "print('data2: mean=%.3f stdv=%.3f' % (mean(data2), std(data2)))\n",
        "# plot\n",
        "pyplot.scatter(data1, data2)\n",
        "plt.title(\"Amount and CustomerID Correlation test\")\n",
        "plt.xlabel(\"Customer mean & stdv\")\n",
        "plt.ylabel(\"Amount mean & stdv\")\n",
        "pyplot.show()"
      ],
      "metadata": {
        "colab": {
          "base_uri": "https://localhost:8080/",
          "height": 330
        },
        "id": "ClZJgRRAQUFw",
        "outputId": "45b17fe8-0301-4f52-8a02-93bc9eea9acf"
      },
      "execution_count": 24,
      "outputs": [
        {
          "output_type": "stream",
          "name": "stdout",
          "text": [
            "data1: mean=8668655.954 stdv=3253280.617\n",
            "data2: mean=7964847.649 stdv=168140979.994\n"
          ]
        },
        {
          "output_type": "display_data",
          "data": {
            "text/plain": [
              "<Figure size 432x288 with 1 Axes>"
            ],
            "image/png": "[encoded data removed]"
          },
          "metadata": {
            "needs_background": "light"
          }
        }
      ]
    },
    {
      "cell_type": "markdown",
      "source": [
        "Spearman's Correlation test"
      ],
      "metadata": {
        "id": "kI76R3SQS8dq"
      }
    },
    {
      "cell_type": "code",
      "source": [
        "# calculate the spearmans's correlation between two variables\n",
        "from numpy.random import randn\n",
        "from numpy.random import seed\n",
        "from scipy.stats import spearmanr\n",
        "# seed random number generator\n",
        "seed(1)\n",
        "# prepare data\n",
        "data1 = df_new['CUSTOMER_ID']\n",
        "data2 = df_new['AMOUNT_LCY']\n",
        "# calculate spearman's correlation\n",
        "corr, _ = spearmanr(data1, data2)\n",
        "print('Spearmans correlation: %.3f' % corr)"
      ],
      "metadata": {
        "colab": {
          "base_uri": "https://localhost:8080/"
        },
        "id": "a7LgZGgbS6nY",
        "outputId": "aecca77e-aa55-4b64-c2c0-57168bc314d1"
      },
      "execution_count": 25,
      "outputs": [
        {
          "output_type": "stream",
          "name": "stdout",
          "text": [
            "Spearmans correlation: -0.065\n"
          ]
        }
      ]
    },
    {
      "cell_type": "markdown",
      "source": [
        "**Using Box-Plot to Test for Outliers** "
      ],
      "metadata": {
        "id": "PQsbo4H-CkW-"
      }
    },
    {
      "cell_type": "code",
      "source": [
        "# Box Plot\n",
        "import seaborn as sns\n",
        "sns.boxplot(df_new['AMOUNT_LCY'])\n"
      ],
      "metadata": {
        "colab": {
          "base_uri": "https://localhost:8080/",
          "height": 352
        },
        "id": "C17OYFxiCfTY",
        "outputId": "9d9773e4-653f-4456-c1fe-4905de358929"
      },
      "execution_count": 26,
      "outputs": [
        {
          "output_type": "stream",
          "name": "stderr",
          "text": [
            "/usr/local/lib/python3.7/dist-packages/seaborn/_decorators.py:43: FutureWarning: Pass the following variable as a keyword arg: x. From version 0.12, the only valid positional argument will be `data`, and passing other arguments without an explicit keyword will result in an error or misinterpretation.\n",
            "  FutureWarning\n"
          ]
        },
        {
          "output_type": "execute_result",
          "data": {
            "text/plain": [
              "<matplotlib.axes._subplots.AxesSubplot at 0x7fd8f9960710>"
            ]
          },
          "metadata": {},
          "execution_count": 26
        },
        {
          "output_type": "display_data",
          "data": {
            "text/plain": [
              "<Figure size 432x288 with 1 Axes>"
            ],
            "image/png": "[encoded data removed]"
          },
          "metadata": {
            "needs_background": "light"
          }
        }
      ]
    },
    {
      "cell_type": "code",
      "source": [
        "from scipy import stats\n",
        "import numpy as np\n",
        "z = np.abs(stats.zscore(df_new['AMOUNT_LCY']))\n",
        "print(z)"
      ],
      "metadata": {
        "colab": {
          "base_uri": "https://localhost:8080/"
        },
        "id": "WQolx1ruDmFX",
        "outputId": "fb38ff64-4973-4f6d-e76a-79bae17707ea"
      },
      "execution_count": 27,
      "outputs": [
        {
          "output_type": "stream",
          "name": "stdout",
          "text": [
            "1         0.047370\n",
            "2         0.047192\n",
            "3         0.046817\n",
            "4         0.047370\n",
            "5         0.047182\n",
            "            ...   \n",
            "199995    0.047263\n",
            "199996    0.047368\n",
            "199997    0.047370\n",
            "199998    0.047331\n",
            "199999    0.047345\n",
            "Name: AMOUNT_LCY, Length: 192084, dtype: float64\n"
          ]
        }
      ]
    },
    {
      "cell_type": "code",
      "source": [
        "threshold = 3\n",
        "print(np.where(z > 3))"
      ],
      "metadata": {
        "colab": {
          "base_uri": "https://localhost:8080/"
        },
        "id": "AURMc7vGDxK3",
        "outputId": "65ab746b-4065-4ba5-e489-ec94dfcd7280"
      },
      "execution_count": 28,
      "outputs": [
        {
          "output_type": "stream",
          "name": "stdout",
          "text": [
            "(array([   170,    181,    299,    345,    417,    592,    650,    755,\n",
            "          882,   1104,   1116,   1175,   1234,   1293,   1399,   1588,\n",
            "         1822,   1880,   2271,   2283,   2340,   2397,   2499,   2612,\n",
            "         2670,   2853,   2897,   3178,   3794,   4018,   4359,   4416,\n",
            "         4643,   4770,   4816,   4932,   5060,   5289,   5391,   5517,\n",
            "         5574,   5676,   5859,   5975,   6265,   6322,   6652,   6835,\n",
            "         6892,   7051,   7063,   7121,   7167,   7283,   7411,   7469,\n",
            "         7585,   7688,   7861,   7919,   8035,   8262,   8320,   8491,\n",
            "        10251,  10598,  10656,  11294,  11353,  11589,  11648,  11707,\n",
            "        11754,  11766,  11825,  11943,  12002,  12061,  12179,  12403,\n",
            "        12474,  12756,  12826,  13119,  13525,  13583,  13699,  13815,\n",
            "        14400,  14575,  14748,  15256,  15326,  15384,  15501,  15662,\n",
            "        15949,  15960,  16131,  16360,  16406,  16417,  16473,  16529,\n",
            "        16586,  16698,  17260,  17318,  17551,  17669,  17681,  17858,\n",
            "        17964,  18507,  18795,  18852,  19076,  19246,  21924,  22337,\n",
            "        22504,  22718,  22730,  22787,  22832,  22844,  23228,  23975,\n",
            "        24266,  24324,  27034,  27152,  27211,  27270,  27329,  27506,\n",
            "        27624,  27860,  28209,  28268,  28386,  28676,  28966,  29024,\n",
            "        30180,  30236,  30783,  30945,  30999,  31110,  31281,  31395,\n",
            "        31511,  31673,  31685,  31918,  32074,  32086,  32142,  32310,\n",
            "        32354,  32366,  32466,  32521,  32533,  32698,  32741,  32808,\n",
            "        32851,  32919,  33075,  33143,  33258,  33435,  33482,  33727,\n",
            "        34307,  36209,  37145,  37263,  37794,  37971,  38030,  38266,\n",
            "        38325,  38488,  38500,  38662,  38674,  38906,  39008,  39065,\n",
            "        39519,  39531,  39645,  40044,  40101,  40501,  40559,  40617,\n",
            "        40907,  40966,  41084,  41318,  41376,  41492,  41550,  41608,\n",
            "        41724,  41840,  42012,  44343,  44638,  45452,  45523,  45582,\n",
            "        45700,  45747,  45877,  45924,  46054,  46172,  46219,  46230,\n",
            "        46346,  46404,  46462,  46752,  47161,  47279,  47440,  47685,\n",
            "        47743,  47801,  47859,  48150,  48440,  48558,  48735,  48853,\n",
            "        49443,  52690,  53385,  53442,  53556,  53782,  54175,  54460,\n",
            "        55555,  55729,  56016,  56130,  56356,  56413,  56702,  56876,\n",
            "        57051,  57404,  57462,  57520,  57578,  57694,  57810,  57868,\n",
            "        58097,  58325,  58439,  58497,  58554,  58611,  58669,  58727,\n",
            "        59012,  59185,  59409,  59519,  59574,  59684,  59792,  60060,\n",
            "        60114,  60157,  60223,  60331,  60427,  60439,  60535,  60547,\n",
            "        60760,  60801,  60813,  60920,  61136,  61307,  61409,  61535,\n",
            "        61649,  62276,  62390,  62734,  62837,  64167,  64578,  64637,\n",
            "        65046,  65394,  65452,  65626,  65684,  65858,  65916,  66726,\n",
            "        66894,  67004,  67116,  67396,  67498,  67555,  67795,  68352,\n",
            "        68364,  68520,  68532,  68576,  68744,  68868,  68912,  68924,\n",
            "        68980,  69080,  69146,  69257,  69370,  69427,  69708,  70256,\n",
            "        70757,  71037,  75344,  75400,  75411,  75456,  75582,  75628,\n",
            "        75758,  75874,  75921,  76110,  76169,  76750,  76910,  77414,\n",
            "        77471,  77639,  78440,  78554,  78666,  78834,  79349,  79462,\n",
            "        79519,  79690,  80276,  80453,  80512,  80807,  81040,  81270,\n",
            "        81327,  81553,  81783,  81957,  82073,  82189,  82305,  82409,\n",
            "        82467,  82479,  82537,  82758,  83546,  83602,  83658,  84932,\n",
            "        85148,  85205,  85433,  85490,  88810,  88928,  89508,  89566,\n",
            "        89740,  89798,  89856,  89914,  89960,  89972,  90018,  90134,\n",
            "        90146,  90652,  90826,  90941,  91067,  91169,  91340,  91454,\n",
            "        91582,  92507,  93156,  93799,  94146,  94378,  95135,  95599,\n",
            "        95776,  96008,  96123,  96348,  96570,  98555,  98779,  99228,\n",
            "        99344,  99518, 100225, 100414, 100473, 100532, 100945, 101004,\n",
            "       101062, 101468, 101642, 101700, 101816, 102050, 102463, 102581,\n",
            "       102758, 102817, 103345, 103461, 103635, 103751, 104041, 104098,\n",
            "       104269, 104497, 104953, 105069, 105185, 105301, 106857, 109155,\n",
            "       109387, 110141, 110960, 111132, 111189, 111246, 111303, 111360,\n",
            "       111595, 115749, 115807, 115984, 116043, 116161, 116220, 116397,\n",
            "       116515, 116692, 117046, 117105, 117164, 118044, 118162, 118280,\n",
            "       118398, 119025, 119083, 119489, 124064, 124241, 124415, 124705,\n",
            "       124821, 124937, 125464, 127336, 127454, 127513, 127749, 127808,\n",
            "       128044, 128103, 128162, 128339, 128386, 128398, 128622, 128857,\n",
            "       132455, 132570, 132628, 132686, 132745, 132863, 133099, 133453,\n",
            "       133618, 133748, 134784, 139547, 139665, 139841, 140075, 140133,\n",
            "       140479, 140711, 140828, 140887, 141630, 143021, 143196, 143314,\n",
            "       143904, 143963, 144081, 146152, 146329, 146388, 146612, 146624,\n",
            "       146683, 146904, 147148, 147194, 147206, 147320, 147365, 147434,\n",
            "       147491, 147649, 147932, 151780, 151952, 152532, 152764, 152822,\n",
            "       152880, 152938, 152997, 153056, 153233, 153292, 153516, 153575,\n",
            "       153587, 153634, 153882, 153929, 153941, 153988, 155089, 155427,\n",
            "       155765, 156101, 156170, 156274, 156569, 156746, 156864, 157041,\n",
            "       157053, 157100, 157112, 157218, 157348, 157584, 157643, 157702,\n",
            "       157820, 157879, 158115, 158292, 158587, 158646, 158882, 159000,\n",
            "       160908, 160966, 161130, 161375, 161491, 161723, 162008, 162066,\n",
            "       162124, 162704, 162762, 162878, 162994, 163110, 163226, 163342,\n",
            "       163400, 163929, 164681, 164739, 164797, 165043, 165102, 165220,\n",
            "       165385, 165515, 165574, 165633, 165751, 165916, 166034, 166046,\n",
            "       166341, 166388, 166518, 166565, 166577, 166624, 166635, 166809,\n",
            "       166867, 173001, 173695, 173931, 173990, 174167, 174226, 174344,\n",
            "       174639, 174698, 174934, 174993, 175040, 175052, 175158, 175229,\n",
            "       175406, 175524, 175583, 175984, 176220, 176468, 176692, 176704,\n",
            "       176881, 177046, 177176, 177223, 177410, 177456, 177514, 177806,\n",
            "       177924, 177995, 178054, 178526, 178762, 178994, 179052, 179170,\n",
            "       179458, 179572, 180191, 180305, 180362, 180476, 180822, 181111,\n",
            "       181228, 181287, 181522, 182158, 182215, 182329, 182386, 182443,\n",
            "       183136, 183309, 183366, 183423, 183537, 183651, 183696, 183765,\n",
            "       183993, 184095, 184107, 184438, 184561, 184673, 184785, 184842,\n",
            "       185178, 185236, 185886, 185944, 186060, 186118, 186176, 186234,\n",
            "       186637, 186814, 187050, 187227, 187520, 187756, 187992, 188346,\n",
            "       188582, 188641, 188815, 188873, 189219, 189334, 189618, 190558,\n",
            "       190617, 190911, 191027, 191317, 191421, 191607, 191653, 191665,\n",
            "       191723, 192070]),)\n"
          ]
        }
      ]
    },
    {
      "cell_type": "code",
      "source": [
        "df_new.head()"
      ],
      "metadata": {
        "colab": {
          "base_uri": "https://localhost:8080/",
          "height": 206
        },
        "id": "_WC1NxIv3zTp",
        "outputId": "8e26d498-7014-4e59-cea1-59f746268af2"
      },
      "execution_count": 29,
      "outputs": [
        {
          "output_type": "execute_result",
          "data": {
            "text/plain": [
              "         RECID ACCOUNT_NUMBER  AMOUNT_LCY  CUSTOMER_ID  ACCOUNT_OFFICER  \\\n",
              "1   1.9875E+14     0057267493        0.90   10000007.0              777   \n",
              "2  1.98706E+14     0076780146    30000.00   10009141.0           500696   \n",
              "3  1.98156E+14     0087555265    93000.00   10000166.0           500930   \n",
              "4  1.97564E+14     0057262780        0.11   10000023.0             1111   \n",
              "5  1.98132E+14     0057264368    31564.29   10000177.0             1111   \n",
              "\n",
              "  VALUE_DATE BOOKING_DATE  BOOKING_DATE_YMD PROCESSING_DATE DEB_CRE_IND  \\\n",
              "1    00:00.0      00:00.0          20220531         00:00.0           C   \n",
              "2    00:00.0      00:00.0          20220526         00:00.0           C   \n",
              "3    00:00.0      00:00.0          20220401         00:00.0           C   \n",
              "4    00:00.0      00:00.0          20220131         00:00.0           C   \n",
              "5    00:00.0      00:00.0          20220330         00:00.0           C   \n",
              "\n",
              "   AMOUNT_LCY_SIGN  AMOUNT_FCY_SIGN OPENINGDATE DATE_LAST_CR_CUST  seqnum  \n",
              "1             0.90              0.0    6/9/2016         6/15/2016       1  \n",
              "2         30000.00              0.0   3/25/2020         8/10/2022      69  \n",
              "3         93000.00              0.0   2/18/2022         7/14/2022       1  \n",
              "4             0.11              0.0    6/9/2016         6/21/2016       1  \n",
              "5         31564.29              0.0    6/9/2016          8/1/2022       1  "
            ],
            "text/html": [
              "\n",
              "  <div id=\"df-24a8f134-3176-40a5-9e3f-3209278c056b\">\n",
              "    <div class=\"colab-df-container\">\n",
              "      <div>\n",
              "<style scoped>\n",
              "    .dataframe tbody tr th:only-of-type {\n",
              "        vertical-align: middle;\n",
              "    }\n",
              "\n",
              "    .dataframe tbody tr th {\n",
              "        vertical-align: top;\n",
              "    }\n",
              "\n",
              "    .dataframe thead th {\n",
              "        text-align: right;\n",
              "    }\n",
              "</style>\n",
              "<table border=\"1\" class=\"dataframe\">\n",
              "  <thead>\n",
              "    <tr style=\"text-align: right;\">\n",
              "      <th></th>\n",
              "      <th>RECID</th>\n",
              "      <th>ACCOUNT_NUMBER</th>\n",
              "      <th>AMOUNT_LCY</th>\n",
              "      <th>CUSTOMER_ID</th>\n",
              "      <th>ACCOUNT_OFFICER</th>\n",
              "      <th>VALUE_DATE</th>\n",
              "      <th>BOOKING_DATE</th>\n",
              "      <th>BOOKING_DATE_YMD</th>\n",
              "      <th>PROCESSING_DATE</th>\n",
              "      <th>DEB_CRE_IND</th>\n",
              "      <th>AMOUNT_LCY_SIGN</th>\n",
              "      <th>AMOUNT_FCY_SIGN</th>\n",
              "      <th>OPENINGDATE</th>\n",
              "      <th>DATE_LAST_CR_CUST</th>\n",
              "      <th>seqnum</th>\n",
              "    </tr>\n",
              "  </thead>\n",
              "  <tbody>\n",
              "    <tr>\n",
              "      <th>1</th>\n",
              "      <td>1.9875E+14</td>\n",
              "      <td>0057267493</td>\n",
              "      <td>0.90</td>\n",
              "      <td>10000007.0</td>\n",
              "      <td>777</td>\n",
              "      <td>00:00.0</td>\n",
              "      <td>00:00.0</td>\n",
              "      <td>20220531</td>\n",
              "      <td>00:00.0</td>\n",
              "      <td>C</td>\n",
              "      <td>0.90</td>\n",
              "      <td>0.0</td>\n",
              "      <td>6/9/2016</td>\n",
              "      <td>6/15/2016</td>\n",
              "      <td>1</td>\n",
              "    </tr>\n",
              "    <tr>\n",
              "      <th>2</th>\n",
              "      <td>1.98706E+14</td>\n",
              "      <td>0076780146</td>\n",
              "      <td>30000.00</td>\n",
              "      <td>10009141.0</td>\n",
              "      <td>500696</td>\n",
              "      <td>00:00.0</td>\n",
              "      <td>00:00.0</td>\n",
              "      <td>20220526</td>\n",
              "      <td>00:00.0</td>\n",
              "      <td>C</td>\n",
              "      <td>30000.00</td>\n",
              "      <td>0.0</td>\n",
              "      <td>3/25/2020</td>\n",
              "      <td>8/10/2022</td>\n",
              "      <td>69</td>\n",
              "    </tr>\n",
              "    <tr>\n",
              "      <th>3</th>\n",
              "      <td>1.98156E+14</td>\n",
              "      <td>0087555265</td>\n",
              "      <td>93000.00</td>\n",
              "      <td>10000166.0</td>\n",
              "      <td>500930</td>\n",
              "      <td>00:00.0</td>\n",
              "      <td>00:00.0</td>\n",
              "      <td>20220401</td>\n",
              "      <td>00:00.0</td>\n",
              "      <td>C</td>\n",
              "      <td>93000.00</td>\n",
              "      <td>0.0</td>\n",
              "      <td>2/18/2022</td>\n",
              "      <td>7/14/2022</td>\n",
              "      <td>1</td>\n",
              "    </tr>\n",
              "    <tr>\n",
              "      <th>4</th>\n",
              "      <td>1.97564E+14</td>\n",
              "      <td>0057262780</td>\n",
              "      <td>0.11</td>\n",
              "      <td>10000023.0</td>\n",
              "      <td>1111</td>\n",
              "      <td>00:00.0</td>\n",
              "      <td>00:00.0</td>\n",
              "      <td>20220131</td>\n",
              "      <td>00:00.0</td>\n",
              "      <td>C</td>\n",
              "      <td>0.11</td>\n",
              "      <td>0.0</td>\n",
              "      <td>6/9/2016</td>\n",
              "      <td>6/21/2016</td>\n",
              "      <td>1</td>\n",
              "    </tr>\n",
              "    <tr>\n",
              "      <th>5</th>\n",
              "      <td>1.98132E+14</td>\n",
              "      <td>0057264368</td>\n",
              "      <td>31564.29</td>\n",
              "      <td>10000177.0</td>\n",
              "      <td>1111</td>\n",
              "      <td>00:00.0</td>\n",
              "      <td>00:00.0</td>\n",
              "      <td>20220330</td>\n",
              "      <td>00:00.0</td>\n",
              "      <td>C</td>\n",
              "      <td>31564.29</td>\n",
              "      <td>0.0</td>\n",
              "      <td>6/9/2016</td>\n",
              "      <td>8/1/2022</td>\n",
              "      <td>1</td>\n",
              "    </tr>\n",
              "  </tbody>\n",
              "</table>\n",
              "</div>\n",
              "      <button class=\"colab-df-convert\" onclick=\"convertToInteractive('df-24a8f134-3176-40a5-9e3f-3209278c056b')\"\n",
              "              title=\"Convert this dataframe to an interactive table.\"\n",
              "              style=\"display:none;\">\n",
              "        \n",
              "  <svg xmlns=\"http://www.w3.org/2000/svg\" height=\"24px\"viewBox=\"0 0 24 24\"\n",
              "       width=\"24px\">\n",
              "    <path d=\"M0 0h24v24H0V0z\" fill=\"none\"/>\n",
              "    <path d=\"M18.56 5.44l.94 2.06.94-2.06 2.06-.94-2.06-.94-.94-2.06-.94 2.06-2.06.94zm-11 1L8.5 8.5l.94-2.06 2.06-.94-2.06-.94L8.5 2.5l-.94 2.06-2.06.94zm10 10l.94 2.06.94-2.06 2.06-.94-2.06-.94-.94-2.06-.94 2.06-2.06.94z\"/><path d=\"M17.41 7.96l-1.37-1.37c-.4-.4-.92-.59-1.43-.59-.52 0-1.04.2-1.43.59L10.3 9.45l-7.72 7.72c-.78.78-.78 2.05 0 2.83L4 21.41c.39.39.9.59 1.41.59.51 0 1.02-.2 1.41-.59l7.78-7.78 2.81-2.81c.8-.78.8-2.07 0-2.86zM5.41 20L4 18.59l7.72-7.72 1.47 1.35L5.41 20z\"/>\n",
              "  </svg>\n",
              "      </button>\n",
              "      \n",
              "  <style>\n",
              "    .colab-df-container {\n",
              "      display:flex;\n",
              "      flex-wrap:wrap;\n",
              "      gap: 12px;\n",
              "    }\n",
              "\n",
              "    .colab-df-convert {\n",
              "      background-color: #E8F0FE;\n",
              "      border: none;\n",
              "      border-radius: 50%;\n",
              "      cursor: pointer;\n",
              "      display: none;\n",
              "      fill: #1967D2;\n",
              "      height: 32px;\n",
              "      padding: 0 0 0 0;\n",
              "      width: 32px;\n",
              "    }\n",
              "\n",
              "    .colab-df-convert:hover {\n",
              "      background-color: #E2EBFA;\n",
              "      box-shadow: 0px 1px 2px rgba(60, 64, 67, 0.3), 0px 1px 3px 1px rgba(60, 64, 67, 0.15);\n",
              "      fill: #174EA6;\n",
              "    }\n",
              "\n",
              "    [theme=dark] .colab-df-convert {\n",
              "      background-color: #3B4455;\n",
              "      fill: #D2E3FC;\n",
              "    }\n",
              "\n",
              "    [theme=dark] .colab-df-convert:hover {\n",
              "      background-color: #434B5C;\n",
              "      box-shadow: 0px 1px 3px 1px rgba(0, 0, 0, 0.15);\n",
              "      filter: drop-shadow(0px 1px 2px rgba(0, 0, 0, 0.3));\n",
              "      fill: #FFFFFF;\n",
              "    }\n",
              "  </style>\n",
              "\n",
              "      <script>\n",
              "        const buttonEl =\n",
              "          document.querySelector('#df-24a8f134-3176-40a5-9e3f-3209278c056b button.colab-df-convert');\n",
              "        buttonEl.style.display =\n",
              "          google.colab.kernel.accessAllowed ? 'block' : 'none';\n",
              "\n",
              "        async function convertToInteractive(key) {\n",
              "          const element = document.querySelector('#df-24a8f134-3176-40a5-9e3f-3209278c056b');\n",
              "          const dataTable =\n",
              "            await google.colab.kernel.invokeFunction('convertToInteractive',\n",
              "                                                     [key], {});\n",
              "          if (!dataTable) return;\n",
              "\n",
              "          const docLinkHtml = 'Like what you see? Visit the ' +\n",
              "            '<a target=\"_blank\" href=https://colab.research.google.com/notebooks/data_table.ipynb>data table notebook</a>'\n",
              "            + ' to learn more about interactive tables.';\n",
              "          element.innerHTML = '';\n",
              "          dataTable['output_type'] = 'display_data';\n",
              "          await google.colab.output.renderOutput(dataTable, element);\n",
              "          const docLink = document.createElement('div');\n",
              "          docLink.innerHTML = docLinkHtml;\n",
              "          element.appendChild(docLink);\n",
              "        }\n",
              "      </script>\n",
              "    </div>\n",
              "  </div>\n",
              "  "
            ]
          },
          "metadata": {},
          "execution_count": 29
        }
      ]
    },
    {
      "cell_type": "markdown",
      "source": [
        "**Convert Booking date to Date Only**"
      ],
      "metadata": {
        "id": "_GfJ7EACTPSl"
      }
    },
    {
      "cell_type": "code",
      "source": [
        "df_new['BOOKING_DATE'] = pd.to_datetime(df_new['BOOKING_DATE'])"
      ],
      "metadata": {
        "id": "tp76yxgKchm8"
      },
      "execution_count": 30,
      "outputs": []
    },
    {
      "cell_type": "markdown",
      "source": [
        "**Convert Last Date Account was credited to Date Only**"
      ],
      "metadata": {
        "id": "dW641XwFTaUe"
      }
    },
    {
      "cell_type": "code",
      "source": [
        "df_new['DATE_LAST_CR_CUST'] = pd.to_datetime(df_new['DATE_LAST_CR_CUST'])"
      ],
      "metadata": {
        "id": "RHUxZOKu8XFP"
      },
      "execution_count": 31,
      "outputs": []
    },
    {
      "cell_type": "code",
      "source": [
        "#Recency = Latest Date - Last Inovice Data, Frequency = count of invoice no. of transaction(s), Monetary = Sum of Total \n",
        "#Amount for each customer\n",
        "import datetime as dt\n",
        "\n",
        "#Set Latest date 2022-08-12 as last invoice date was 2011-12-09. This is to calculate the number of days from recent purchase\n",
        "#Latest_Date = dt.datetime(2022,8,11)"
      ],
      "metadata": {
        "id": "HvkzDAaR9omw"
      },
      "execution_count": 32,
      "outputs": []
    },
    {
      "cell_type": "code",
      "source": [
        "df_recency = df_new.groupby(by='CUSTOMER_ID',\n",
        "                        as_index=False)['DATE_LAST_CR_CUST'].max()"
      ],
      "metadata": {
        "id": "uiruih5-9WDo"
      },
      "execution_count": 33,
      "outputs": []
    },
    {
      "cell_type": "code",
      "source": [
        "import datetime as dt\n",
        "Latest_Date = dt.datetime(2022,8,12)\n",
        "df_recency.columns = ['CUSTOMER_ID', 'DATE_LAST_CR_CUST']"
      ],
      "metadata": {
        "id": "QRFNaKftXKaW"
      },
      "execution_count": 34,
      "outputs": []
    },
    {
      "cell_type": "code",
      "source": [
        "df_recency['Recency'] = df_recency['DATE_LAST_CR_CUST'].apply(\n",
        "    lambda x: (Latest_Date - x).days)"
      ],
      "metadata": {
        "id": "7ox7LMOZbhmk"
      },
      "execution_count": 35,
      "outputs": []
    },
    {
      "cell_type": "markdown",
      "source": [
        "**Calculate Customer's recency**"
      ],
      "metadata": {
        "id": "xcldwTaOS4Vg"
      }
    },
    {
      "cell_type": "code",
      "source": [
        "df_recency.head()"
      ],
      "metadata": {
        "colab": {
          "base_uri": "https://localhost:8080/",
          "height": 206
        },
        "id": "cerzUL17dD18",
        "outputId": "a82f2e32-a19e-4c98-82c9-393222610c95"
      },
      "execution_count": 36,
      "outputs": [
        {
          "output_type": "execute_result",
          "data": {
            "text/plain": [
              "   CUSTOMER_ID DATE_LAST_CR_CUST  Recency\n",
              "0      10001.0        2022-08-10        2\n",
              "1      10011.0        2022-08-10        2\n",
              "2     100000.0        2013-05-07     3384\n",
              "3     100002.0        2020-06-18      785\n",
              "4     100004.0        2013-06-03     3357"
            ],
            "text/html": [
              "\n",
              "  <div id=\"df-89735823-5c49-4af7-bfe6-44e7c4817d27\">\n",
              "    <div class=\"colab-df-container\">\n",
              "      <div>\n",
              "<style scoped>\n",
              "    .dataframe tbody tr th:only-of-type {\n",
              "        vertical-align: middle;\n",
              "    }\n",
              "\n",
              "    .dataframe tbody tr th {\n",
              "        vertical-align: top;\n",
              "    }\n",
              "\n",
              "    .dataframe thead th {\n",
              "        text-align: right;\n",
              "    }\n",
              "</style>\n",
              "<table border=\"1\" class=\"dataframe\">\n",
              "  <thead>\n",
              "    <tr style=\"text-align: right;\">\n",
              "      <th></th>\n",
              "      <th>CUSTOMER_ID</th>\n",
              "      <th>DATE_LAST_CR_CUST</th>\n",
              "      <th>Recency</th>\n",
              "    </tr>\n",
              "  </thead>\n",
              "  <tbody>\n",
              "    <tr>\n",
              "      <th>0</th>\n",
              "      <td>10001.0</td>\n",
              "      <td>2022-08-10</td>\n",
              "      <td>2</td>\n",
              "    </tr>\n",
              "    <tr>\n",
              "      <th>1</th>\n",
              "      <td>10011.0</td>\n",
              "      <td>2022-08-10</td>\n",
              "      <td>2</td>\n",
              "    </tr>\n",
              "    <tr>\n",
              "      <th>2</th>\n",
              "      <td>100000.0</td>\n",
              "      <td>2013-05-07</td>\n",
              "      <td>3384</td>\n",
              "    </tr>\n",
              "    <tr>\n",
              "      <th>3</th>\n",
              "      <td>100002.0</td>\n",
              "      <td>2020-06-18</td>\n",
              "      <td>785</td>\n",
              "    </tr>\n",
              "    <tr>\n",
              "      <th>4</th>\n",
              "      <td>100004.0</td>\n",
              "      <td>2013-06-03</td>\n",
              "      <td>3357</td>\n",
              "    </tr>\n",
              "  </tbody>\n",
              "</table>\n",
              "</div>\n",
              "      <button class=\"colab-df-convert\" onclick=\"convertToInteractive('df-89735823-5c49-4af7-bfe6-44e7c4817d27')\"\n",
              "              title=\"Convert this dataframe to an interactive table.\"\n",
              "              style=\"display:none;\">\n",
              "        \n",
              "  <svg xmlns=\"http://www.w3.org/2000/svg\" height=\"24px\"viewBox=\"0 0 24 24\"\n",
              "       width=\"24px\">\n",
              "    <path d=\"M0 0h24v24H0V0z\" fill=\"none\"/>\n",
              "    <path d=\"M18.56 5.44l.94 2.06.94-2.06 2.06-.94-2.06-.94-.94-2.06-.94 2.06-2.06.94zm-11 1L8.5 8.5l.94-2.06 2.06-.94-2.06-.94L8.5 2.5l-.94 2.06-2.06.94zm10 10l.94 2.06.94-2.06 2.06-.94-2.06-.94-.94-2.06-.94 2.06-2.06.94z\"/><path d=\"M17.41 7.96l-1.37-1.37c-.4-.4-.92-.59-1.43-.59-.52 0-1.04.2-1.43.59L10.3 9.45l-7.72 7.72c-.78.78-.78 2.05 0 2.83L4 21.41c.39.39.9.59 1.41.59.51 0 1.02-.2 1.41-.59l7.78-7.78 2.81-2.81c.8-.78.8-2.07 0-2.86zM5.41 20L4 18.59l7.72-7.72 1.47 1.35L5.41 20z\"/>\n",
              "  </svg>\n",
              "      </button>\n",
              "      \n",
              "  <style>\n",
              "    .colab-df-container {\n",
              "      display:flex;\n",
              "      flex-wrap:wrap;\n",
              "      gap: 12px;\n",
              "    }\n",
              "\n",
              "    .colab-df-convert {\n",
              "      background-color: #E8F0FE;\n",
              "      border: none;\n",
              "      border-radius: 50%;\n",
              "      cursor: pointer;\n",
              "      display: none;\n",
              "      fill: #1967D2;\n",
              "      height: 32px;\n",
              "      padding: 0 0 0 0;\n",
              "      width: 32px;\n",
              "    }\n",
              "\n",
              "    .colab-df-convert:hover {\n",
              "      background-color: #E2EBFA;\n",
              "      box-shadow: 0px 1px 2px rgba(60, 64, 67, 0.3), 0px 1px 3px 1px rgba(60, 64, 67, 0.15);\n",
              "      fill: #174EA6;\n",
              "    }\n",
              "\n",
              "    [theme=dark] .colab-df-convert {\n",
              "      background-color: #3B4455;\n",
              "      fill: #D2E3FC;\n",
              "    }\n",
              "\n",
              "    [theme=dark] .colab-df-convert:hover {\n",
              "      background-color: #434B5C;\n",
              "      box-shadow: 0px 1px 3px 1px rgba(0, 0, 0, 0.15);\n",
              "      filter: drop-shadow(0px 1px 2px rgba(0, 0, 0, 0.3));\n",
              "      fill: #FFFFFF;\n",
              "    }\n",
              "  </style>\n",
              "\n",
              "      <script>\n",
              "        const buttonEl =\n",
              "          document.querySelector('#df-89735823-5c49-4af7-bfe6-44e7c4817d27 button.colab-df-convert');\n",
              "        buttonEl.style.display =\n",
              "          google.colab.kernel.accessAllowed ? 'block' : 'none';\n",
              "\n",
              "        async function convertToInteractive(key) {\n",
              "          const element = document.querySelector('#df-89735823-5c49-4af7-bfe6-44e7c4817d27');\n",
              "          const dataTable =\n",
              "            await google.colab.kernel.invokeFunction('convertToInteractive',\n",
              "                                                     [key], {});\n",
              "          if (!dataTable) return;\n",
              "\n",
              "          const docLinkHtml = 'Like what you see? Visit the ' +\n",
              "            '<a target=\"_blank\" href=https://colab.research.google.com/notebooks/data_table.ipynb>data table notebook</a>'\n",
              "            + ' to learn more about interactive tables.';\n",
              "          element.innerHTML = '';\n",
              "          dataTable['output_type'] = 'display_data';\n",
              "          await google.colab.output.renderOutput(dataTable, element);\n",
              "          const docLink = document.createElement('div');\n",
              "          docLink.innerHTML = docLinkHtml;\n",
              "          element.appendChild(docLink);\n",
              "        }\n",
              "      </script>\n",
              "    </div>\n",
              "  </div>\n",
              "  "
            ]
          },
          "metadata": {},
          "execution_count": 36
        }
      ]
    },
    {
      "cell_type": "markdown",
      "source": [
        "**Calculate customers Frequency**"
      ],
      "metadata": {
        "id": "74HPJ4nZSpm3"
      }
    },
    {
      "cell_type": "code",
      "source": [
        "frequency_df = df_new.drop_duplicates().groupby(\n",
        "    by=['CUSTOMER_ID'], as_index=False)['RECID'].count()\n",
        "frequency_df.columns = ['CUSTOMER_ID', 'Frequency']\n",
        "frequency_df.head()"
      ],
      "metadata": {
        "colab": {
          "base_uri": "https://localhost:8080/",
          "height": 206
        },
        "id": "_gQeA7A6NbHD",
        "outputId": "894503d0-7815-43aa-c859-07335be3f073"
      },
      "execution_count": 37,
      "outputs": [
        {
          "output_type": "execute_result",
          "data": {
            "text/plain": [
              "   CUSTOMER_ID  Frequency\n",
              "0      10001.0       2067\n",
              "1      10011.0       1369\n",
              "2     100000.0          5\n",
              "3     100002.0          5\n",
              "4     100004.0          5"
            ],
            "text/html": [
              "\n",
              "  <div id=\"df-a78c6b33-bd5f-4a42-8b62-5466a20293db\">\n",
              "    <div class=\"colab-df-container\">\n",
              "      <div>\n",
              "<style scoped>\n",
              "    .dataframe tbody tr th:only-of-type {\n",
              "        vertical-align: middle;\n",
              "    }\n",
              "\n",
              "    .dataframe tbody tr th {\n",
              "        vertical-align: top;\n",
              "    }\n",
              "\n",
              "    .dataframe thead th {\n",
              "        text-align: right;\n",
              "    }\n",
              "</style>\n",
              "<table border=\"1\" class=\"dataframe\">\n",
              "  <thead>\n",
              "    <tr style=\"text-align: right;\">\n",
              "      <th></th>\n",
              "      <th>CUSTOMER_ID</th>\n",
              "      <th>Frequency</th>\n",
              "    </tr>\n",
              "  </thead>\n",
              "  <tbody>\n",
              "    <tr>\n",
              "      <th>0</th>\n",
              "      <td>10001.0</td>\n",
              "      <td>2067</td>\n",
              "    </tr>\n",
              "    <tr>\n",
              "      <th>1</th>\n",
              "      <td>10011.0</td>\n",
              "      <td>1369</td>\n",
              "    </tr>\n",
              "    <tr>\n",
              "      <th>2</th>\n",
              "      <td>100000.0</td>\n",
              "      <td>5</td>\n",
              "    </tr>\n",
              "    <tr>\n",
              "      <th>3</th>\n",
              "      <td>100002.0</td>\n",
              "      <td>5</td>\n",
              "    </tr>\n",
              "    <tr>\n",
              "      <th>4</th>\n",
              "      <td>100004.0</td>\n",
              "      <td>5</td>\n",
              "    </tr>\n",
              "  </tbody>\n",
              "</table>\n",
              "</div>\n",
              "      <button class=\"colab-df-convert\" onclick=\"convertToInteractive('df-a78c6b33-bd5f-4a42-8b62-5466a20293db')\"\n",
              "              title=\"Convert this dataframe to an interactive table.\"\n",
              "              style=\"display:none;\">\n",
              "        \n",
              "  <svg xmlns=\"http://www.w3.org/2000/svg\" height=\"24px\"viewBox=\"0 0 24 24\"\n",
              "       width=\"24px\">\n",
              "    <path d=\"M0 0h24v24H0V0z\" fill=\"none\"/>\n",
              "    <path d=\"M18.56 5.44l.94 2.06.94-2.06 2.06-.94-2.06-.94-.94-2.06-.94 2.06-2.06.94zm-11 1L8.5 8.5l.94-2.06 2.06-.94-2.06-.94L8.5 2.5l-.94 2.06-2.06.94zm10 10l.94 2.06.94-2.06 2.06-.94-2.06-.94-.94-2.06-.94 2.06-2.06.94z\"/><path d=\"M17.41 7.96l-1.37-1.37c-.4-.4-.92-.59-1.43-.59-.52 0-1.04.2-1.43.59L10.3 9.45l-7.72 7.72c-.78.78-.78 2.05 0 2.83L4 21.41c.39.39.9.59 1.41.59.51 0 1.02-.2 1.41-.59l7.78-7.78 2.81-2.81c.8-.78.8-2.07 0-2.86zM5.41 20L4 18.59l7.72-7.72 1.47 1.35L5.41 20z\"/>\n",
              "  </svg>\n",
              "      </button>\n",
              "      \n",
              "  <style>\n",
              "    .colab-df-container {\n",
              "      display:flex;\n",
              "      flex-wrap:wrap;\n",
              "      gap: 12px;\n",
              "    }\n",
              "\n",
              "    .colab-df-convert {\n",
              "      background-color: #E8F0FE;\n",
              "      border: none;\n",
              "      border-radius: 50%;\n",
              "      cursor: pointer;\n",
              "      display: none;\n",
              "      fill: #1967D2;\n",
              "      height: 32px;\n",
              "      padding: 0 0 0 0;\n",
              "      width: 32px;\n",
              "    }\n",
              "\n",
              "    .colab-df-convert:hover {\n",
              "      background-color: #E2EBFA;\n",
              "      box-shadow: 0px 1px 2px rgba(60, 64, 67, 0.3), 0px 1px 3px 1px rgba(60, 64, 67, 0.15);\n",
              "      fill: #174EA6;\n",
              "    }\n",
              "\n",
              "    [theme=dark] .colab-df-convert {\n",
              "      background-color: #3B4455;\n",
              "      fill: #D2E3FC;\n",
              "    }\n",
              "\n",
              "    [theme=dark] .colab-df-convert:hover {\n",
              "      background-color: #434B5C;\n",
              "      box-shadow: 0px 1px 3px 1px rgba(0, 0, 0, 0.15);\n",
              "      filter: drop-shadow(0px 1px 2px rgba(0, 0, 0, 0.3));\n",
              "      fill: #FFFFFF;\n",
              "    }\n",
              "  </style>\n",
              "\n",
              "      <script>\n",
              "        const buttonEl =\n",
              "          document.querySelector('#df-a78c6b33-bd5f-4a42-8b62-5466a20293db button.colab-df-convert');\n",
              "        buttonEl.style.display =\n",
              "          google.colab.kernel.accessAllowed ? 'block' : 'none';\n",
              "\n",
              "        async function convertToInteractive(key) {\n",
              "          const element = document.querySelector('#df-a78c6b33-bd5f-4a42-8b62-5466a20293db');\n",
              "          const dataTable =\n",
              "            await google.colab.kernel.invokeFunction('convertToInteractive',\n",
              "                                                     [key], {});\n",
              "          if (!dataTable) return;\n",
              "\n",
              "          const docLinkHtml = 'Like what you see? Visit the ' +\n",
              "            '<a target=\"_blank\" href=https://colab.research.google.com/notebooks/data_table.ipynb>data table notebook</a>'\n",
              "            + ' to learn more about interactive tables.';\n",
              "          element.innerHTML = '';\n",
              "          dataTable['output_type'] = 'display_data';\n",
              "          await google.colab.output.renderOutput(dataTable, element);\n",
              "          const docLink = document.createElement('div');\n",
              "          docLink.innerHTML = docLinkHtml;\n",
              "          element.appendChild(docLink);\n",
              "        }\n",
              "      </script>\n",
              "    </div>\n",
              "  </div>\n",
              "  "
            ]
          },
          "metadata": {},
          "execution_count": 37
        }
      ]
    },
    {
      "cell_type": "markdown",
      "source": [
        "**Calculate Monetary value for Customers**"
      ],
      "metadata": {
        "id": "v_EuqesMSXg_"
      }
    },
    {
      "cell_type": "code",
      "source": [
        "\n",
        "#monetary_df = df_new.groupby(by='CUSTOMER_ID', as_index=False).['AMOUNT_LCY'].sum()\n",
        "monetary_df = df_new.groupby(by='CUSTOMER_ID', as_index=False)['AMOUNT_LCY'].sum()\n",
        "monetary_df.columns = ['CUSTOMER_ID', 'Monetary']\n",
        "\n",
        "monetary_df.head()\n"
      ],
      "metadata": {
        "id": "TJVzI3SFOLMb",
        "colab": {
          "base_uri": "https://localhost:8080/",
          "height": 206
        },
        "outputId": "f13e956f-7f05-4a6f-887a-5f7fd0ee3200"
      },
      "execution_count": 38,
      "outputs": [
        {
          "output_type": "execute_result",
          "data": {
            "text/plain": [
              "   CUSTOMER_ID      Monetary\n",
              "0      10001.0  1.181410e+12\n",
              "1      10011.0  2.915409e+11\n",
              "2     100000.0  3.529000e+01\n",
              "3     100002.0  5.770000e+00\n",
              "4     100004.0  7.540000e+00"
            ],
            "text/html": [
              "\n",
              "  <div id=\"df-a90533f7-9a76-4fd2-93a6-eca40a8b7b8e\">\n",
              "    <div class=\"colab-df-container\">\n",
              "      <div>\n",
              "<style scoped>\n",
              "    .dataframe tbody tr th:only-of-type {\n",
              "        vertical-align: middle;\n",
              "    }\n",
              "\n",
              "    .dataframe tbody tr th {\n",
              "        vertical-align: top;\n",
              "    }\n",
              "\n",
              "    .dataframe thead th {\n",
              "        text-align: right;\n",
              "    }\n",
              "</style>\n",
              "<table border=\"1\" class=\"dataframe\">\n",
              "  <thead>\n",
              "    <tr style=\"text-align: right;\">\n",
              "      <th></th>\n",
              "      <th>CUSTOMER_ID</th>\n",
              "      <th>Monetary</th>\n",
              "    </tr>\n",
              "  </thead>\n",
              "  <tbody>\n",
              "    <tr>\n",
              "      <th>0</th>\n",
              "      <td>10001.0</td>\n",
              "      <td>1.181410e+12</td>\n",
              "    </tr>\n",
              "    <tr>\n",
              "      <th>1</th>\n",
              "      <td>10011.0</td>\n",
              "      <td>2.915409e+11</td>\n",
              "    </tr>\n",
              "    <tr>\n",
              "      <th>2</th>\n",
              "      <td>100000.0</td>\n",
              "      <td>3.529000e+01</td>\n",
              "    </tr>\n",
              "    <tr>\n",
              "      <th>3</th>\n",
              "      <td>100002.0</td>\n",
              "      <td>5.770000e+00</td>\n",
              "    </tr>\n",
              "    <tr>\n",
              "      <th>4</th>\n",
              "      <td>100004.0</td>\n",
              "      <td>7.540000e+00</td>\n",
              "    </tr>\n",
              "  </tbody>\n",
              "</table>\n",
              "</div>\n",
              "      <button class=\"colab-df-convert\" onclick=\"convertToInteractive('df-a90533f7-9a76-4fd2-93a6-eca40a8b7b8e')\"\n",
              "              title=\"Convert this dataframe to an interactive table.\"\n",
              "              style=\"display:none;\">\n",
              "        \n",
              "  <svg xmlns=\"http://www.w3.org/2000/svg\" height=\"24px\"viewBox=\"0 0 24 24\"\n",
              "       width=\"24px\">\n",
              "    <path d=\"M0 0h24v24H0V0z\" fill=\"none\"/>\n",
              "    <path d=\"M18.56 5.44l.94 2.06.94-2.06 2.06-.94-2.06-.94-.94-2.06-.94 2.06-2.06.94zm-11 1L8.5 8.5l.94-2.06 2.06-.94-2.06-.94L8.5 2.5l-.94 2.06-2.06.94zm10 10l.94 2.06.94-2.06 2.06-.94-2.06-.94-.94-2.06-.94 2.06-2.06.94z\"/><path d=\"M17.41 7.96l-1.37-1.37c-.4-.4-.92-.59-1.43-.59-.52 0-1.04.2-1.43.59L10.3 9.45l-7.72 7.72c-.78.78-.78 2.05 0 2.83L4 21.41c.39.39.9.59 1.41.59.51 0 1.02-.2 1.41-.59l7.78-7.78 2.81-2.81c.8-.78.8-2.07 0-2.86zM5.41 20L4 18.59l7.72-7.72 1.47 1.35L5.41 20z\"/>\n",
              "  </svg>\n",
              "      </button>\n",
              "      \n",
              "  <style>\n",
              "    .colab-df-container {\n",
              "      display:flex;\n",
              "      flex-wrap:wrap;\n",
              "      gap: 12px;\n",
              "    }\n",
              "\n",
              "    .colab-df-convert {\n",
              "      background-color: #E8F0FE;\n",
              "      border: none;\n",
              "      border-radius: 50%;\n",
              "      cursor: pointer;\n",
              "      display: none;\n",
              "      fill: #1967D2;\n",
              "      height: 32px;\n",
              "      padding: 0 0 0 0;\n",
              "      width: 32px;\n",
              "    }\n",
              "\n",
              "    .colab-df-convert:hover {\n",
              "      background-color: #E2EBFA;\n",
              "      box-shadow: 0px 1px 2px rgba(60, 64, 67, 0.3), 0px 1px 3px 1px rgba(60, 64, 67, 0.15);\n",
              "      fill: #174EA6;\n",
              "    }\n",
              "\n",
              "    [theme=dark] .colab-df-convert {\n",
              "      background-color: #3B4455;\n",
              "      fill: #D2E3FC;\n",
              "    }\n",
              "\n",
              "    [theme=dark] .colab-df-convert:hover {\n",
              "      background-color: #434B5C;\n",
              "      box-shadow: 0px 1px 3px 1px rgba(0, 0, 0, 0.15);\n",
              "      filter: drop-shadow(0px 1px 2px rgba(0, 0, 0, 0.3));\n",
              "      fill: #FFFFFF;\n",
              "    }\n",
              "  </style>\n",
              "\n",
              "      <script>\n",
              "        const buttonEl =\n",
              "          document.querySelector('#df-a90533f7-9a76-4fd2-93a6-eca40a8b7b8e button.colab-df-convert');\n",
              "        buttonEl.style.display =\n",
              "          google.colab.kernel.accessAllowed ? 'block' : 'none';\n",
              "\n",
              "        async function convertToInteractive(key) {\n",
              "          const element = document.querySelector('#df-a90533f7-9a76-4fd2-93a6-eca40a8b7b8e');\n",
              "          const dataTable =\n",
              "            await google.colab.kernel.invokeFunction('convertToInteractive',\n",
              "                                                     [key], {});\n",
              "          if (!dataTable) return;\n",
              "\n",
              "          const docLinkHtml = 'Like what you see? Visit the ' +\n",
              "            '<a target=\"_blank\" href=https://colab.research.google.com/notebooks/data_table.ipynb>data table notebook</a>'\n",
              "            + ' to learn more about interactive tables.';\n",
              "          element.innerHTML = '';\n",
              "          dataTable['output_type'] = 'display_data';\n",
              "          await google.colab.output.renderOutput(dataTable, element);\n",
              "          const docLink = document.createElement('div');\n",
              "          docLink.innerHTML = docLinkHtml;\n",
              "          element.appendChild(docLink);\n",
              "        }\n",
              "      </script>\n",
              "    </div>\n",
              "  </div>\n",
              "  "
            ]
          },
          "metadata": {},
          "execution_count": 38
        }
      ]
    },
    {
      "cell_type": "code",
      "source": [
        "#df3=monetary_df['Monetary']\n",
        "\n",
        "#rev_list=[round(x,-6) for x in df3]"
      ],
      "metadata": {
        "id": "0gD8O1MyxoNX"
      },
      "execution_count": null,
      "outputs": []
    },
    {
      "cell_type": "code",
      "source": [
        "rf_df = df_recency.merge(frequency_df, on='CUSTOMER_ID')\n",
        "rfm_df = rf_df.merge(monetary_df, on='CUSTOMER_ID').drop(\n",
        "\tcolumns='DATE_LAST_CR_CUST')\n",
        "rfm_df.head()\n"
      ],
      "metadata": {
        "colab": {
          "base_uri": "https://localhost:8080/",
          "height": 206
        },
        "id": "c_NqbYl_QFJ_",
        "outputId": "e66299c8-0e53-413b-ea13-2395713be18c"
      },
      "execution_count": 39,
      "outputs": [
        {
          "output_type": "execute_result",
          "data": {
            "text/plain": [
              "   CUSTOMER_ID  Recency  Frequency      Monetary\n",
              "0      10001.0        2       2067  1.181410e+12\n",
              "1      10011.0        2       1369  2.915409e+11\n",
              "2     100000.0     3384          5  3.529000e+01\n",
              "3     100002.0      785          5  5.770000e+00\n",
              "4     100004.0     3357          5  7.540000e+00"
            ],
            "text/html": [
              "\n",
              "  <div id=\"df-e8e4f548-6d17-4b6a-aca8-8811afa098b9\">\n",
              "    <div class=\"colab-df-container\">\n",
              "      <div>\n",
              "<style scoped>\n",
              "    .dataframe tbody tr th:only-of-type {\n",
              "        vertical-align: middle;\n",
              "    }\n",
              "\n",
              "    .dataframe tbody tr th {\n",
              "        vertical-align: top;\n",
              "    }\n",
              "\n",
              "    .dataframe thead th {\n",
              "        text-align: right;\n",
              "    }\n",
              "</style>\n",
              "<table border=\"1\" class=\"dataframe\">\n",
              "  <thead>\n",
              "    <tr style=\"text-align: right;\">\n",
              "      <th></th>\n",
              "      <th>CUSTOMER_ID</th>\n",
              "      <th>Recency</th>\n",
              "      <th>Frequency</th>\n",
              "      <th>Monetary</th>\n",
              "    </tr>\n",
              "  </thead>\n",
              "  <tbody>\n",
              "    <tr>\n",
              "      <th>0</th>\n",
              "      <td>10001.0</td>\n",
              "      <td>2</td>\n",
              "      <td>2067</td>\n",
              "      <td>1.181410e+12</td>\n",
              "    </tr>\n",
              "    <tr>\n",
              "      <th>1</th>\n",
              "      <td>10011.0</td>\n",
              "      <td>2</td>\n",
              "      <td>1369</td>\n",
              "      <td>2.915409e+11</td>\n",
              "    </tr>\n",
              "    <tr>\n",
              "      <th>2</th>\n",
              "      <td>100000.0</td>\n",
              "      <td>3384</td>\n",
              "      <td>5</td>\n",
              "      <td>3.529000e+01</td>\n",
              "    </tr>\n",
              "    <tr>\n",
              "      <th>3</th>\n",
              "      <td>100002.0</td>\n",
              "      <td>785</td>\n",
              "      <td>5</td>\n",
              "      <td>5.770000e+00</td>\n",
              "    </tr>\n",
              "    <tr>\n",
              "      <th>4</th>\n",
              "      <td>100004.0</td>\n",
              "      <td>3357</td>\n",
              "      <td>5</td>\n",
              "      <td>7.540000e+00</td>\n",
              "    </tr>\n",
              "  </tbody>\n",
              "</table>\n",
              "</div>\n",
              "      <button class=\"colab-df-convert\" onclick=\"convertToInteractive('df-e8e4f548-6d17-4b6a-aca8-8811afa098b9')\"\n",
              "              title=\"Convert this dataframe to an interactive table.\"\n",
              "              style=\"display:none;\">\n",
              "        \n",
              "  <svg xmlns=\"http://www.w3.org/2000/svg\" height=\"24px\"viewBox=\"0 0 24 24\"\n",
              "       width=\"24px\">\n",
              "    <path d=\"M0 0h24v24H0V0z\" fill=\"none\"/>\n",
              "    <path d=\"M18.56 5.44l.94 2.06.94-2.06 2.06-.94-2.06-.94-.94-2.06-.94 2.06-2.06.94zm-11 1L8.5 8.5l.94-2.06 2.06-.94-2.06-.94L8.5 2.5l-.94 2.06-2.06.94zm10 10l.94 2.06.94-2.06 2.06-.94-2.06-.94-.94-2.06-.94 2.06-2.06.94z\"/><path d=\"M17.41 7.96l-1.37-1.37c-.4-.4-.92-.59-1.43-.59-.52 0-1.04.2-1.43.59L10.3 9.45l-7.72 7.72c-.78.78-.78 2.05 0 2.83L4 21.41c.39.39.9.59 1.41.59.51 0 1.02-.2 1.41-.59l7.78-7.78 2.81-2.81c.8-.78.8-2.07 0-2.86zM5.41 20L4 18.59l7.72-7.72 1.47 1.35L5.41 20z\"/>\n",
              "  </svg>\n",
              "      </button>\n",
              "      \n",
              "  <style>\n",
              "    .colab-df-container {\n",
              "      display:flex;\n",
              "      flex-wrap:wrap;\n",
              "      gap: 12px;\n",
              "    }\n",
              "\n",
              "    .colab-df-convert {\n",
              "      background-color: #E8F0FE;\n",
              "      border: none;\n",
              "      border-radius: 50%;\n",
              "      cursor: pointer;\n",
              "      display: none;\n",
              "      fill: #1967D2;\n",
              "      height: 32px;\n",
              "      padding: 0 0 0 0;\n",
              "      width: 32px;\n",
              "    }\n",
              "\n",
              "    .colab-df-convert:hover {\n",
              "      background-color: #E2EBFA;\n",
              "      box-shadow: 0px 1px 2px rgba(60, 64, 67, 0.3), 0px 1px 3px 1px rgba(60, 64, 67, 0.15);\n",
              "      fill: #174EA6;\n",
              "    }\n",
              "\n",
              "    [theme=dark] .colab-df-convert {\n",
              "      background-color: #3B4455;\n",
              "      fill: #D2E3FC;\n",
              "    }\n",
              "\n",
              "    [theme=dark] .colab-df-convert:hover {\n",
              "      background-color: #434B5C;\n",
              "      box-shadow: 0px 1px 3px 1px rgba(0, 0, 0, 0.15);\n",
              "      filter: drop-shadow(0px 1px 2px rgba(0, 0, 0, 0.3));\n",
              "      fill: #FFFFFF;\n",
              "    }\n",
              "  </style>\n",
              "\n",
              "      <script>\n",
              "        const buttonEl =\n",
              "          document.querySelector('#df-e8e4f548-6d17-4b6a-aca8-8811afa098b9 button.colab-df-convert');\n",
              "        buttonEl.style.display =\n",
              "          google.colab.kernel.accessAllowed ? 'block' : 'none';\n",
              "\n",
              "        async function convertToInteractive(key) {\n",
              "          const element = document.querySelector('#df-e8e4f548-6d17-4b6a-aca8-8811afa098b9');\n",
              "          const dataTable =\n",
              "            await google.colab.kernel.invokeFunction('convertToInteractive',\n",
              "                                                     [key], {});\n",
              "          if (!dataTable) return;\n",
              "\n",
              "          const docLinkHtml = 'Like what you see? Visit the ' +\n",
              "            '<a target=\"_blank\" href=https://colab.research.google.com/notebooks/data_table.ipynb>data table notebook</a>'\n",
              "            + ' to learn more about interactive tables.';\n",
              "          element.innerHTML = '';\n",
              "          dataTable['output_type'] = 'display_data';\n",
              "          await google.colab.output.renderOutput(dataTable, element);\n",
              "          const docLink = document.createElement('div');\n",
              "          docLink.innerHTML = docLinkHtml;\n",
              "          element.appendChild(docLink);\n",
              "        }\n",
              "      </script>\n",
              "    </div>\n",
              "  </div>\n",
              "  "
            ]
          },
          "metadata": {},
          "execution_count": 39
        }
      ]
    },
    {
      "cell_type": "code",
      "source": [
        "rfm_df.shape"
      ],
      "metadata": {
        "colab": {
          "base_uri": "https://localhost:8080/"
        },
        "id": "lFYhC4dAQcaO",
        "outputId": "b7c93992-6949-42ee-9112-341b6b3057b6"
      },
      "execution_count": 40,
      "outputs": [
        {
          "output_type": "execute_result",
          "data": {
            "text/plain": [
              "(16055, 4)"
            ]
          },
          "metadata": {},
          "execution_count": 40
        }
      ]
    },
    {
      "cell_type": "code",
      "source": [
        "#Descriptive Statistics (Recency)\n",
        "rfm_df.Recency.describe()"
      ],
      "metadata": {
        "colab": {
          "base_uri": "https://localhost:8080/"
        },
        "id": "JKuoiflIkgKb",
        "outputId": "0e1019dd-e164-43f8-81db-c08987abba29"
      },
      "execution_count": 41,
      "outputs": [
        {
          "output_type": "execute_result",
          "data": {
            "text/plain": [
              "count    16055.000000\n",
              "mean      1444.660916\n",
              "std        952.438134\n",
              "min          1.000000\n",
              "25%        632.000000\n",
              "50%       1878.000000\n",
              "75%       2247.000000\n",
              "max       4986.000000\n",
              "Name: Recency, dtype: float64"
            ]
          },
          "metadata": {},
          "execution_count": 41
        }
      ]
    },
    {
      "cell_type": "code",
      "source": [
        "#Recency distribution plot\n",
        "import seaborn as sns\n",
        "x = rfm_df['Recency']\n",
        "\n",
        "ax = sns.distplot(x)"
      ],
      "metadata": {
        "colab": {
          "base_uri": "https://localhost:8080/",
          "height": 334
        },
        "id": "ezP34TI9k_Op",
        "outputId": "7cff68b5-72bd-48a8-a80b-19c0db27e17a"
      },
      "execution_count": 42,
      "outputs": [
        {
          "output_type": "stream",
          "name": "stderr",
          "text": [
            "/usr/local/lib/python3.7/dist-packages/seaborn/distributions.py:2619: FutureWarning: `distplot` is a deprecated function and will be removed in a future version. Please adapt your code to use either `displot` (a figure-level function with similar flexibility) or `histplot` (an axes-level function for histograms).\n",
            "  warnings.warn(msg, FutureWarning)\n"
          ]
        },
        {
          "output_type": "display_data",
          "data": {
            "text/plain": [
              "<Figure size 432x288 with 1 Axes>"
            ],
            "image/png": "[encoded data removed]"
          },
          "metadata": {
            "needs_background": "light"
          }
        }
      ]
    },
    {
      "cell_type": "code",
      "source": [
        "#Descriptive Statistics (Frequency)\n",
        "rfm_df.Frequency.describe()"
      ],
      "metadata": {
        "colab": {
          "base_uri": "https://localhost:8080/"
        },
        "id": "mtZJXGF-lNg9",
        "outputId": "e13bf700-21c6-46af-e684-a724cbe8aacb"
      },
      "execution_count": 43,
      "outputs": [
        {
          "output_type": "execute_result",
          "data": {
            "text/plain": [
              "count    16055.000000\n",
              "mean        11.964123\n",
              "std         43.909879\n",
              "min          1.000000\n",
              "25%          5.000000\n",
              "50%          5.000000\n",
              "75%          5.000000\n",
              "max       2565.000000\n",
              "Name: Frequency, dtype: float64"
            ]
          },
          "metadata": {},
          "execution_count": 43
        }
      ]
    },
    {
      "cell_type": "code",
      "source": [
        "#Frequency distribution plot\n",
        "import seaborn as sns\n",
        "x = rfm_df['Frequency']\n",
        "\n",
        "ax = sns.distplot(x)"
      ],
      "metadata": {
        "colab": {
          "base_uri": "https://localhost:8080/",
          "height": 334
        },
        "id": "M5KxP_bZlVCr",
        "outputId": "e80f39d1-310c-4aac-c9b5-624fa5a6131e"
      },
      "execution_count": 44,
      "outputs": [
        {
          "output_type": "stream",
          "name": "stderr",
          "text": [
            "/usr/local/lib/python3.7/dist-packages/seaborn/distributions.py:2619: FutureWarning: `distplot` is a deprecated function and will be removed in a future version. Please adapt your code to use either `displot` (a figure-level function with similar flexibility) or `histplot` (an axes-level function for histograms).\n",
            "  warnings.warn(msg, FutureWarning)\n"
          ]
        },
        {
          "output_type": "display_data",
          "data": {
            "text/plain": [
              "<Figure size 432x288 with 1 Axes>"
            ],
            "image/png": "[encoded data removed]"
          },
          "metadata": {
            "needs_background": "light"
          }
        }
      ]
    },
    {
      "cell_type": "code",
      "source": [
        "#Descriptive Statistics (Monetary)\n",
        "rfm_df.Monetary.describe()"
      ],
      "metadata": {
        "colab": {
          "base_uri": "https://localhost:8080/"
        },
        "id": "ufBXgiTKlzc7",
        "outputId": "d00ca03d-8e52-4545-c0b7-53dd0d178b16"
      },
      "execution_count": 45,
      "outputs": [
        {
          "output_type": "execute_result",
          "data": {
            "text/plain": [
              "count    1.605500e+04\n",
              "mean     9.529242e+07\n",
              "std      9.611309e+09\n",
              "min      1.000000e-02\n",
              "25%      5.200000e-01\n",
              "50%      4.740000e+00\n",
              "75%      1.115000e+01\n",
              "max      1.181410e+12\n",
              "Name: Monetary, dtype: float64"
            ]
          },
          "metadata": {},
          "execution_count": 45
        }
      ]
    },
    {
      "cell_type": "code",
      "source": [
        "#Monetary distribution plot\n",
        "import seaborn as sns\n",
        "x = rfm_df['Monetary']\n",
        "\n",
        "ax = sns.distplot(x)"
      ],
      "metadata": {
        "colab": {
          "base_uri": "https://localhost:8080/",
          "height": 345
        },
        "id": "xJaCMleZl-De",
        "outputId": "01455a8c-8ca7-41cc-cc79-534b5714d20f"
      },
      "execution_count": 46,
      "outputs": [
        {
          "output_type": "stream",
          "name": "stderr",
          "text": [
            "/usr/local/lib/python3.7/dist-packages/seaborn/distributions.py:2619: FutureWarning: `distplot` is a deprecated function and will be removed in a future version. Please adapt your code to use either `displot` (a figure-level function with similar flexibility) or `histplot` (an axes-level function for histograms).\n",
            "  warnings.warn(msg, FutureWarning)\n"
          ]
        },
        {
          "output_type": "display_data",
          "data": {
            "text/plain": [
              "<Figure size 432x288 with 1 Axes>"
            ],
            "image/png": "[encoded data removed]"
          },
          "metadata": {
            "needs_background": "light"
          }
        }
      ]
    },
    {
      "cell_type": "markdown",
      "source": [
        "Ranking Customer’s based upon their recency, frequency, and monetary score\n",
        "Here we are normalizing the rank of the customers within a company to analyze the ranking."
      ],
      "metadata": {
        "id": "x8tLngT0Qsgs"
      }
    },
    {
      "cell_type": "code",
      "source": [
        "rfm_df['R_rank'] = rfm_df['Recency'].rank(ascending=False)\n",
        "rfm_df['F_rank'] = rfm_df['Frequency'].rank(ascending=True)\n",
        "rfm_df['M_rank'] = rfm_df['Monetary'].rank(ascending=True)\n",
        "\n",
        "# normalizing the rank of the customers\n",
        "rfm_df['R_rank_norm'] = (rfm_df['R_rank']/rfm_df['R_rank'].max())*100\n",
        "rfm_df['F_rank_norm'] = (rfm_df['F_rank']/rfm_df['F_rank'].max())*100\n",
        "rfm_df['M_rank_norm'] = (rfm_df['F_rank']/rfm_df['M_rank'].max())*100\n",
        "\n",
        "rfm_df.drop(columns=['R_rank', 'F_rank', 'M_rank'], inplace=True)\n",
        "\n",
        "rfm_df.head()\n"
      ],
      "metadata": {
        "colab": {
          "base_uri": "https://localhost:8080/",
          "height": 206
        },
        "id": "51AKEVa3QpEF",
        "outputId": "9849c168-fefe-4746-e7a0-7e89255871f5"
      },
      "execution_count": 47,
      "outputs": [
        {
          "output_type": "execute_result",
          "data": {
            "text/plain": [
              "   CUSTOMER_ID  Recency  Frequency      Monetary  R_rank_norm  F_rank_norm  \\\n",
              "0      10001.0        2       2067  1.181410e+12    98.092796    99.993771   \n",
              "1      10011.0        2       1369  2.915409e+11    98.092796    99.981314   \n",
              "2     100000.0     3384          5  3.529000e+01     0.318909    42.292121   \n",
              "3     100002.0      785          5  5.770000e+00    67.271136    42.292121   \n",
              "4     100004.0     3357          5  7.540000e+00     0.325163    42.292121   \n",
              "\n",
              "   M_rank_norm  \n",
              "0    99.993771  \n",
              "1    99.981314  \n",
              "2    42.292121  \n",
              "3    42.292121  \n",
              "4    42.292121  "
            ],
            "text/html": [
              "\n",
              "  <div id=\"df-fb222631-fc76-46f5-88a3-09510b684a0e\">\n",
              "    <div class=\"colab-df-container\">\n",
              "      <div>\n",
              "<style scoped>\n",
              "    .dataframe tbody tr th:only-of-type {\n",
              "        vertical-align: middle;\n",
              "    }\n",
              "\n",
              "    .dataframe tbody tr th {\n",
              "        vertical-align: top;\n",
              "    }\n",
              "\n",
              "    .dataframe thead th {\n",
              "        text-align: right;\n",
              "    }\n",
              "</style>\n",
              "<table border=\"1\" class=\"dataframe\">\n",
              "  <thead>\n",
              "    <tr style=\"text-align: right;\">\n",
              "      <th></th>\n",
              "      <th>CUSTOMER_ID</th>\n",
              "      <th>Recency</th>\n",
              "      <th>Frequency</th>\n",
              "      <th>Monetary</th>\n",
              "      <th>R_rank_norm</th>\n",
              "      <th>F_rank_norm</th>\n",
              "      <th>M_rank_norm</th>\n",
              "    </tr>\n",
              "  </thead>\n",
              "  <tbody>\n",
              "    <tr>\n",
              "      <th>0</th>\n",
              "      <td>10001.0</td>\n",
              "      <td>2</td>\n",
              "      <td>2067</td>\n",
              "      <td>1.181410e+12</td>\n",
              "      <td>98.092796</td>\n",
              "      <td>99.993771</td>\n",
              "      <td>99.993771</td>\n",
              "    </tr>\n",
              "    <tr>\n",
              "      <th>1</th>\n",
              "      <td>10011.0</td>\n",
              "      <td>2</td>\n",
              "      <td>1369</td>\n",
              "      <td>2.915409e+11</td>\n",
              "      <td>98.092796</td>\n",
              "      <td>99.981314</td>\n",
              "      <td>99.981314</td>\n",
              "    </tr>\n",
              "    <tr>\n",
              "      <th>2</th>\n",
              "      <td>100000.0</td>\n",
              "      <td>3384</td>\n",
              "      <td>5</td>\n",
              "      <td>3.529000e+01</td>\n",
              "      <td>0.318909</td>\n",
              "      <td>42.292121</td>\n",
              "      <td>42.292121</td>\n",
              "    </tr>\n",
              "    <tr>\n",
              "      <th>3</th>\n",
              "      <td>100002.0</td>\n",
              "      <td>785</td>\n",
              "      <td>5</td>\n",
              "      <td>5.770000e+00</td>\n",
              "      <td>67.271136</td>\n",
              "      <td>42.292121</td>\n",
              "      <td>42.292121</td>\n",
              "    </tr>\n",
              "    <tr>\n",
              "      <th>4</th>\n",
              "      <td>100004.0</td>\n",
              "      <td>3357</td>\n",
              "      <td>5</td>\n",
              "      <td>7.540000e+00</td>\n",
              "      <td>0.325163</td>\n",
              "      <td>42.292121</td>\n",
              "      <td>42.292121</td>\n",
              "    </tr>\n",
              "  </tbody>\n",
              "</table>\n",
              "</div>\n",
              "      <button class=\"colab-df-convert\" onclick=\"convertToInteractive('df-fb222631-fc76-46f5-88a3-09510b684a0e')\"\n",
              "              title=\"Convert this dataframe to an interactive table.\"\n",
              "              style=\"display:none;\">\n",
              "        \n",
              "  <svg xmlns=\"http://www.w3.org/2000/svg\" height=\"24px\"viewBox=\"0 0 24 24\"\n",
              "       width=\"24px\">\n",
              "    <path d=\"M0 0h24v24H0V0z\" fill=\"none\"/>\n",
              "    <path d=\"M18.56 5.44l.94 2.06.94-2.06 2.06-.94-2.06-.94-.94-2.06-.94 2.06-2.06.94zm-11 1L8.5 8.5l.94-2.06 2.06-.94-2.06-.94L8.5 2.5l-.94 2.06-2.06.94zm10 10l.94 2.06.94-2.06 2.06-.94-2.06-.94-.94-2.06-.94 2.06-2.06.94z\"/><path d=\"M17.41 7.96l-1.37-1.37c-.4-.4-.92-.59-1.43-.59-.52 0-1.04.2-1.43.59L10.3 9.45l-7.72 7.72c-.78.78-.78 2.05 0 2.83L4 21.41c.39.39.9.59 1.41.59.51 0 1.02-.2 1.41-.59l7.78-7.78 2.81-2.81c.8-.78.8-2.07 0-2.86zM5.41 20L4 18.59l7.72-7.72 1.47 1.35L5.41 20z\"/>\n",
              "  </svg>\n",
              "      </button>\n",
              "      \n",
              "  <style>\n",
              "    .colab-df-container {\n",
              "      display:flex;\n",
              "      flex-wrap:wrap;\n",
              "      gap: 12px;\n",
              "    }\n",
              "\n",
              "    .colab-df-convert {\n",
              "      background-color: #E8F0FE;\n",
              "      border: none;\n",
              "      border-radius: 50%;\n",
              "      cursor: pointer;\n",
              "      display: none;\n",
              "      fill: #1967D2;\n",
              "      height: 32px;\n",
              "      padding: 0 0 0 0;\n",
              "      width: 32px;\n",
              "    }\n",
              "\n",
              "    .colab-df-convert:hover {\n",
              "      background-color: #E2EBFA;\n",
              "      box-shadow: 0px 1px 2px rgba(60, 64, 67, 0.3), 0px 1px 3px 1px rgba(60, 64, 67, 0.15);\n",
              "      fill: #174EA6;\n",
              "    }\n",
              "\n",
              "    [theme=dark] .colab-df-convert {\n",
              "      background-color: #3B4455;\n",
              "      fill: #D2E3FC;\n",
              "    }\n",
              "\n",
              "    [theme=dark] .colab-df-convert:hover {\n",
              "      background-color: #434B5C;\n",
              "      box-shadow: 0px 1px 3px 1px rgba(0, 0, 0, 0.15);\n",
              "      filter: drop-shadow(0px 1px 2px rgba(0, 0, 0, 0.3));\n",
              "      fill: #FFFFFF;\n",
              "    }\n",
              "  </style>\n",
              "\n",
              "      <script>\n",
              "        const buttonEl =\n",
              "          document.querySelector('#df-fb222631-fc76-46f5-88a3-09510b684a0e button.colab-df-convert');\n",
              "        buttonEl.style.display =\n",
              "          google.colab.kernel.accessAllowed ? 'block' : 'none';\n",
              "\n",
              "        async function convertToInteractive(key) {\n",
              "          const element = document.querySelector('#df-fb222631-fc76-46f5-88a3-09510b684a0e');\n",
              "          const dataTable =\n",
              "            await google.colab.kernel.invokeFunction('convertToInteractive',\n",
              "                                                     [key], {});\n",
              "          if (!dataTable) return;\n",
              "\n",
              "          const docLinkHtml = 'Like what you see? Visit the ' +\n",
              "            '<a target=\"_blank\" href=https://colab.research.google.com/notebooks/data_table.ipynb>data table notebook</a>'\n",
              "            + ' to learn more about interactive tables.';\n",
              "          element.innerHTML = '';\n",
              "          dataTable['output_type'] = 'display_data';\n",
              "          await google.colab.output.renderOutput(dataTable, element);\n",
              "          const docLink = document.createElement('div');\n",
              "          docLink.innerHTML = docLinkHtml;\n",
              "          element.appendChild(docLink);\n",
              "        }\n",
              "      </script>\n",
              "    </div>\n",
              "  </div>\n",
              "  "
            ]
          },
          "metadata": {},
          "execution_count": 47
        }
      ]
    },
    {
      "cell_type": "markdown",
      "source": [
        "Calculating RFM score\n",
        "RFM score is calculated based upon recency, frequency, monetary value normalize ranks. Based upon this score we divide our customers. Here we rate them on a scale of 5. Formula used for calculating rfm score is : 0.15*Recency score + 0.28*Frequency score + 0.57 *Monetary score"
      ],
      "metadata": {
        "id": "YvscPFlcQ90H"
      }
    },
    {
      "cell_type": "code",
      "source": [
        "rfm_df['RFM_Score'] = 0.15*rfm_df['R_rank_norm']+0.28 * \\\n",
        "\trfm_df['F_rank_norm']+0.57*rfm_df['M_rank_norm']\n",
        "rfm_df['RFM_Score'] *= 0.05\n",
        "rfm_df = rfm_df.round(2)\n",
        "rfm_df[['CUSTOMER_ID', 'RFM_Score']].head(7)\n"
      ],
      "metadata": {
        "colab": {
          "base_uri": "https://localhost:8080/",
          "height": 269
        },
        "id": "8MEfb-oOQ8Od",
        "outputId": "c3baab73-bb08-4696-a7b8-51a16c48f5fe"
      },
      "execution_count": 48,
      "outputs": [
        {
          "output_type": "execute_result",
          "data": {
            "text/plain": [
              "   CUSTOMER_ID  RFM_Score\n",
              "0      10001.0       4.99\n",
              "1      10011.0       4.98\n",
              "2     100000.0       1.80\n",
              "3     100002.0       2.30\n",
              "4     100004.0       1.80\n",
              "5     100006.0       1.80\n",
              "6     100007.0       1.80"
            ],
            "text/html": [
              "\n",
              "  <div id=\"df-f53c5d76-5c27-4bc0-ba14-c86c57682cbb\">\n",
              "    <div class=\"colab-df-container\">\n",
              "      <div>\n",
              "<style scoped>\n",
              "    .dataframe tbody tr th:only-of-type {\n",
              "        vertical-align: middle;\n",
              "    }\n",
              "\n",
              "    .dataframe tbody tr th {\n",
              "        vertical-align: top;\n",
              "    }\n",
              "\n",
              "    .dataframe thead th {\n",
              "        text-align: right;\n",
              "    }\n",
              "</style>\n",
              "<table border=\"1\" class=\"dataframe\">\n",
              "  <thead>\n",
              "    <tr style=\"text-align: right;\">\n",
              "      <th></th>\n",
              "      <th>CUSTOMER_ID</th>\n",
              "      <th>RFM_Score</th>\n",
              "    </tr>\n",
              "  </thead>\n",
              "  <tbody>\n",
              "    <tr>\n",
              "      <th>0</th>\n",
              "      <td>10001.0</td>\n",
              "      <td>4.99</td>\n",
              "    </tr>\n",
              "    <tr>\n",
              "      <th>1</th>\n",
              "      <td>10011.0</td>\n",
              "      <td>4.98</td>\n",
              "    </tr>\n",
              "    <tr>\n",
              "      <th>2</th>\n",
              "      <td>100000.0</td>\n",
              "      <td>1.80</td>\n",
              "    </tr>\n",
              "    <tr>\n",
              "      <th>3</th>\n",
              "      <td>100002.0</td>\n",
              "      <td>2.30</td>\n",
              "    </tr>\n",
              "    <tr>\n",
              "      <th>4</th>\n",
              "      <td>100004.0</td>\n",
              "      <td>1.80</td>\n",
              "    </tr>\n",
              "    <tr>\n",
              "      <th>5</th>\n",
              "      <td>100006.0</td>\n",
              "      <td>1.80</td>\n",
              "    </tr>\n",
              "    <tr>\n",
              "      <th>6</th>\n",
              "      <td>100007.0</td>\n",
              "      <td>1.80</td>\n",
              "    </tr>\n",
              "  </tbody>\n",
              "</table>\n",
              "</div>\n",
              "      <button class=\"colab-df-convert\" onclick=\"convertToInteractive('df-f53c5d76-5c27-4bc0-ba14-c86c57682cbb')\"\n",
              "              title=\"Convert this dataframe to an interactive table.\"\n",
              "              style=\"display:none;\">\n",
              "        \n",
              "  <svg xmlns=\"http://www.w3.org/2000/svg\" height=\"24px\"viewBox=\"0 0 24 24\"\n",
              "       width=\"24px\">\n",
              "    <path d=\"M0 0h24v24H0V0z\" fill=\"none\"/>\n",
              "    <path d=\"M18.56 5.44l.94 2.06.94-2.06 2.06-.94-2.06-.94-.94-2.06-.94 2.06-2.06.94zm-11 1L8.5 8.5l.94-2.06 2.06-.94-2.06-.94L8.5 2.5l-.94 2.06-2.06.94zm10 10l.94 2.06.94-2.06 2.06-.94-2.06-.94-.94-2.06-.94 2.06-2.06.94z\"/><path d=\"M17.41 7.96l-1.37-1.37c-.4-.4-.92-.59-1.43-.59-.52 0-1.04.2-1.43.59L10.3 9.45l-7.72 7.72c-.78.78-.78 2.05 0 2.83L4 21.41c.39.39.9.59 1.41.59.51 0 1.02-.2 1.41-.59l7.78-7.78 2.81-2.81c.8-.78.8-2.07 0-2.86zM5.41 20L4 18.59l7.72-7.72 1.47 1.35L5.41 20z\"/>\n",
              "  </svg>\n",
              "      </button>\n",
              "      \n",
              "  <style>\n",
              "    .colab-df-container {\n",
              "      display:flex;\n",
              "      flex-wrap:wrap;\n",
              "      gap: 12px;\n",
              "    }\n",
              "\n",
              "    .colab-df-convert {\n",
              "      background-color: #E8F0FE;\n",
              "      border: none;\n",
              "      border-radius: 50%;\n",
              "      cursor: pointer;\n",
              "      display: none;\n",
              "      fill: #1967D2;\n",
              "      height: 32px;\n",
              "      padding: 0 0 0 0;\n",
              "      width: 32px;\n",
              "    }\n",
              "\n",
              "    .colab-df-convert:hover {\n",
              "      background-color: #E2EBFA;\n",
              "      box-shadow: 0px 1px 2px rgba(60, 64, 67, 0.3), 0px 1px 3px 1px rgba(60, 64, 67, 0.15);\n",
              "      fill: #174EA6;\n",
              "    }\n",
              "\n",
              "    [theme=dark] .colab-df-convert {\n",
              "      background-color: #3B4455;\n",
              "      fill: #D2E3FC;\n",
              "    }\n",
              "\n",
              "    [theme=dark] .colab-df-convert:hover {\n",
              "      background-color: #434B5C;\n",
              "      box-shadow: 0px 1px 3px 1px rgba(0, 0, 0, 0.15);\n",
              "      filter: drop-shadow(0px 1px 2px rgba(0, 0, 0, 0.3));\n",
              "      fill: #FFFFFF;\n",
              "    }\n",
              "  </style>\n",
              "\n",
              "      <script>\n",
              "        const buttonEl =\n",
              "          document.querySelector('#df-f53c5d76-5c27-4bc0-ba14-c86c57682cbb button.colab-df-convert');\n",
              "        buttonEl.style.display =\n",
              "          google.colab.kernel.accessAllowed ? 'block' : 'none';\n",
              "\n",
              "        async function convertToInteractive(key) {\n",
              "          const element = document.querySelector('#df-f53c5d76-5c27-4bc0-ba14-c86c57682cbb');\n",
              "          const dataTable =\n",
              "            await google.colab.kernel.invokeFunction('convertToInteractive',\n",
              "                                                     [key], {});\n",
              "          if (!dataTable) return;\n",
              "\n",
              "          const docLinkHtml = 'Like what you see? Visit the ' +\n",
              "            '<a target=\"_blank\" href=https://colab.research.google.com/notebooks/data_table.ipynb>data table notebook</a>'\n",
              "            + ' to learn more about interactive tables.';\n",
              "          element.innerHTML = '';\n",
              "          dataTable['output_type'] = 'display_data';\n",
              "          await google.colab.output.renderOutput(dataTable, element);\n",
              "          const docLink = document.createElement('div');\n",
              "          docLink.innerHTML = docLinkHtml;\n",
              "          element.appendChild(docLink);\n",
              "        }\n",
              "      </script>\n",
              "    </div>\n",
              "  </div>\n",
              "  "
            ]
          },
          "metadata": {},
          "execution_count": 48
        }
      ]
    },
    {
      "cell_type": "markdown",
      "source": [
        "Rating Customer based upon the RFM score\n",
        "rfm score >4.5 : Top Customer\n",
        "4.5 > rfm score > 4 : High Value Customer\n",
        "4>rfm score >3 : Medium value customer\n",
        "3>rfm score>1.6 : Low-value customer\n",
        "rfm score < 1.6 : very low- Inactive Customer"
      ],
      "metadata": {
        "id": "ULMqllj1RVYF"
      }
    },
    {
      "cell_type": "code",
      "source": [
        "rfm_df[\"Customer_segment\"] = np.where(rfm_df['RFM_Score'] >\n",
        "\t\t\t\t\t\t\t\t\t4.5, \"Top Depositing Customers\",\n",
        "\t\t\t\t\t\t\t\t\t(np.where(\n",
        "\t\t\t\t\t\t\t\t\t\trfm_df['RFM_Score'] > 4,\n",
        "\t\t\t\t\t\t\t\t\t\t\"High Depositing Customer\",\n",
        "\t\t\t\t\t\t\t\t\t\t(np.where(\n",
        "\trfm_df['RFM_Score'] > 3,\n",
        "\t\t\t\t\t\t\t\"Medium Depositing Customer\",\n",
        "\t\t\t\t\t\t\tnp.where(rfm_df['RFM_Score'] > 1.6,\n",
        "\t\t\t\t\t\t\t'Low Depositing Customers', 'Not Depositing Customers'))))))\n",
        "rfm_df[['CUSTOMER_ID', 'RFM_Score', 'Customer_segment']].head(20)\n"
      ],
      "metadata": {
        "colab": {
          "base_uri": "https://localhost:8080/",
          "height": 677
        },
        "id": "grQR8G0ERgKU",
        "outputId": "6194d8a4-a82c-4509-8f29-57cfed4585de"
      },
      "execution_count": 74,
      "outputs": [
        {
          "output_type": "execute_result",
          "data": {
            "text/plain": [
              "    CUSTOMER_ID  RFM_Score          Customer_segment\n",
              "0       10001.0       4.99  Top Depositing Customers\n",
              "1       10011.0       4.98  Top Depositing Customers\n",
              "2      100000.0       1.80  Low Depositing Customers\n",
              "3      100002.0       2.30  Low Depositing Customers\n",
              "4      100004.0       1.80  Low Depositing Customers\n",
              "5      100006.0       1.80  Low Depositing Customers\n",
              "6      100007.0       1.80  Low Depositing Customers\n",
              "7      100008.0       0.75  Not Depositing Customers\n",
              "8      100009.0       2.31  Low Depositing Customers\n",
              "9      100010.0       2.32  Low Depositing Customers\n",
              "10     100011.0       1.80  Low Depositing Customers\n",
              "11     100012.0       1.80  Low Depositing Customers\n",
              "12     100013.0       4.45  High Depositing Customer\n",
              "13     100014.0       2.32  Low Depositing Customers\n",
              "14     100015.0       4.22  High Depositing Customer\n",
              "15     100016.0       4.14  High Depositing Customer\n",
              "16     100017.0       1.80  Low Depositing Customers\n",
              "17     100024.0       4.14  High Depositing Customer\n",
              "18     100028.0       4.81  Top Depositing Customers\n",
              "19     100029.0       2.21  Low Depositing Customers"
            ],
            "text/html": [
              "\n",
              "  <div id=\"df-ee115205-7165-48b5-9a8e-c0d99b6a7065\">\n",
              "    <div class=\"colab-df-container\">\n",
              "      <div>\n",
              "<style scoped>\n",
              "    .dataframe tbody tr th:only-of-type {\n",
              "        vertical-align: middle;\n",
              "    }\n",
              "\n",
              "    .dataframe tbody tr th {\n",
              "        vertical-align: top;\n",
              "    }\n",
              "\n",
              "    .dataframe thead th {\n",
              "        text-align: right;\n",
              "    }\n",
              "</style>\n",
              "<table border=\"1\" class=\"dataframe\">\n",
              "  <thead>\n",
              "    <tr style=\"text-align: right;\">\n",
              "      <th></th>\n",
              "      <th>CUSTOMER_ID</th>\n",
              "      <th>RFM_Score</th>\n",
              "      <th>Customer_segment</th>\n",
              "    </tr>\n",
              "  </thead>\n",
              "  <tbody>\n",
              "    <tr>\n",
              "      <th>0</th>\n",
              "      <td>10001.0</td>\n",
              "      <td>4.99</td>\n",
              "      <td>Top Depositing Customers</td>\n",
              "    </tr>\n",
              "    <tr>\n",
              "      <th>1</th>\n",
              "      <td>10011.0</td>\n",
              "      <td>4.98</td>\n",
              "      <td>Top Depositing Customers</td>\n",
              "    </tr>\n",
              "    <tr>\n",
              "      <th>2</th>\n",
              "      <td>100000.0</td>\n",
              "      <td>1.80</td>\n",
              "      <td>Low Depositing Customers</td>\n",
              "    </tr>\n",
              "    <tr>\n",
              "      <th>3</th>\n",
              "      <td>100002.0</td>\n",
              "      <td>2.30</td>\n",
              "      <td>Low Depositing Customers</td>\n",
              "    </tr>\n",
              "    <tr>\n",
              "      <th>4</th>\n",
              "      <td>100004.0</td>\n",
              "      <td>1.80</td>\n",
              "      <td>Low Depositing Customers</td>\n",
              "    </tr>\n",
              "    <tr>\n",
              "      <th>5</th>\n",
              "      <td>100006.0</td>\n",
              "      <td>1.80</td>\n",
              "      <td>Low Depositing Customers</td>\n",
              "    </tr>\n",
              "    <tr>\n",
              "      <th>6</th>\n",
              "      <td>100007.0</td>\n",
              "      <td>1.80</td>\n",
              "      <td>Low Depositing Customers</td>\n",
              "    </tr>\n",
              "    <tr>\n",
              "      <th>7</th>\n",
              "      <td>100008.0</td>\n",
              "      <td>0.75</td>\n",
              "      <td>Not Depositing Customers</td>\n",
              "    </tr>\n",
              "    <tr>\n",
              "      <th>8</th>\n",
              "      <td>100009.0</td>\n",
              "      <td>2.31</td>\n",
              "      <td>Low Depositing Customers</td>\n",
              "    </tr>\n",
              "    <tr>\n",
              "      <th>9</th>\n",
              "      <td>100010.0</td>\n",
              "      <td>2.32</td>\n",
              "      <td>Low Depositing Customers</td>\n",
              "    </tr>\n",
              "    <tr>\n",
              "      <th>10</th>\n",
              "      <td>100011.0</td>\n",
              "      <td>1.80</td>\n",
              "      <td>Low Depositing Customers</td>\n",
              "    </tr>\n",
              "    <tr>\n",
              "      <th>11</th>\n",
              "      <td>100012.0</td>\n",
              "      <td>1.80</td>\n",
              "      <td>Low Depositing Customers</td>\n",
              "    </tr>\n",
              "    <tr>\n",
              "      <th>12</th>\n",
              "      <td>100013.0</td>\n",
              "      <td>4.45</td>\n",
              "      <td>High Depositing Customer</td>\n",
              "    </tr>\n",
              "    <tr>\n",
              "      <th>13</th>\n",
              "      <td>100014.0</td>\n",
              "      <td>2.32</td>\n",
              "      <td>Low Depositing Customers</td>\n",
              "    </tr>\n",
              "    <tr>\n",
              "      <th>14</th>\n",
              "      <td>100015.0</td>\n",
              "      <td>4.22</td>\n",
              "      <td>High Depositing Customer</td>\n",
              "    </tr>\n",
              "    <tr>\n",
              "      <th>15</th>\n",
              "      <td>100016.0</td>\n",
              "      <td>4.14</td>\n",
              "      <td>High Depositing Customer</td>\n",
              "    </tr>\n",
              "    <tr>\n",
              "      <th>16</th>\n",
              "      <td>100017.0</td>\n",
              "      <td>1.80</td>\n",
              "      <td>Low Depositing Customers</td>\n",
              "    </tr>\n",
              "    <tr>\n",
              "      <th>17</th>\n",
              "      <td>100024.0</td>\n",
              "      <td>4.14</td>\n",
              "      <td>High Depositing Customer</td>\n",
              "    </tr>\n",
              "    <tr>\n",
              "      <th>18</th>\n",
              "      <td>100028.0</td>\n",
              "      <td>4.81</td>\n",
              "      <td>Top Depositing Customers</td>\n",
              "    </tr>\n",
              "    <tr>\n",
              "      <th>19</th>\n",
              "      <td>100029.0</td>\n",
              "      <td>2.21</td>\n",
              "      <td>Low Depositing Customers</td>\n",
              "    </tr>\n",
              "  </tbody>\n",
              "</table>\n",
              "</div>\n",
              "      <button class=\"colab-df-convert\" onclick=\"convertToInteractive('df-ee115205-7165-48b5-9a8e-c0d99b6a7065')\"\n",
              "              title=\"Convert this dataframe to an interactive table.\"\n",
              "              style=\"display:none;\">\n",
              "        \n",
              "  <svg xmlns=\"http://www.w3.org/2000/svg\" height=\"24px\"viewBox=\"0 0 24 24\"\n",
              "       width=\"24px\">\n",
              "    <path d=\"M0 0h24v24H0V0z\" fill=\"none\"/>\n",
              "    <path d=\"M18.56 5.44l.94 2.06.94-2.06 2.06-.94-2.06-.94-.94-2.06-.94 2.06-2.06.94zm-11 1L8.5 8.5l.94-2.06 2.06-.94-2.06-.94L8.5 2.5l-.94 2.06-2.06.94zm10 10l.94 2.06.94-2.06 2.06-.94-2.06-.94-.94-2.06-.94 2.06-2.06.94z\"/><path d=\"M17.41 7.96l-1.37-1.37c-.4-.4-.92-.59-1.43-.59-.52 0-1.04.2-1.43.59L10.3 9.45l-7.72 7.72c-.78.78-.78 2.05 0 2.83L4 21.41c.39.39.9.59 1.41.59.51 0 1.02-.2 1.41-.59l7.78-7.78 2.81-2.81c.8-.78.8-2.07 0-2.86zM5.41 20L4 18.59l7.72-7.72 1.47 1.35L5.41 20z\"/>\n",
              "  </svg>\n",
              "      </button>\n",
              "      \n",
              "  <style>\n",
              "    .colab-df-container {\n",
              "      display:flex;\n",
              "      flex-wrap:wrap;\n",
              "      gap: 12px;\n",
              "    }\n",
              "\n",
              "    .colab-df-convert {\n",
              "      background-color: #E8F0FE;\n",
              "      border: none;\n",
              "      border-radius: 50%;\n",
              "      cursor: pointer;\n",
              "      display: none;\n",
              "      fill: #1967D2;\n",
              "      height: 32px;\n",
              "      padding: 0 0 0 0;\n",
              "      width: 32px;\n",
              "    }\n",
              "\n",
              "    .colab-df-convert:hover {\n",
              "      background-color: #E2EBFA;\n",
              "      box-shadow: 0px 1px 2px rgba(60, 64, 67, 0.3), 0px 1px 3px 1px rgba(60, 64, 67, 0.15);\n",
              "      fill: #174EA6;\n",
              "    }\n",
              "\n",
              "    [theme=dark] .colab-df-convert {\n",
              "      background-color: #3B4455;\n",
              "      fill: #D2E3FC;\n",
              "    }\n",
              "\n",
              "    [theme=dark] .colab-df-convert:hover {\n",
              "      background-color: #434B5C;\n",
              "      box-shadow: 0px 1px 3px 1px rgba(0, 0, 0, 0.15);\n",
              "      filter: drop-shadow(0px 1px 2px rgba(0, 0, 0, 0.3));\n",
              "      fill: #FFFFFF;\n",
              "    }\n",
              "  </style>\n",
              "\n",
              "      <script>\n",
              "        const buttonEl =\n",
              "          document.querySelector('#df-ee115205-7165-48b5-9a8e-c0d99b6a7065 button.colab-df-convert');\n",
              "        buttonEl.style.display =\n",
              "          google.colab.kernel.accessAllowed ? 'block' : 'none';\n",
              "\n",
              "        async function convertToInteractive(key) {\n",
              "          const element = document.querySelector('#df-ee115205-7165-48b5-9a8e-c0d99b6a7065');\n",
              "          const dataTable =\n",
              "            await google.colab.kernel.invokeFunction('convertToInteractive',\n",
              "                                                     [key], {});\n",
              "          if (!dataTable) return;\n",
              "\n",
              "          const docLinkHtml = 'Like what you see? Visit the ' +\n",
              "            '<a target=\"_blank\" href=https://colab.research.google.com/notebooks/data_table.ipynb>data table notebook</a>'\n",
              "            + ' to learn more about interactive tables.';\n",
              "          element.innerHTML = '';\n",
              "          dataTable['output_type'] = 'display_data';\n",
              "          await google.colab.output.renderOutput(dataTable, element);\n",
              "          const docLink = document.createElement('div');\n",
              "          docLink.innerHTML = docLinkHtml;\n",
              "          element.appendChild(docLink);\n",
              "        }\n",
              "      </script>\n",
              "    </div>\n",
              "  </div>\n",
              "  "
            ]
          },
          "metadata": {},
          "execution_count": 74
        }
      ]
    },
    {
      "cell_type": "markdown",
      "source": [
        "** Visualizing the customer segments\n",
        "Here we will use a pie plot to display all segments of customers. **"
      ],
      "metadata": {
        "id": "mh6MbD8OR3xf"
      }
    },
    {
      "cell_type": "code",
      "source": [
        "plt.pie(rfm_df.Customer_segment.value_counts(),\n",
        "\t\tlabels=rfm_df.Customer_segment.value_counts().index,\n",
        "\t\tautopct='%.0f%%')\n",
        "\n",
        "plt.show()\n"
      ],
      "metadata": {
        "colab": {
          "base_uri": "https://localhost:8080/",
          "height": 248
        },
        "id": "NjvpMoeyR01H",
        "outputId": "6564f182-2d9e-43c3-bcdf-7a578a42a586"
      },
      "execution_count": 50,
      "outputs": [
        {
          "output_type": "display_data",
          "data": {
            "text/plain": [
              "<Figure size 432x288 with 1 Axes>"
            ],
            "image/png": "[encoded data removed]"
          },
          "metadata": {}
        }
      ]
    },
    {
      "cell_type": "code",
      "source": [
        "import matplotlib.pyplot as plt\n",
        "\n",
        "# Pie chart, where the slices will be ordered and plotted counter-clockwise:\n",
        "labels = rfm_df.Customer_segment.value_counts().index\n",
        "sizes = [15, 30, 45, 10]\n",
        "explode = (0, 0.1, 0.2, 0.4,0.5)  # only \"explode\" the 2nd slice (i.e. 'Hogs')\n",
        "\n",
        "fig1, ax1 = plt.subplots()\n",
        "ax1.pie(rfm_df.Customer_segment.value_counts(), explode=explode, labels=labels, autopct='%.0f%%',\n",
        "        shadow=True, startangle=90)\n",
        "ax1.axis('equal')  # Equal aspect ratio ensures that pie is drawn as a circle.\n",
        "ax1.set_title(\"Customer Segmentation Distribution \")\n",
        "\n",
        "plt.show()"
      ],
      "metadata": {
        "colab": {
          "base_uri": "https://localhost:8080/",
          "height": 264
        },
        "id": "5oGsDntbHIFI",
        "outputId": "706e5031-81aa-42b9-fd4c-acda5eb337e3"
      },
      "execution_count": 51,
      "outputs": [
        {
          "output_type": "display_data",
          "data": {
            "text/plain": [
              "<Figure size 432x288 with 1 Axes>"
            ],
            "image/png": "[encoded data removed]"
          },
          "metadata": {}
        }
      ]
    },
    {
      "cell_type": "markdown",
      "source": [],
      "metadata": {
        "id": "NsOAqLkNHHtQ"
      }
    },
    {
      "cell_type": "code",
      "source": [
        "rfm_df.head(20)"
      ],
      "metadata": {
        "colab": {
          "base_uri": "https://localhost:8080/",
          "height": 677
        },
        "id": "mIucBaAboTKW",
        "outputId": "30188348-33ab-48ab-deb7-6907f4a4062e"
      },
      "execution_count": 52,
      "outputs": [
        {
          "output_type": "execute_result",
          "data": {
            "text/plain": [
              "    CUSTOMER_ID  Recency  Frequency      Monetary  R_rank_norm  F_rank_norm  \\\n",
              "0       10001.0        2       2067  1.181410e+12        98.09        99.99   \n",
              "1       10011.0        2       1369  2.915409e+11        98.09        99.98   \n",
              "2      100000.0     3384          5  3.529000e+01         0.32        42.29   \n",
              "3      100002.0      785          5  5.770000e+00        67.27        42.29   \n",
              "4      100004.0     3357          5  7.540000e+00         0.33        42.29   \n",
              "5      100006.0     3466          5  8.380000e+00         0.28        42.29   \n",
              "6      100007.0     3466          5  6.170000e+00         0.28        42.29   \n",
              "7      100008.0        9          4  3.656795e+05        90.50         1.71   \n",
              "8      100009.0      731          5  1.715600e+02        68.73        42.29   \n",
              "9      100010.0      728          5  5.680000e+00        69.23        42.29   \n",
              "10     100011.0     3836          5  1.780100e+02         0.11        42.29   \n",
              "11     100012.0     3466          5  8.110000e+00         0.28        42.29   \n",
              "12     100013.0       58         16  1.404752e+06        84.10        89.96   \n",
              "13     100014.0      718          5  7.940000e+00        70.23        42.29   \n",
              "14     100015.0      710         10  9.614000e+01        71.21        86.84   \n",
              "15     100016.0      168          6  8.531540e+03        81.52        83.06   \n",
              "16     100017.0     4840          5  5.900000e-01         0.01        42.29   \n",
              "17     100024.0      164          6  1.028428e+04        81.59        83.06   \n",
              "18     100028.0        7         66  5.751914e+05        91.76        97.02   \n",
              "19     100029.0     1442          5  8.380000e+00        55.57        42.29   \n",
              "\n",
              "    M_rank_norm  RFM_Score          Customer_segment  \n",
              "0         99.99       4.99  Top Depositing Customers  \n",
              "1         99.98       4.98  Top Depositing Customers  \n",
              "2         42.29       1.80  Low Depositing Customers  \n",
              "3         42.29       2.30  Low Depositing Customers  \n",
              "4         42.29       1.80  Low Depositing Customers  \n",
              "5         42.29       1.80  Low Depositing Customers  \n",
              "6         42.29       1.80  Low Depositing Customers  \n",
              "7          1.71       0.75  Not Depositing Customers  \n",
              "8         42.29       2.31  Low Depositing Customers  \n",
              "9         42.29       2.32  Low Depositing Customers  \n",
              "10        42.29       1.80  Low Depositing Customers  \n",
              "11        42.29       1.80  Low Depositing Customers  \n",
              "12        89.96       4.45  High Depositing Customer  \n",
              "13        42.29       2.32  Low Depositing Customers  \n",
              "14        86.84       4.22  High Depositing Customer  \n",
              "15        83.06       4.14  High Depositing Customer  \n",
              "16        42.29       1.80  Low Depositing Customers  \n",
              "17        83.06       4.14  High Depositing Customer  \n",
              "18        97.02       4.81  Top Depositing Customers  \n",
              "19        42.29       2.21  Low Depositing Customers  "
            ],
            "text/html": [
              "\n",
              "  <div id=\"df-810ac4c9-134f-4853-9195-6977748c3d9b\">\n",
              "    <div class=\"colab-df-container\">\n",
              "      <div>\n",
              "<style scoped>\n",
              "    .dataframe tbody tr th:only-of-type {\n",
              "        vertical-align: middle;\n",
              "    }\n",
              "\n",
              "    .dataframe tbody tr th {\n",
              "        vertical-align: top;\n",
              "    }\n",
              "\n",
              "    .dataframe thead th {\n",
              "        text-align: right;\n",
              "    }\n",
              "</style>\n",
              "<table border=\"1\" class=\"dataframe\">\n",
              "  <thead>\n",
              "    <tr style=\"text-align: right;\">\n",
              "      <th></th>\n",
              "      <th>CUSTOMER_ID</th>\n",
              "      <th>Recency</th>\n",
              "      <th>Frequency</th>\n",
              "      <th>Monetary</th>\n",
              "      <th>R_rank_norm</th>\n",
              "      <th>F_rank_norm</th>\n",
              "      <th>M_rank_norm</th>\n",
              "      <th>RFM_Score</th>\n",
              "      <th>Customer_segment</th>\n",
              "    </tr>\n",
              "  </thead>\n",
              "  <tbody>\n",
              "    <tr>\n",
              "      <th>0</th>\n",
              "      <td>10001.0</td>\n",
              "      <td>2</td>\n",
              "      <td>2067</td>\n",
              "      <td>1.181410e+12</td>\n",
              "      <td>98.09</td>\n",
              "      <td>99.99</td>\n",
              "      <td>99.99</td>\n",
              "      <td>4.99</td>\n",
              "      <td>Top Depositing Customers</td>\n",
              "    </tr>\n",
              "    <tr>\n",
              "      <th>1</th>\n",
              "      <td>10011.0</td>\n",
              "      <td>2</td>\n",
              "      <td>1369</td>\n",
              "      <td>2.915409e+11</td>\n",
              "      <td>98.09</td>\n",
              "      <td>99.98</td>\n",
              "      <td>99.98</td>\n",
              "      <td>4.98</td>\n",
              "      <td>Top Depositing Customers</td>\n",
              "    </tr>\n",
              "    <tr>\n",
              "      <th>2</th>\n",
              "      <td>100000.0</td>\n",
              "      <td>3384</td>\n",
              "      <td>5</td>\n",
              "      <td>3.529000e+01</td>\n",
              "      <td>0.32</td>\n",
              "      <td>42.29</td>\n",
              "      <td>42.29</td>\n",
              "      <td>1.80</td>\n",
              "      <td>Low Depositing Customers</td>\n",
              "    </tr>\n",
              "    <tr>\n",
              "      <th>3</th>\n",
              "      <td>100002.0</td>\n",
              "      <td>785</td>\n",
              "      <td>5</td>\n",
              "      <td>5.770000e+00</td>\n",
              "      <td>67.27</td>\n",
              "      <td>42.29</td>\n",
              "      <td>42.29</td>\n",
              "      <td>2.30</td>\n",
              "      <td>Low Depositing Customers</td>\n",
              "    </tr>\n",
              "    <tr>\n",
              "      <th>4</th>\n",
              "      <td>100004.0</td>\n",
              "      <td>3357</td>\n",
              "      <td>5</td>\n",
              "      <td>7.540000e+00</td>\n",
              "      <td>0.33</td>\n",
              "      <td>42.29</td>\n",
              "      <td>42.29</td>\n",
              "      <td>1.80</td>\n",
              "      <td>Low Depositing Customers</td>\n",
              "    </tr>\n",
              "    <tr>\n",
              "      <th>5</th>\n",
              "      <td>100006.0</td>\n",
              "      <td>3466</td>\n",
              "      <td>5</td>\n",
              "      <td>8.380000e+00</td>\n",
              "      <td>0.28</td>\n",
              "      <td>42.29</td>\n",
              "      <td>42.29</td>\n",
              "      <td>1.80</td>\n",
              "      <td>Low Depositing Customers</td>\n",
              "    </tr>\n",
              "    <tr>\n",
              "      <th>6</th>\n",
              "      <td>100007.0</td>\n",
              "      <td>3466</td>\n",
              "      <td>5</td>\n",
              "      <td>6.170000e+00</td>\n",
              "      <td>0.28</td>\n",
              "      <td>42.29</td>\n",
              "      <td>42.29</td>\n",
              "      <td>1.80</td>\n",
              "      <td>Low Depositing Customers</td>\n",
              "    </tr>\n",
              "    <tr>\n",
              "      <th>7</th>\n",
              "      <td>100008.0</td>\n",
              "      <td>9</td>\n",
              "      <td>4</td>\n",
              "      <td>3.656795e+05</td>\n",
              "      <td>90.50</td>\n",
              "      <td>1.71</td>\n",
              "      <td>1.71</td>\n",
              "      <td>0.75</td>\n",
              "      <td>Not Depositing Customers</td>\n",
              "    </tr>\n",
              "    <tr>\n",
              "      <th>8</th>\n",
              "      <td>100009.0</td>\n",
              "      <td>731</td>\n",
              "      <td>5</td>\n",
              "      <td>1.715600e+02</td>\n",
              "      <td>68.73</td>\n",
              "      <td>42.29</td>\n",
              "      <td>42.29</td>\n",
              "      <td>2.31</td>\n",
              "      <td>Low Depositing Customers</td>\n",
              "    </tr>\n",
              "    <tr>\n",
              "      <th>9</th>\n",
              "      <td>100010.0</td>\n",
              "      <td>728</td>\n",
              "      <td>5</td>\n",
              "      <td>5.680000e+00</td>\n",
              "      <td>69.23</td>\n",
              "      <td>42.29</td>\n",
              "      <td>42.29</td>\n",
              "      <td>2.32</td>\n",
              "      <td>Low Depositing Customers</td>\n",
              "    </tr>\n",
              "    <tr>\n",
              "      <th>10</th>\n",
              "      <td>100011.0</td>\n",
              "      <td>3836</td>\n",
              "      <td>5</td>\n",
              "      <td>1.780100e+02</td>\n",
              "      <td>0.11</td>\n",
              "      <td>42.29</td>\n",
              "      <td>42.29</td>\n",
              "      <td>1.80</td>\n",
              "      <td>Low Depositing Customers</td>\n",
              "    </tr>\n",
              "    <tr>\n",
              "      <th>11</th>\n",
              "      <td>100012.0</td>\n",
              "      <td>3466</td>\n",
              "      <td>5</td>\n",
              "      <td>8.110000e+00</td>\n",
              "      <td>0.28</td>\n",
              "      <td>42.29</td>\n",
              "      <td>42.29</td>\n",
              "      <td>1.80</td>\n",
              "      <td>Low Depositing Customers</td>\n",
              "    </tr>\n",
              "    <tr>\n",
              "      <th>12</th>\n",
              "      <td>100013.0</td>\n",
              "      <td>58</td>\n",
              "      <td>16</td>\n",
              "      <td>1.404752e+06</td>\n",
              "      <td>84.10</td>\n",
              "      <td>89.96</td>\n",
              "      <td>89.96</td>\n",
              "      <td>4.45</td>\n",
              "      <td>High Depositing Customer</td>\n",
              "    </tr>\n",
              "    <tr>\n",
              "      <th>13</th>\n",
              "      <td>100014.0</td>\n",
              "      <td>718</td>\n",
              "      <td>5</td>\n",
              "      <td>7.940000e+00</td>\n",
              "      <td>70.23</td>\n",
              "      <td>42.29</td>\n",
              "      <td>42.29</td>\n",
              "      <td>2.32</td>\n",
              "      <td>Low Depositing Customers</td>\n",
              "    </tr>\n",
              "    <tr>\n",
              "      <th>14</th>\n",
              "      <td>100015.0</td>\n",
              "      <td>710</td>\n",
              "      <td>10</td>\n",
              "      <td>9.614000e+01</td>\n",
              "      <td>71.21</td>\n",
              "      <td>86.84</td>\n",
              "      <td>86.84</td>\n",
              "      <td>4.22</td>\n",
              "      <td>High Depositing Customer</td>\n",
              "    </tr>\n",
              "    <tr>\n",
              "      <th>15</th>\n",
              "      <td>100016.0</td>\n",
              "      <td>168</td>\n",
              "      <td>6</td>\n",
              "      <td>8.531540e+03</td>\n",
              "      <td>81.52</td>\n",
              "      <td>83.06</td>\n",
              "      <td>83.06</td>\n",
              "      <td>4.14</td>\n",
              "      <td>High Depositing Customer</td>\n",
              "    </tr>\n",
              "    <tr>\n",
              "      <th>16</th>\n",
              "      <td>100017.0</td>\n",
              "      <td>4840</td>\n",
              "      <td>5</td>\n",
              "      <td>5.900000e-01</td>\n",
              "      <td>0.01</td>\n",
              "      <td>42.29</td>\n",
              "      <td>42.29</td>\n",
              "      <td>1.80</td>\n",
              "      <td>Low Depositing Customers</td>\n",
              "    </tr>\n",
              "    <tr>\n",
              "      <th>17</th>\n",
              "      <td>100024.0</td>\n",
              "      <td>164</td>\n",
              "      <td>6</td>\n",
              "      <td>1.028428e+04</td>\n",
              "      <td>81.59</td>\n",
              "      <td>83.06</td>\n",
              "      <td>83.06</td>\n",
              "      <td>4.14</td>\n",
              "      <td>High Depositing Customer</td>\n",
              "    </tr>\n",
              "    <tr>\n",
              "      <th>18</th>\n",
              "      <td>100028.0</td>\n",
              "      <td>7</td>\n",
              "      <td>66</td>\n",
              "      <td>5.751914e+05</td>\n",
              "      <td>91.76</td>\n",
              "      <td>97.02</td>\n",
              "      <td>97.02</td>\n",
              "      <td>4.81</td>\n",
              "      <td>Top Depositing Customers</td>\n",
              "    </tr>\n",
              "    <tr>\n",
              "      <th>19</th>\n",
              "      <td>100029.0</td>\n",
              "      <td>1442</td>\n",
              "      <td>5</td>\n",
              "      <td>8.380000e+00</td>\n",
              "      <td>55.57</td>\n",
              "      <td>42.29</td>\n",
              "      <td>42.29</td>\n",
              "      <td>2.21</td>\n",
              "      <td>Low Depositing Customers</td>\n",
              "    </tr>\n",
              "  </tbody>\n",
              "</table>\n",
              "</div>\n",
              "      <button class=\"colab-df-convert\" onclick=\"convertToInteractive('df-810ac4c9-134f-4853-9195-6977748c3d9b')\"\n",
              "              title=\"Convert this dataframe to an interactive table.\"\n",
              "              style=\"display:none;\">\n",
              "        \n",
              "  <svg xmlns=\"http://www.w3.org/2000/svg\" height=\"24px\"viewBox=\"0 0 24 24\"\n",
              "       width=\"24px\">\n",
              "    <path d=\"M0 0h24v24H0V0z\" fill=\"none\"/>\n",
              "    <path d=\"M18.56 5.44l.94 2.06.94-2.06 2.06-.94-2.06-.94-.94-2.06-.94 2.06-2.06.94zm-11 1L8.5 8.5l.94-2.06 2.06-.94-2.06-.94L8.5 2.5l-.94 2.06-2.06.94zm10 10l.94 2.06.94-2.06 2.06-.94-2.06-.94-.94-2.06-.94 2.06-2.06.94z\"/><path d=\"M17.41 7.96l-1.37-1.37c-.4-.4-.92-.59-1.43-.59-.52 0-1.04.2-1.43.59L10.3 9.45l-7.72 7.72c-.78.78-.78 2.05 0 2.83L4 21.41c.39.39.9.59 1.41.59.51 0 1.02-.2 1.41-.59l7.78-7.78 2.81-2.81c.8-.78.8-2.07 0-2.86zM5.41 20L4 18.59l7.72-7.72 1.47 1.35L5.41 20z\"/>\n",
              "  </svg>\n",
              "      </button>\n",
              "      \n",
              "  <style>\n",
              "    .colab-df-container {\n",
              "      display:flex;\n",
              "      flex-wrap:wrap;\n",
              "      gap: 12px;\n",
              "    }\n",
              "\n",
              "    .colab-df-convert {\n",
              "      background-color: #E8F0FE;\n",
              "      border: none;\n",
              "      border-radius: 50%;\n",
              "      cursor: pointer;\n",
              "      display: none;\n",
              "      fill: #1967D2;\n",
              "      height: 32px;\n",
              "      padding: 0 0 0 0;\n",
              "      width: 32px;\n",
              "    }\n",
              "\n",
              "    .colab-df-convert:hover {\n",
              "      background-color: #E2EBFA;\n",
              "      box-shadow: 0px 1px 2px rgba(60, 64, 67, 0.3), 0px 1px 3px 1px rgba(60, 64, 67, 0.15);\n",
              "      fill: #174EA6;\n",
              "    }\n",
              "\n",
              "    [theme=dark] .colab-df-convert {\n",
              "      background-color: #3B4455;\n",
              "      fill: #D2E3FC;\n",
              "    }\n",
              "\n",
              "    [theme=dark] .colab-df-convert:hover {\n",
              "      background-color: #434B5C;\n",
              "      box-shadow: 0px 1px 3px 1px rgba(0, 0, 0, 0.15);\n",
              "      filter: drop-shadow(0px 1px 2px rgba(0, 0, 0, 0.3));\n",
              "      fill: #FFFFFF;\n",
              "    }\n",
              "  </style>\n",
              "\n",
              "      <script>\n",
              "        const buttonEl =\n",
              "          document.querySelector('#df-810ac4c9-134f-4853-9195-6977748c3d9b button.colab-df-convert');\n",
              "        buttonEl.style.display =\n",
              "          google.colab.kernel.accessAllowed ? 'block' : 'none';\n",
              "\n",
              "        async function convertToInteractive(key) {\n",
              "          const element = document.querySelector('#df-810ac4c9-134f-4853-9195-6977748c3d9b');\n",
              "          const dataTable =\n",
              "            await google.colab.kernel.invokeFunction('convertToInteractive',\n",
              "                                                     [key], {});\n",
              "          if (!dataTable) return;\n",
              "\n",
              "          const docLinkHtml = 'Like what you see? Visit the ' +\n",
              "            '<a target=\"_blank\" href=https://colab.research.google.com/notebooks/data_table.ipynb>data table notebook</a>'\n",
              "            + ' to learn more about interactive tables.';\n",
              "          element.innerHTML = '';\n",
              "          dataTable['output_type'] = 'display_data';\n",
              "          await google.colab.output.renderOutput(dataTable, element);\n",
              "          const docLink = document.createElement('div');\n",
              "          docLink.innerHTML = docLinkHtml;\n",
              "          element.appendChild(docLink);\n",
              "        }\n",
              "      </script>\n",
              "    </div>\n",
              "  </div>\n",
              "  "
            ]
          },
          "metadata": {},
          "execution_count": 52
        }
      ]
    },
    {
      "cell_type": "markdown",
      "source": [
        "**K-Means Clustering**"
      ],
      "metadata": {
        "id": "RpN5XKu7pgS3"
      }
    },
    {
      "cell_type": "code",
      "source": [
        "#Handle negative and zero values so as to handle infinite numbers during log transformation\n",
        "def handle_neg_n_zero(num):\n",
        "    if num <= 0:\n",
        "        return 1\n",
        "    else:\n",
        "        return num\n",
        "#Apply handle_neg_n_zero function to Recency and Monetary columns \n",
        "rfm_df['Recency'] = [handle_neg_n_zero(x) for x in rfm_df.Recency]\n",
        "rfm_df['Monetary'] = [handle_neg_n_zero(x) for x in rfm_df.Monetary]\n",
        "\n",
        "#Perform Log transformation to bring data into normal or near normal distribution\n",
        "Log_Tfd_Data = rfm_df[['Recency', 'Frequency', 'Monetary']].apply(np.log, axis = 1).round(3)"
      ],
      "metadata": {
        "id": "wX7mhkJspk9V"
      },
      "execution_count": 53,
      "outputs": []
    },
    {
      "cell_type": "markdown",
      "source": [
        "RFM Analysis Before LogTransformation"
      ],
      "metadata": {
        "id": "RNjEBX-fM7zz"
      }
    },
    {
      "cell_type": "code",
      "source": [
        "#rfm_df[['Recency']], 'Frequency', 'Monetary']]\n",
        "\n",
        "import matplotlib.pyplot as plt\n",
        "from mpl_toolkits.mplot3d import Axes3D\n",
        "import numpy as np\n",
        "x = rfm_df[['Recency']]\n",
        "y = rfm_df[['Frequency']]\n",
        "z = rfm_df[['Monetary']]\n",
        "\n",
        "\n",
        "fig = plt.figure(figsize=(10, 8))\n",
        "ax = fig.add_subplot(111, projection='3d')\n",
        "ax.scatter(x, y, z,\n",
        "           linewidths=1, alpha=.7,\n",
        "           edgecolor='k',\n",
        "           s = 200,\n",
        "           c=z)\n",
        "ax.set_title(\"RMF Analysis\")\n",
        "ax.set_xlabel(\"Recency\")\n",
        "ax.set_ylabel(\"Frequency\")\n",
        "ax.set_zlabel(\"Monetary in Log10\")\n",
        "plt.show()\n"
      ],
      "metadata": {
        "colab": {
          "base_uri": "https://localhost:8080/",
          "height": 466
        },
        "id": "faMu5ozGKGWa",
        "outputId": "f7c9e368-1c4c-4a3f-e6c4-1b6fee79ef6d"
      },
      "execution_count": null,
      "outputs": [
        {
          "output_type": "display_data",
          "data": {
            "text/plain": [
              "<Figure size 720x576 with 1 Axes>"
            ],
            "image/png": "[encoded data removed]"
          },
          "metadata": {
            "needs_background": "light"
          }
        }
      ]
    },
    {
      "cell_type": "markdown",
      "source": [
        "RFM after LogTransformation"
      ],
      "metadata": {
        "id": "PZwoDtuENGir"
      }
    },
    {
      "cell_type": "code",
      "source": [
        "import matplotlib.pyplot as plt\n",
        "from mpl_toolkits.mplot3d import Axes3D\n",
        "import numpy as np\n",
        "\n",
        "x = Log_Tfd_Data[['Recency']]\n",
        "y = Log_Tfd_Data[['Frequency']]\n",
        "z = Log_Tfd_Data[['Monetary']]\n",
        "\n",
        "fig = plt.figure(figsize=(10, 8))\n",
        "ax = fig.add_subplot(111, projection='3d')\n",
        "ax.scatter(x, y, z,\n",
        "           linewidths=1, alpha=.7,\n",
        "           edgecolor='k',\n",
        "           s = 200,\n",
        "           c=z)\n",
        "ax.set_title(\"RMF Analysis-Log Transformation\")\n",
        "ax.set_xlabel(\"Recency\")\n",
        "ax.set_ylabel(\"Frequency\")\n",
        "ax.set_zlabel(\"Monetary in Log10\")\n",
        "plt.show()"
      ],
      "metadata": {
        "colab": {
          "base_uri": "https://localhost:8080/",
          "height": 466
        },
        "id": "bzE0lMr6N6O2",
        "outputId": "34f7c70a-0ee7-4ec5-ab39-3a72ce3da0f0"
      },
      "execution_count": 54,
      "outputs": [
        {
          "output_type": "display_data",
          "data": {
            "text/plain": [
              "<Figure size 720x576 with 1 Axes>"
            ],
            "image/png": "[encoded data removed]"
          },
          "metadata": {
            "needs_background": "light"
          }
        }
      ]
    },
    {
      "cell_type": "code",
      "source": [
        "Log_Tfd_Data.head()"
      ],
      "metadata": {
        "colab": {
          "base_uri": "https://localhost:8080/",
          "height": 206
        },
        "id": "8P3HnYQdJwDI",
        "outputId": "43bcd594-445d-4345-f10d-88d55f093603"
      },
      "execution_count": 55,
      "outputs": [
        {
          "output_type": "execute_result",
          "data": {
            "text/plain": [
              "   Recency  Frequency  Monetary\n",
              "0    0.693      7.634    27.798\n",
              "1    0.693      7.222    26.398\n",
              "2    8.127      1.609     3.564\n",
              "3    6.666      1.609     1.753\n",
              "4    8.119      1.609     2.020"
            ],
            "text/html": [
              "\n",
              "  <div id=\"df-bd01318e-4f97-41c9-bd16-54875ce90102\">\n",
              "    <div class=\"colab-df-container\">\n",
              "      <div>\n",
              "<style scoped>\n",
              "    .dataframe tbody tr th:only-of-type {\n",
              "        vertical-align: middle;\n",
              "    }\n",
              "\n",
              "    .dataframe tbody tr th {\n",
              "        vertical-align: top;\n",
              "    }\n",
              "\n",
              "    .dataframe thead th {\n",
              "        text-align: right;\n",
              "    }\n",
              "</style>\n",
              "<table border=\"1\" class=\"dataframe\">\n",
              "  <thead>\n",
              "    <tr style=\"text-align: right;\">\n",
              "      <th></th>\n",
              "      <th>Recency</th>\n",
              "      <th>Frequency</th>\n",
              "      <th>Monetary</th>\n",
              "    </tr>\n",
              "  </thead>\n",
              "  <tbody>\n",
              "    <tr>\n",
              "      <th>0</th>\n",
              "      <td>0.693</td>\n",
              "      <td>7.634</td>\n",
              "      <td>27.798</td>\n",
              "    </tr>\n",
              "    <tr>\n",
              "      <th>1</th>\n",
              "      <td>0.693</td>\n",
              "      <td>7.222</td>\n",
              "      <td>26.398</td>\n",
              "    </tr>\n",
              "    <tr>\n",
              "      <th>2</th>\n",
              "      <td>8.127</td>\n",
              "      <td>1.609</td>\n",
              "      <td>3.564</td>\n",
              "    </tr>\n",
              "    <tr>\n",
              "      <th>3</th>\n",
              "      <td>6.666</td>\n",
              "      <td>1.609</td>\n",
              "      <td>1.753</td>\n",
              "    </tr>\n",
              "    <tr>\n",
              "      <th>4</th>\n",
              "      <td>8.119</td>\n",
              "      <td>1.609</td>\n",
              "      <td>2.020</td>\n",
              "    </tr>\n",
              "  </tbody>\n",
              "</table>\n",
              "</div>\n",
              "      <button class=\"colab-df-convert\" onclick=\"convertToInteractive('df-bd01318e-4f97-41c9-bd16-54875ce90102')\"\n",
              "              title=\"Convert this dataframe to an interactive table.\"\n",
              "              style=\"display:none;\">\n",
              "        \n",
              "  <svg xmlns=\"http://www.w3.org/2000/svg\" height=\"24px\"viewBox=\"0 0 24 24\"\n",
              "       width=\"24px\">\n",
              "    <path d=\"M0 0h24v24H0V0z\" fill=\"none\"/>\n",
              "    <path d=\"M18.56 5.44l.94 2.06.94-2.06 2.06-.94-2.06-.94-.94-2.06-.94 2.06-2.06.94zm-11 1L8.5 8.5l.94-2.06 2.06-.94-2.06-.94L8.5 2.5l-.94 2.06-2.06.94zm10 10l.94 2.06.94-2.06 2.06-.94-2.06-.94-.94-2.06-.94 2.06-2.06.94z\"/><path d=\"M17.41 7.96l-1.37-1.37c-.4-.4-.92-.59-1.43-.59-.52 0-1.04.2-1.43.59L10.3 9.45l-7.72 7.72c-.78.78-.78 2.05 0 2.83L4 21.41c.39.39.9.59 1.41.59.51 0 1.02-.2 1.41-.59l7.78-7.78 2.81-2.81c.8-.78.8-2.07 0-2.86zM5.41 20L4 18.59l7.72-7.72 1.47 1.35L5.41 20z\"/>\n",
              "  </svg>\n",
              "      </button>\n",
              "      \n",
              "  <style>\n",
              "    .colab-df-container {\n",
              "      display:flex;\n",
              "      flex-wrap:wrap;\n",
              "      gap: 12px;\n",
              "    }\n",
              "\n",
              "    .colab-df-convert {\n",
              "      background-color: #E8F0FE;\n",
              "      border: none;\n",
              "      border-radius: 50%;\n",
              "      cursor: pointer;\n",
              "      display: none;\n",
              "      fill: #1967D2;\n",
              "      height: 32px;\n",
              "      padding: 0 0 0 0;\n",
              "      width: 32px;\n",
              "    }\n",
              "\n",
              "    .colab-df-convert:hover {\n",
              "      background-color: #E2EBFA;\n",
              "      box-shadow: 0px 1px 2px rgba(60, 64, 67, 0.3), 0px 1px 3px 1px rgba(60, 64, 67, 0.15);\n",
              "      fill: #174EA6;\n",
              "    }\n",
              "\n",
              "    [theme=dark] .colab-df-convert {\n",
              "      background-color: #3B4455;\n",
              "      fill: #D2E3FC;\n",
              "    }\n",
              "\n",
              "    [theme=dark] .colab-df-convert:hover {\n",
              "      background-color: #434B5C;\n",
              "      box-shadow: 0px 1px 3px 1px rgba(0, 0, 0, 0.15);\n",
              "      filter: drop-shadow(0px 1px 2px rgba(0, 0, 0, 0.3));\n",
              "      fill: #FFFFFF;\n",
              "    }\n",
              "  </style>\n",
              "\n",
              "      <script>\n",
              "        const buttonEl =\n",
              "          document.querySelector('#df-bd01318e-4f97-41c9-bd16-54875ce90102 button.colab-df-convert');\n",
              "        buttonEl.style.display =\n",
              "          google.colab.kernel.accessAllowed ? 'block' : 'none';\n",
              "\n",
              "        async function convertToInteractive(key) {\n",
              "          const element = document.querySelector('#df-bd01318e-4f97-41c9-bd16-54875ce90102');\n",
              "          const dataTable =\n",
              "            await google.colab.kernel.invokeFunction('convertToInteractive',\n",
              "                                                     [key], {});\n",
              "          if (!dataTable) return;\n",
              "\n",
              "          const docLinkHtml = 'Like what you see? Visit the ' +\n",
              "            '<a target=\"_blank\" href=https://colab.research.google.com/notebooks/data_table.ipynb>data table notebook</a>'\n",
              "            + ' to learn more about interactive tables.';\n",
              "          element.innerHTML = '';\n",
              "          dataTable['output_type'] = 'display_data';\n",
              "          await google.colab.output.renderOutput(dataTable, element);\n",
              "          const docLink = document.createElement('div');\n",
              "          docLink.innerHTML = docLinkHtml;\n",
              "          element.appendChild(docLink);\n",
              "        }\n",
              "      </script>\n",
              "    </div>\n",
              "  </div>\n",
              "  "
            ]
          },
          "metadata": {},
          "execution_count": 55
        }
      ]
    },
    {
      "cell_type": "code",
      "source": [
        "#Data distribution after data normalization for Recency\n",
        "Recency_Plot = Log_Tfd_Data['Recency']\n",
        "ax = sns.distplot(Recency_Plot)"
      ],
      "metadata": {
        "id": "Znm_-dUBpxEV",
        "colab": {
          "base_uri": "https://localhost:8080/",
          "height": 334
        },
        "outputId": "5f62cdc9-fb06-49e9-8f6d-d4e89be42c37"
      },
      "execution_count": 56,
      "outputs": [
        {
          "output_type": "stream",
          "name": "stderr",
          "text": [
            "/usr/local/lib/python3.7/dist-packages/seaborn/distributions.py:2619: FutureWarning: `distplot` is a deprecated function and will be removed in a future version. Please adapt your code to use either `displot` (a figure-level function with similar flexibility) or `histplot` (an axes-level function for histograms).\n",
            "  warnings.warn(msg, FutureWarning)\n"
          ]
        },
        {
          "output_type": "display_data",
          "data": {
            "text/plain": [
              "<Figure size 432x288 with 1 Axes>"
            ],
            "image/png": "[encoded data removed]"
          },
          "metadata": {
            "needs_background": "light"
          }
        }
      ]
    },
    {
      "cell_type": "code",
      "source": [
        "#Data distribution after data normalization for Frequency\n",
        "Frequency_Plot = Log_Tfd_Data.query('Frequency < 1000')['Frequency']\n",
        "ax = sns.distplot(Frequency_Plot)"
      ],
      "metadata": {
        "id": "d7RThILdp8u9",
        "colab": {
          "base_uri": "https://localhost:8080/",
          "height": 334
        },
        "outputId": "d2f0839f-3cda-483c-f2c1-adbf410d1aa1"
      },
      "execution_count": 57,
      "outputs": [
        {
          "output_type": "stream",
          "name": "stderr",
          "text": [
            "/usr/local/lib/python3.7/dist-packages/seaborn/distributions.py:2619: FutureWarning: `distplot` is a deprecated function and will be removed in a future version. Please adapt your code to use either `displot` (a figure-level function with similar flexibility) or `histplot` (an axes-level function for histograms).\n",
            "  warnings.warn(msg, FutureWarning)\n"
          ]
        },
        {
          "output_type": "display_data",
          "data": {
            "text/plain": [
              "<Figure size 432x288 with 1 Axes>"
            ],
            "image/png": "[encoded data removed]"
          },
          "metadata": {
            "needs_background": "light"
          }
        }
      ]
    },
    {
      "cell_type": "code",
      "source": [
        "#Data distribution after data normalization for Monetary\n",
        "Monetary_Plot = Log_Tfd_Data.query('Monetary < 10000')['Monetary']\n",
        "ax = sns.distplot(Monetary_Plot)"
      ],
      "metadata": {
        "id": "ne1N5CfEqDgV",
        "colab": {
          "base_uri": "https://localhost:8080/",
          "height": 334
        },
        "outputId": "7d3547f0-3e86-4dd1-c429-bb96d7ee82c4"
      },
      "execution_count": 58,
      "outputs": [
        {
          "output_type": "stream",
          "name": "stderr",
          "text": [
            "/usr/local/lib/python3.7/dist-packages/seaborn/distributions.py:2619: FutureWarning: `distplot` is a deprecated function and will be removed in a future version. Please adapt your code to use either `displot` (a figure-level function with similar flexibility) or `histplot` (an axes-level function for histograms).\n",
            "  warnings.warn(msg, FutureWarning)\n"
          ]
        },
        {
          "output_type": "display_data",
          "data": {
            "text/plain": [
              "<Figure size 432x288 with 1 Axes>"
            ],
            "image/png": "[encoded data removed]"
          },
          "metadata": {
            "needs_background": "light"
          }
        }
      ]
    },
    {
      "cell_type": "code",
      "source": [
        "from sklearn.preprocessing import StandardScaler\n",
        "\n",
        "#Bring the data on same scale\n",
        "scaleobj = StandardScaler()\n",
        "Scaled_Data = scaleobj.fit_transform(Log_Tfd_Data)\n",
        "\n",
        "#Transform it back to dataframe\n",
        "Scaled_Data = pd.DataFrame(Scaled_Data, index = rfm_df.index, columns = Log_Tfd_Data.columns)"
      ],
      "metadata": {
        "id": "BVSzh19fqRtl"
      },
      "execution_count": 59,
      "outputs": []
    },
    {
      "cell_type": "code",
      "source": [
        "from sklearn.cluster import KMeans\n",
        "\n",
        "sum_of_sq_dist = {}\n",
        "for k in range(1,15):\n",
        "    km = KMeans(n_clusters= k, init= 'k-means++', max_iter= 1000)\n",
        "    km = km.fit(Scaled_Data)\n",
        "    sum_of_sq_dist[k] = km.inertia_\n",
        "    \n",
        "#Plot the graph for the sum of square distance values and Number of Clusters\n",
        "sns.pointplot(x = list(sum_of_sq_dist.keys()), y = list(sum_of_sq_dist.values()))\n",
        "plt.xlabel('Number of Clusters(k)')\n",
        "plt.ylabel('Sum of Square Distances')\n",
        "plt.title('Elbow Method For Optimal k')\n",
        "plt.show()"
      ],
      "metadata": {
        "colab": {
          "base_uri": "https://localhost:8080/",
          "height": 295
        },
        "id": "g1bA1k0Gqbd-",
        "outputId": "b8f8fba2-877a-4ebe-df5d-c0a77d801a20"
      },
      "execution_count": 60,
      "outputs": [
        {
          "output_type": "display_data",
          "data": {
            "text/plain": [
              "<Figure size 432x288 with 1 Axes>"
            ],
            "image/png": "[encoded data removed]"
          },
          "metadata": {
            "needs_background": "light"
          }
        }
      ]
    },
    {
      "cell_type": "code",
      "source": [
        "from yellowbrick.cluster import KElbowVisualizer\n",
        "model = KMeans()\n",
        "visualizer = KElbowVisualizer(model, k=(1,14)).fit(Scaled_Data)\n",
        "visualizer.show()"
      ],
      "metadata": {
        "colab": {
          "base_uri": "https://localhost:8080/",
          "height": 393
        },
        "id": "5SDyJ7N9wC35",
        "outputId": "7e7d37f6-eb19-40d7-c5df-e30d39928f61"
      },
      "execution_count": 61,
      "outputs": [
        {
          "output_type": "display_data",
          "data": {
            "text/plain": [
              "<Figure size 576x396 with 2 Axes>"
            ],
            "image/png": "[encoded data removed]"
          },
          "metadata": {}
        },
        {
          "output_type": "execute_result",
          "data": {
            "text/plain": [
              "<matplotlib.axes._subplots.AxesSubplot at 0x7fd8e4058850>"
            ]
          },
          "metadata": {},
          "execution_count": 61
        }
      ]
    },
    {
      "cell_type": "markdown",
      "source": [
        "**Fit Model into Dataset**"
      ],
      "metadata": {
        "id": "gphUOBa6dZBt"
      }
    },
    {
      "cell_type": "code",
      "source": [
        "from sklearn.cluster import KMeans\n",
        "kmeans = KMeans(n_clusters=3, init='k-means++', random_state=0).fit(Scaled_Data)"
      ],
      "metadata": {
        "id": "FTqvURG0wnB9"
      },
      "execution_count": 62,
      "outputs": []
    },
    {
      "cell_type": "code",
      "source": [
        "kmeans.labels_ "
      ],
      "metadata": {
        "colab": {
          "base_uri": "https://localhost:8080/"
        },
        "id": "CilPPdFnww_K",
        "outputId": "3cab70fd-9c77-4847-94ad-d9966ba08d28"
      },
      "execution_count": 63,
      "outputs": [
        {
          "output_type": "execute_result",
          "data": {
            "text/plain": [
              "array([0, 0, 1, ..., 1, 1, 1], dtype=int32)"
            ]
          },
          "metadata": {},
          "execution_count": 63
        }
      ]
    },
    {
      "cell_type": "code",
      "source": [
        "df_segm_kmeans= Scaled_Data.copy()\n",
        "Scaled_Data['Segment K-means'] = kmeans.labels_"
      ],
      "metadata": {
        "id": "IvzcwAWudvgo"
      },
      "execution_count": 64,
      "outputs": []
    },
    {
      "cell_type": "code",
      "source": [
        "df_segm_kmeans"
      ],
      "metadata": {
        "colab": {
          "base_uri": "https://localhost:8080/",
          "height": 424
        },
        "id": "HXN4Baed3qfU",
        "outputId": "63b13641-17e8-4d80-91dd-a1c5541ca000"
      },
      "execution_count": 65,
      "outputs": [
        {
          "output_type": "execute_result",
          "data": {
            "text/plain": [
              "        Recency  Frequency  Monetary\n",
              "0     -2.631786   7.753146  5.060206\n",
              "1     -2.631786   7.199387  4.777193\n",
              "2      0.808724  -0.344909  0.161236\n",
              "3      0.132562  -0.344909 -0.204863\n",
              "4      0.805021  -0.344909 -0.150888\n",
              "...         ...        ...       ...\n",
              "16050  0.616659  -0.344909 -0.090040\n",
              "16051  0.520395  -0.344909 -0.237207\n",
              "16052  0.616659  -0.344909 -0.553172\n",
              "16053  0.616659  -0.344909 -0.230334\n",
              "16054  0.613882  -2.507527 -0.547512\n",
              "\n",
              "[16055 rows x 3 columns]"
            ],
            "text/html": [
              "\n",
              "  <div id=\"df-54424de8-6de8-4bc1-98b2-a55b4ba7e154\">\n",
              "    <div class=\"colab-df-container\">\n",
              "      <div>\n",
              "<style scoped>\n",
              "    .dataframe tbody tr th:only-of-type {\n",
              "        vertical-align: middle;\n",
              "    }\n",
              "\n",
              "    .dataframe tbody tr th {\n",
              "        vertical-align: top;\n",
              "    }\n",
              "\n",
              "    .dataframe thead th {\n",
              "        text-align: right;\n",
              "    }\n",
              "</style>\n",
              "<table border=\"1\" class=\"dataframe\">\n",
              "  <thead>\n",
              "    <tr style=\"text-align: right;\">\n",
              "      <th></th>\n",
              "      <th>Recency</th>\n",
              "      <th>Frequency</th>\n",
              "      <th>Monetary</th>\n",
              "    </tr>\n",
              "  </thead>\n",
              "  <tbody>\n",
              "    <tr>\n",
              "      <th>0</th>\n",
              "      <td>-2.631786</td>\n",
              "      <td>7.753146</td>\n",
              "      <td>5.060206</td>\n",
              "    </tr>\n",
              "    <tr>\n",
              "      <th>1</th>\n",
              "      <td>-2.631786</td>\n",
              "      <td>7.199387</td>\n",
              "      <td>4.777193</td>\n",
              "    </tr>\n",
              "    <tr>\n",
              "      <th>2</th>\n",
              "      <td>0.808724</td>\n",
              "      <td>-0.344909</td>\n",
              "      <td>0.161236</td>\n",
              "    </tr>\n",
              "    <tr>\n",
              "      <th>3</th>\n",
              "      <td>0.132562</td>\n",
              "      <td>-0.344909</td>\n",
              "      <td>-0.204863</td>\n",
              "    </tr>\n",
              "    <tr>\n",
              "      <th>4</th>\n",
              "      <td>0.805021</td>\n",
              "      <td>-0.344909</td>\n",
              "      <td>-0.150888</td>\n",
              "    </tr>\n",
              "    <tr>\n",
              "      <th>...</th>\n",
              "      <td>...</td>\n",
              "      <td>...</td>\n",
              "      <td>...</td>\n",
              "    </tr>\n",
              "    <tr>\n",
              "      <th>16050</th>\n",
              "      <td>0.616659</td>\n",
              "      <td>-0.344909</td>\n",
              "      <td>-0.090040</td>\n",
              "    </tr>\n",
              "    <tr>\n",
              "      <th>16051</th>\n",
              "      <td>0.520395</td>\n",
              "      <td>-0.344909</td>\n",
              "      <td>-0.237207</td>\n",
              "    </tr>\n",
              "    <tr>\n",
              "      <th>16052</th>\n",
              "      <td>0.616659</td>\n",
              "      <td>-0.344909</td>\n",
              "      <td>-0.553172</td>\n",
              "    </tr>\n",
              "    <tr>\n",
              "      <th>16053</th>\n",
              "      <td>0.616659</td>\n",
              "      <td>-0.344909</td>\n",
              "      <td>-0.230334</td>\n",
              "    </tr>\n",
              "    <tr>\n",
              "      <th>16054</th>\n",
              "      <td>0.613882</td>\n",
              "      <td>-2.507527</td>\n",
              "      <td>-0.547512</td>\n",
              "    </tr>\n",
              "  </tbody>\n",
              "</table>\n",
              "<p>16055 rows × 3 columns</p>\n",
              "</div>\n",
              "      <button class=\"colab-df-convert\" onclick=\"convertToInteractive('df-54424de8-6de8-4bc1-98b2-a55b4ba7e154')\"\n",
              "              title=\"Convert this dataframe to an interactive table.\"\n",
              "              style=\"display:none;\">\n",
              "        \n",
              "  <svg xmlns=\"http://www.w3.org/2000/svg\" height=\"24px\"viewBox=\"0 0 24 24\"\n",
              "       width=\"24px\">\n",
              "    <path d=\"M0 0h24v24H0V0z\" fill=\"none\"/>\n",
              "    <path d=\"M18.56 5.44l.94 2.06.94-2.06 2.06-.94-2.06-.94-.94-2.06-.94 2.06-2.06.94zm-11 1L8.5 8.5l.94-2.06 2.06-.94-2.06-.94L8.5 2.5l-.94 2.06-2.06.94zm10 10l.94 2.06.94-2.06 2.06-.94-2.06-.94-.94-2.06-.94 2.06-2.06.94z\"/><path d=\"M17.41 7.96l-1.37-1.37c-.4-.4-.92-.59-1.43-.59-.52 0-1.04.2-1.43.59L10.3 9.45l-7.72 7.72c-.78.78-.78 2.05 0 2.83L4 21.41c.39.39.9.59 1.41.59.51 0 1.02-.2 1.41-.59l7.78-7.78 2.81-2.81c.8-.78.8-2.07 0-2.86zM5.41 20L4 18.59l7.72-7.72 1.47 1.35L5.41 20z\"/>\n",
              "  </svg>\n",
              "      </button>\n",
              "      \n",
              "  <style>\n",
              "    .colab-df-container {\n",
              "      display:flex;\n",
              "      flex-wrap:wrap;\n",
              "      gap: 12px;\n",
              "    }\n",
              "\n",
              "    .colab-df-convert {\n",
              "      background-color: #E8F0FE;\n",
              "      border: none;\n",
              "      border-radius: 50%;\n",
              "      cursor: pointer;\n",
              "      display: none;\n",
              "      fill: #1967D2;\n",
              "      height: 32px;\n",
              "      padding: 0 0 0 0;\n",
              "      width: 32px;\n",
              "    }\n",
              "\n",
              "    .colab-df-convert:hover {\n",
              "      background-color: #E2EBFA;\n",
              "      box-shadow: 0px 1px 2px rgba(60, 64, 67, 0.3), 0px 1px 3px 1px rgba(60, 64, 67, 0.15);\n",
              "      fill: #174EA6;\n",
              "    }\n",
              "\n",
              "    [theme=dark] .colab-df-convert {\n",
              "      background-color: #3B4455;\n",
              "      fill: #D2E3FC;\n",
              "    }\n",
              "\n",
              "    [theme=dark] .colab-df-convert:hover {\n",
              "      background-color: #434B5C;\n",
              "      box-shadow: 0px 1px 3px 1px rgba(0, 0, 0, 0.15);\n",
              "      filter: drop-shadow(0px 1px 2px rgba(0, 0, 0, 0.3));\n",
              "      fill: #FFFFFF;\n",
              "    }\n",
              "  </style>\n",
              "\n",
              "      <script>\n",
              "        const buttonEl =\n",
              "          document.querySelector('#df-54424de8-6de8-4bc1-98b2-a55b4ba7e154 button.colab-df-convert');\n",
              "        buttonEl.style.display =\n",
              "          google.colab.kernel.accessAllowed ? 'block' : 'none';\n",
              "\n",
              "        async function convertToInteractive(key) {\n",
              "          const element = document.querySelector('#df-54424de8-6de8-4bc1-98b2-a55b4ba7e154');\n",
              "          const dataTable =\n",
              "            await google.colab.kernel.invokeFunction('convertToInteractive',\n",
              "                                                     [key], {});\n",
              "          if (!dataTable) return;\n",
              "\n",
              "          const docLinkHtml = 'Like what you see? Visit the ' +\n",
              "            '<a target=\"_blank\" href=https://colab.research.google.com/notebooks/data_table.ipynb>data table notebook</a>'\n",
              "            + ' to learn more about interactive tables.';\n",
              "          element.innerHTML = '';\n",
              "          dataTable['output_type'] = 'display_data';\n",
              "          await google.colab.output.renderOutput(dataTable, element);\n",
              "          const docLink = document.createElement('div');\n",
              "          docLink.innerHTML = docLinkHtml;\n",
              "          element.appendChild(docLink);\n",
              "        }\n",
              "      </script>\n",
              "    </div>\n",
              "  </div>\n",
              "  "
            ]
          },
          "metadata": {},
          "execution_count": 65
        }
      ]
    },
    {
      "cell_type": "code",
      "source": [
        "df_segm_analysis = Scaled_Data.groupby(['Segment K-means']).mean()\n",
        "df_segm_analysis"
      ],
      "metadata": {
        "colab": {
          "base_uri": "https://localhost:8080/",
          "height": 175
        },
        "id": "va-QwjToeWJM",
        "outputId": "c02cba58-bae9-45db-9f04-6be23cd4cd8f"
      },
      "execution_count": 66,
      "outputs": [
        {
          "output_type": "execute_result",
          "data": {
            "text/plain": [
              "                  Recency  Frequency  Monetary\n",
              "Segment K-means                               \n",
              "0               -2.305652   2.972606  2.251349\n",
              "1                0.444005  -0.351119 -0.447008\n",
              "2               -1.604536   0.427362  1.666569"
            ],
            "text/html": [
              "\n",
              "  <div id=\"df-9fcd68a5-f4da-4e07-8270-eb9a3c4c9b1f\">\n",
              "    <div class=\"colab-df-container\">\n",
              "      <div>\n",
              "<style scoped>\n",
              "    .dataframe tbody tr th:only-of-type {\n",
              "        vertical-align: middle;\n",
              "    }\n",
              "\n",
              "    .dataframe tbody tr th {\n",
              "        vertical-align: top;\n",
              "    }\n",
              "\n",
              "    .dataframe thead th {\n",
              "        text-align: right;\n",
              "    }\n",
              "</style>\n",
              "<table border=\"1\" class=\"dataframe\">\n",
              "  <thead>\n",
              "    <tr style=\"text-align: right;\">\n",
              "      <th></th>\n",
              "      <th>Recency</th>\n",
              "      <th>Frequency</th>\n",
              "      <th>Monetary</th>\n",
              "    </tr>\n",
              "    <tr>\n",
              "      <th>Segment K-means</th>\n",
              "      <th></th>\n",
              "      <th></th>\n",
              "      <th></th>\n",
              "    </tr>\n",
              "  </thead>\n",
              "  <tbody>\n",
              "    <tr>\n",
              "      <th>0</th>\n",
              "      <td>-2.305652</td>\n",
              "      <td>2.972606</td>\n",
              "      <td>2.251349</td>\n",
              "    </tr>\n",
              "    <tr>\n",
              "      <th>1</th>\n",
              "      <td>0.444005</td>\n",
              "      <td>-0.351119</td>\n",
              "      <td>-0.447008</td>\n",
              "    </tr>\n",
              "    <tr>\n",
              "      <th>2</th>\n",
              "      <td>-1.604536</td>\n",
              "      <td>0.427362</td>\n",
              "      <td>1.666569</td>\n",
              "    </tr>\n",
              "  </tbody>\n",
              "</table>\n",
              "</div>\n",
              "      <button class=\"colab-df-convert\" onclick=\"convertToInteractive('df-9fcd68a5-f4da-4e07-8270-eb9a3c4c9b1f')\"\n",
              "              title=\"Convert this dataframe to an interactive table.\"\n",
              "              style=\"display:none;\">\n",
              "        \n",
              "  <svg xmlns=\"http://www.w3.org/2000/svg\" height=\"24px\"viewBox=\"0 0 24 24\"\n",
              "       width=\"24px\">\n",
              "    <path d=\"M0 0h24v24H0V0z\" fill=\"none\"/>\n",
              "    <path d=\"M18.56 5.44l.94 2.06.94-2.06 2.06-.94-2.06-.94-.94-2.06-.94 2.06-2.06.94zm-11 1L8.5 8.5l.94-2.06 2.06-.94-2.06-.94L8.5 2.5l-.94 2.06-2.06.94zm10 10l.94 2.06.94-2.06 2.06-.94-2.06-.94-.94-2.06-.94 2.06-2.06.94z\"/><path d=\"M17.41 7.96l-1.37-1.37c-.4-.4-.92-.59-1.43-.59-.52 0-1.04.2-1.43.59L10.3 9.45l-7.72 7.72c-.78.78-.78 2.05 0 2.83L4 21.41c.39.39.9.59 1.41.59.51 0 1.02-.2 1.41-.59l7.78-7.78 2.81-2.81c.8-.78.8-2.07 0-2.86zM5.41 20L4 18.59l7.72-7.72 1.47 1.35L5.41 20z\"/>\n",
              "  </svg>\n",
              "      </button>\n",
              "      \n",
              "  <style>\n",
              "    .colab-df-container {\n",
              "      display:flex;\n",
              "      flex-wrap:wrap;\n",
              "      gap: 12px;\n",
              "    }\n",
              "\n",
              "    .colab-df-convert {\n",
              "      background-color: #E8F0FE;\n",
              "      border: none;\n",
              "      border-radius: 50%;\n",
              "      cursor: pointer;\n",
              "      display: none;\n",
              "      fill: #1967D2;\n",
              "      height: 32px;\n",
              "      padding: 0 0 0 0;\n",
              "      width: 32px;\n",
              "    }\n",
              "\n",
              "    .colab-df-convert:hover {\n",
              "      background-color: #E2EBFA;\n",
              "      box-shadow: 0px 1px 2px rgba(60, 64, 67, 0.3), 0px 1px 3px 1px rgba(60, 64, 67, 0.15);\n",
              "      fill: #174EA6;\n",
              "    }\n",
              "\n",
              "    [theme=dark] .colab-df-convert {\n",
              "      background-color: #3B4455;\n",
              "      fill: #D2E3FC;\n",
              "    }\n",
              "\n",
              "    [theme=dark] .colab-df-convert:hover {\n",
              "      background-color: #434B5C;\n",
              "      box-shadow: 0px 1px 3px 1px rgba(0, 0, 0, 0.15);\n",
              "      filter: drop-shadow(0px 1px 2px rgba(0, 0, 0, 0.3));\n",
              "      fill: #FFFFFF;\n",
              "    }\n",
              "  </style>\n",
              "\n",
              "      <script>\n",
              "        const buttonEl =\n",
              "          document.querySelector('#df-9fcd68a5-f4da-4e07-8270-eb9a3c4c9b1f button.colab-df-convert');\n",
              "        buttonEl.style.display =\n",
              "          google.colab.kernel.accessAllowed ? 'block' : 'none';\n",
              "\n",
              "        async function convertToInteractive(key) {\n",
              "          const element = document.querySelector('#df-9fcd68a5-f4da-4e07-8270-eb9a3c4c9b1f');\n",
              "          const dataTable =\n",
              "            await google.colab.kernel.invokeFunction('convertToInteractive',\n",
              "                                                     [key], {});\n",
              "          if (!dataTable) return;\n",
              "\n",
              "          const docLinkHtml = 'Like what you see? Visit the ' +\n",
              "            '<a target=\"_blank\" href=https://colab.research.google.com/notebooks/data_table.ipynb>data table notebook</a>'\n",
              "            + ' to learn more about interactive tables.';\n",
              "          element.innerHTML = '';\n",
              "          dataTable['output_type'] = 'display_data';\n",
              "          await google.colab.output.renderOutput(dataTable, element);\n",
              "          const docLink = document.createElement('div');\n",
              "          docLink.innerHTML = docLinkHtml;\n",
              "          element.appendChild(docLink);\n",
              "        }\n",
              "      </script>\n",
              "    </div>\n",
              "  </div>\n",
              "  "
            ]
          },
          "metadata": {},
          "execution_count": 66
        }
      ]
    },
    {
      "cell_type": "code",
      "source": [
        "df_segm_analysis.rename({0:'Top depositing customers',\n",
        "                         1:'Low depositing Customers',\n",
        "                         2:'High depositing Customers'}, inplace = True)\n",
        "                       "
      ],
      "metadata": {
        "id": "8UQMWsKqfBeV"
      },
      "execution_count": 67,
      "outputs": []
    },
    {
      "cell_type": "code",
      "source": [
        "df_segm_analysis"
      ],
      "metadata": {
        "colab": {
          "base_uri": "https://localhost:8080/",
          "height": 175
        },
        "id": "KEwO7SQFnS8z",
        "outputId": "6c65cce5-56fd-41b4-ed10-711fda99185b"
      },
      "execution_count": 68,
      "outputs": [
        {
          "output_type": "execute_result",
          "data": {
            "text/plain": [
              "                            Recency  Frequency  Monetary\n",
              "Segment K-means                                         \n",
              "Top depositing customers  -2.305652   2.972606  2.251349\n",
              "Low depositing Customers   0.444005  -0.351119 -0.447008\n",
              "High depositing Customers -1.604536   0.427362  1.666569"
            ],
            "text/html": [
              "\n",
              "  <div id=\"df-2cdc0fa9-0c6d-4ab8-a65c-aab10d51d21e\">\n",
              "    <div class=\"colab-df-container\">\n",
              "      <div>\n",
              "<style scoped>\n",
              "    .dataframe tbody tr th:only-of-type {\n",
              "        vertical-align: middle;\n",
              "    }\n",
              "\n",
              "    .dataframe tbody tr th {\n",
              "        vertical-align: top;\n",
              "    }\n",
              "\n",
              "    .dataframe thead th {\n",
              "        text-align: right;\n",
              "    }\n",
              "</style>\n",
              "<table border=\"1\" class=\"dataframe\">\n",
              "  <thead>\n",
              "    <tr style=\"text-align: right;\">\n",
              "      <th></th>\n",
              "      <th>Recency</th>\n",
              "      <th>Frequency</th>\n",
              "      <th>Monetary</th>\n",
              "    </tr>\n",
              "    <tr>\n",
              "      <th>Segment K-means</th>\n",
              "      <th></th>\n",
              "      <th></th>\n",
              "      <th></th>\n",
              "    </tr>\n",
              "  </thead>\n",
              "  <tbody>\n",
              "    <tr>\n",
              "      <th>Top depositing customers</th>\n",
              "      <td>-2.305652</td>\n",
              "      <td>2.972606</td>\n",
              "      <td>2.251349</td>\n",
              "    </tr>\n",
              "    <tr>\n",
              "      <th>Low depositing Customers</th>\n",
              "      <td>0.444005</td>\n",
              "      <td>-0.351119</td>\n",
              "      <td>-0.447008</td>\n",
              "    </tr>\n",
              "    <tr>\n",
              "      <th>High depositing Customers</th>\n",
              "      <td>-1.604536</td>\n",
              "      <td>0.427362</td>\n",
              "      <td>1.666569</td>\n",
              "    </tr>\n",
              "  </tbody>\n",
              "</table>\n",
              "</div>\n",
              "      <button class=\"colab-df-convert\" onclick=\"convertToInteractive('df-2cdc0fa9-0c6d-4ab8-a65c-aab10d51d21e')\"\n",
              "              title=\"Convert this dataframe to an interactive table.\"\n",
              "              style=\"display:none;\">\n",
              "        \n",
              "  <svg xmlns=\"http://www.w3.org/2000/svg\" height=\"24px\"viewBox=\"0 0 24 24\"\n",
              "       width=\"24px\">\n",
              "    <path d=\"M0 0h24v24H0V0z\" fill=\"none\"/>\n",
              "    <path d=\"M18.56 5.44l.94 2.06.94-2.06 2.06-.94-2.06-.94-.94-2.06-.94 2.06-2.06.94zm-11 1L8.5 8.5l.94-2.06 2.06-.94-2.06-.94L8.5 2.5l-.94 2.06-2.06.94zm10 10l.94 2.06.94-2.06 2.06-.94-2.06-.94-.94-2.06-.94 2.06-2.06.94z\"/><path d=\"M17.41 7.96l-1.37-1.37c-.4-.4-.92-.59-1.43-.59-.52 0-1.04.2-1.43.59L10.3 9.45l-7.72 7.72c-.78.78-.78 2.05 0 2.83L4 21.41c.39.39.9.59 1.41.59.51 0 1.02-.2 1.41-.59l7.78-7.78 2.81-2.81c.8-.78.8-2.07 0-2.86zM5.41 20L4 18.59l7.72-7.72 1.47 1.35L5.41 20z\"/>\n",
              "  </svg>\n",
              "      </button>\n",
              "      \n",
              "  <style>\n",
              "    .colab-df-container {\n",
              "      display:flex;\n",
              "      flex-wrap:wrap;\n",
              "      gap: 12px;\n",
              "    }\n",
              "\n",
              "    .colab-df-convert {\n",
              "      background-color: #E8F0FE;\n",
              "      border: none;\n",
              "      border-radius: 50%;\n",
              "      cursor: pointer;\n",
              "      display: none;\n",
              "      fill: #1967D2;\n",
              "      height: 32px;\n",
              "      padding: 0 0 0 0;\n",
              "      width: 32px;\n",
              "    }\n",
              "\n",
              "    .colab-df-convert:hover {\n",
              "      background-color: #E2EBFA;\n",
              "      box-shadow: 0px 1px 2px rgba(60, 64, 67, 0.3), 0px 1px 3px 1px rgba(60, 64, 67, 0.15);\n",
              "      fill: #174EA6;\n",
              "    }\n",
              "\n",
              "    [theme=dark] .colab-df-convert {\n",
              "      background-color: #3B4455;\n",
              "      fill: #D2E3FC;\n",
              "    }\n",
              "\n",
              "    [theme=dark] .colab-df-convert:hover {\n",
              "      background-color: #434B5C;\n",
              "      box-shadow: 0px 1px 3px 1px rgba(0, 0, 0, 0.15);\n",
              "      filter: drop-shadow(0px 1px 2px rgba(0, 0, 0, 0.3));\n",
              "      fill: #FFFFFF;\n",
              "    }\n",
              "  </style>\n",
              "\n",
              "      <script>\n",
              "        const buttonEl =\n",
              "          document.querySelector('#df-2cdc0fa9-0c6d-4ab8-a65c-aab10d51d21e button.colab-df-convert');\n",
              "        buttonEl.style.display =\n",
              "          google.colab.kernel.accessAllowed ? 'block' : 'none';\n",
              "\n",
              "        async function convertToInteractive(key) {\n",
              "          const element = document.querySelector('#df-2cdc0fa9-0c6d-4ab8-a65c-aab10d51d21e');\n",
              "          const dataTable =\n",
              "            await google.colab.kernel.invokeFunction('convertToInteractive',\n",
              "                                                     [key], {});\n",
              "          if (!dataTable) return;\n",
              "\n",
              "          const docLinkHtml = 'Like what you see? Visit the ' +\n",
              "            '<a target=\"_blank\" href=https://colab.research.google.com/notebooks/data_table.ipynb>data table notebook</a>'\n",
              "            + ' to learn more about interactive tables.';\n",
              "          element.innerHTML = '';\n",
              "          dataTable['output_type'] = 'display_data';\n",
              "          await google.colab.output.renderOutput(dataTable, element);\n",
              "          const docLink = document.createElement('div');\n",
              "          docLink.innerHTML = docLinkHtml;\n",
              "          element.appendChild(docLink);\n",
              "        }\n",
              "      </script>\n",
              "    </div>\n",
              "  </div>\n",
              "  "
            ]
          },
          "metadata": {},
          "execution_count": 68
        }
      ]
    },
    {
      "cell_type": "code",
      "source": [
        "\n",
        "\n",
        "x_axis = Scaled_Data['Monetary']\n",
        "y_axis = Scaled_Data['Frequency']\n",
        "plt.figure(figsize = (10, 8))\n",
        "sns.scatterplot(x_axis, y_axis, hue= Scaled_Data['Segment K-means'],palette= ['g', 'r', 'c'])\n",
        "plt.title('Segmentation K-means')\n",
        "plt.show()"
      ],
      "metadata": {
        "colab": {
          "base_uri": "https://localhost:8080/",
          "height": 567
        },
        "id": "aEayRAnFf5bg",
        "outputId": "8fc24bc0-c3c5-429c-a948-57837b172c55"
      },
      "execution_count": 69,
      "outputs": [
        {
          "output_type": "stream",
          "name": "stderr",
          "text": [
            "/usr/local/lib/python3.7/dist-packages/seaborn/_decorators.py:43: FutureWarning: Pass the following variables as keyword args: x, y. From version 0.12, the only valid positional argument will be `data`, and passing other arguments without an explicit keyword will result in an error or misinterpretation.\n",
            "  FutureWarning\n"
          ]
        },
        {
          "output_type": "display_data",
          "data": {
            "text/plain": [
              "<Figure size 720x576 with 1 Axes>"
            ],
            "image/png": "[encoded data removed]"
          },
          "metadata": {}
        }
      ]
    },
    {
      "cell_type": "code",
      "source": [
        "kmeans.cluster_centers_"
      ],
      "metadata": {
        "colab": {
          "base_uri": "https://localhost:8080/"
        },
        "id": "kdovD-Srw8vr",
        "outputId": "ab424d14-43e0-4c76-fdf5-0c3f7fddba57"
      },
      "execution_count": 70,
      "outputs": [
        {
          "output_type": "execute_result",
          "data": {
            "text/plain": [
              "array([[-2.30645816,  2.97449237,  2.25189631],\n",
              "       [ 0.44400485, -0.35111944, -0.44700819],\n",
              "       [-1.60474516,  0.42888206,  1.66683475]])"
            ]
          },
          "metadata": {},
          "execution_count": 70
        }
      ]
    },
    {
      "cell_type": "code",
      "source": [
        "from collections import Counter\n",
        "Counter(kmeans.labels_)"
      ],
      "metadata": {
        "colab": {
          "base_uri": "https://localhost:8080/"
        },
        "id": "iVSaU6RrxAjw",
        "outputId": "154091c6-bf45-4e52-ad02-b8f430501fe0"
      },
      "execution_count": 71,
      "outputs": [
        {
          "output_type": "execute_result",
          "data": {
            "text/plain": [
              "Counter({0: 1285, 1: 13015, 2: 1755})"
            ]
          },
          "metadata": {},
          "execution_count": 71
        }
      ]
    },
    {
      "cell_type": "code",
      "source": [
        "Log_Tfd_Data.describe()\n",
        "Log_Tfd_Data.var()"
      ],
      "metadata": {
        "colab": {
          "base_uri": "https://localhost:8080/"
        },
        "id": "WsqGWudBiT7W",
        "outputId": "d2b2a455-5d9c-4fd4-b74f-b84881a6f79b"
      },
      "execution_count": null,
      "outputs": [
        {
          "output_type": "execute_result",
          "data": {
            "text/plain": [
              "Recency       4.669029\n",
              "Frequency     0.553579\n",
              "Monetary     24.471897\n",
              "dtype: float64"
            ]
          },
          "metadata": {},
          "execution_count": 77
        }
      ]
    },
    {
      "cell_type": "markdown",
      "source": [
        "**K-Means Version 2**"
      ],
      "metadata": {
        "id": "CHGpu_T-JwqR"
      }
    },
    {
      "cell_type": "code",
      "source": [
        "#Importing required modules\n",
        " \n",
        "from sklearn.datasets import load_digits\n",
        "from sklearn.decomposition import PCA\n",
        "from sklearn.cluster import KMeans\n",
        "import numpy as np\n",
        " \n",
        "#Load Data\n",
        "data = Scaled_Data\n",
        "pca = PCA(2)\n",
        " \n",
        "#Transform the data\n",
        "df = pca.fit_transform(data)\n",
        "\n",
        " \n",
        "#Import KMeans module\n",
        "from sklearn.cluster import KMeans\n",
        " \n",
        "#Initialize the class object\n",
        "kmeans = KMeans(n_clusters= 3)\n",
        " \n",
        "#predict the labels of clusters.\n",
        "label = kmeans.fit_predict(df)\n",
        " \n",
        "#Getting unique labels\n",
        "u_labels = np.unique(label)\n",
        " \n",
        "#plotting the results:\n",
        "for i in u_labels:\n",
        "    plt.scatter(df[label == i , 0] , df[label == i , 1] , label = i)\n",
        "plt.legend()\n",
        "plt.show()"
      ],
      "metadata": {
        "colab": {
          "base_uri": "https://localhost:8080/",
          "height": 347
        },
        "id": "2FxC6SqeJFbb",
        "outputId": "cdc22ef4-f0f9-4df4-ccca-55700ee9c2f6"
      },
      "execution_count": null,
      "outputs": [
        {
          "output_type": "display_data",
          "data": {
            "text/plain": [
              "<Figure size 576x396 with 1 Axes>"
            ],
            "image/png": "[encoded data removed]"
          },
          "metadata": {}
        }
      ]
    }
  ]
}