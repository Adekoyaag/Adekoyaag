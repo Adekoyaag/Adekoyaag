{
  "nbformat": 4,
  "nbformat_minor": 0,
  "metadata": {
    "colab": {
      "name": "Clustering-Kmeans.ipynb",
      "provenance": [],
      "collapsed_sections": [],
      "authorship_tag": "ABX9TyOCfZ7ClB0CrBIApzfBlyhq",
      "include_colab_link": true
    },
    "kernelspec": {
      "name": "python3",
      "display_name": "Python 3"
    },
    "language_info": {
      "name": "python"
    }
  },
  "cells": [
    {
      "cell_type": "markdown",
      "metadata": {
        "id": "view-in-github",
        "colab_type": "text"
      },
      "source": [
        "<a href=\"https://colab.research.google.com/github/Adekoyaag/Adekoyaag/blob/main/Clustering_Kmeans.ipynb\" target=\"_parent\"><img src=\"https://colab.research.google.com/assets/colab-badge.svg\" alt=\"Open In Colab\"/></a>"
      ]
    },
    {
      "cell_type": "markdown",
      "source": [
        "Setting up PySpark in Colab"
      ],
      "metadata": {
        "id": "t0etjiEZSs0E"
      }
    },
    {
      "cell_type": "code",
      "execution_count": 1,
      "metadata": {
        "colab": {
          "base_uri": "https://localhost:8080/"
        },
        "id": "6-pmrvHUSl_J",
        "outputId": "2558727f-eb9c-4aa8-f006-61c880ba7918"
      },
      "outputs": [
        {
          "output_type": "stream",
          "name": "stdout",
          "text": [
            "Reading package lists... Done\n",
            "Building dependency tree       \n",
            "Reading state information... Done\n",
            "The following packages were automatically installed and are no longer required:\n",
            "  libnvidia-common-460 nsight-compute-2020.2.0\n",
            "Use 'apt autoremove' to remove them.\n",
            "The following additional packages will be installed:\n",
            "  openjdk-8-jre-headless\n",
            "Suggested packages:\n",
            "  openjdk-8-demo openjdk-8-source libnss-mdns fonts-dejavu-extra\n",
            "  fonts-ipafont-gothic fonts-ipafont-mincho fonts-wqy-microhei\n",
            "  fonts-wqy-zenhei fonts-indic\n",
            "The following NEW packages will be installed:\n",
            "  openjdk-8-jdk-headless openjdk-8-jre-headless\n",
            "0 upgraded, 2 newly installed, 0 to remove and 42 not upgraded.\n",
            "Need to get 36.5 MB of archives.\n",
            "After this operation, 143 MB of additional disk space will be used.\n",
            "Get:1 http://archive.ubuntu.com/ubuntu bionic-updates/universe amd64 openjdk-8-jre-headless amd64 8u312-b07-0ubuntu1~18.04 [28.2 MB]\n",
            "Get:2 http://archive.ubuntu.com/ubuntu bionic-updates/universe amd64 openjdk-8-jdk-headless amd64 8u312-b07-0ubuntu1~18.04 [8,298 kB]\n",
            "Fetched 36.5 MB in 2s (19.4 MB/s)\n",
            "Selecting previously unselected package openjdk-8-jre-headless:amd64.\n",
            "(Reading database ... 155203 files and directories currently installed.)\n",
            "Preparing to unpack .../openjdk-8-jre-headless_8u312-b07-0ubuntu1~18.04_amd64.deb ...\n",
            "Unpacking openjdk-8-jre-headless:amd64 (8u312-b07-0ubuntu1~18.04) ...\n",
            "Selecting previously unselected package openjdk-8-jdk-headless:amd64.\n",
            "Preparing to unpack .../openjdk-8-jdk-headless_8u312-b07-0ubuntu1~18.04_amd64.deb ...\n",
            "Unpacking openjdk-8-jdk-headless:amd64 (8u312-b07-0ubuntu1~18.04) ...\n",
            "Setting up openjdk-8-jre-headless:amd64 (8u312-b07-0ubuntu1~18.04) ...\n",
            "update-alternatives: using /usr/lib/jvm/java-8-openjdk-amd64/jre/bin/orbd to provide /usr/bin/orbd (orbd) in auto mode\n",
            "update-alternatives: using /usr/lib/jvm/java-8-openjdk-amd64/jre/bin/servertool to provide /usr/bin/servertool (servertool) in auto mode\n",
            "update-alternatives: using /usr/lib/jvm/java-8-openjdk-amd64/jre/bin/tnameserv to provide /usr/bin/tnameserv (tnameserv) in auto mode\n",
            "Setting up openjdk-8-jdk-headless:amd64 (8u312-b07-0ubuntu1~18.04) ...\n",
            "update-alternatives: using /usr/lib/jvm/java-8-openjdk-amd64/bin/idlj to provide /usr/bin/idlj (idlj) in auto mode\n",
            "update-alternatives: using /usr/lib/jvm/java-8-openjdk-amd64/bin/wsimport to provide /usr/bin/wsimport (wsimport) in auto mode\n",
            "update-alternatives: using /usr/lib/jvm/java-8-openjdk-amd64/bin/jsadebugd to provide /usr/bin/jsadebugd (jsadebugd) in auto mode\n",
            "update-alternatives: using /usr/lib/jvm/java-8-openjdk-amd64/bin/native2ascii to provide /usr/bin/native2ascii (native2ascii) in auto mode\n",
            "update-alternatives: using /usr/lib/jvm/java-8-openjdk-amd64/bin/javah to provide /usr/bin/javah (javah) in auto mode\n",
            "update-alternatives: using /usr/lib/jvm/java-8-openjdk-amd64/bin/hsdb to provide /usr/bin/hsdb (hsdb) in auto mode\n",
            "update-alternatives: using /usr/lib/jvm/java-8-openjdk-amd64/bin/clhsdb to provide /usr/bin/clhsdb (clhsdb) in auto mode\n",
            "update-alternatives: using /usr/lib/jvm/java-8-openjdk-amd64/bin/xjc to provide /usr/bin/xjc (xjc) in auto mode\n",
            "update-alternatives: using /usr/lib/jvm/java-8-openjdk-amd64/bin/schemagen to provide /usr/bin/schemagen (schemagen) in auto mode\n",
            "update-alternatives: using /usr/lib/jvm/java-8-openjdk-amd64/bin/extcheck to provide /usr/bin/extcheck (extcheck) in auto mode\n",
            "update-alternatives: using /usr/lib/jvm/java-8-openjdk-amd64/bin/jhat to provide /usr/bin/jhat (jhat) in auto mode\n",
            "update-alternatives: using /usr/lib/jvm/java-8-openjdk-amd64/bin/wsgen to provide /usr/bin/wsgen (wsgen) in auto mode\n"
          ]
        }
      ],
      "source": [
        "\n",
        "!apt-get install openjdk-8-jdk-headless"
      ]
    },
    {
      "cell_type": "code",
      "source": [
        "!wget https://archive.apache.org/dist/spark/spark-3.2.1/spark-3.2.1-bin-hadoop2.7.tgz\n",
        "!tar xf /content/spark-3.2.1-bin-hadoop2.7.tgz\n",
        "!pip install -q findspark"
      ],
      "metadata": {
        "colab": {
          "base_uri": "https://localhost:8080/"
        },
        "id": "RtSDB9c6Syry",
        "outputId": "48ae45a6-0481-435f-ea2e-c3cce70a41d3"
      },
      "execution_count": 2,
      "outputs": [
        {
          "output_type": "stream",
          "name": "stdout",
          "text": [
            "--2022-05-11 19:36:54--  https://archive.apache.org/dist/spark/spark-3.2.1/spark-3.2.1-bin-hadoop2.7.tgz\n",
            "Resolving archive.apache.org (archive.apache.org)... 138.201.131.134, 2a01:4f8:172:2ec5::2\n",
            "Connecting to archive.apache.org (archive.apache.org)|138.201.131.134|:443... connected.\n",
            "HTTP request sent, awaiting response... 200 OK\n",
            "Length: 272637746 (260M) [application/x-gzip]\n",
            "Saving to: ‘spark-3.2.1-bin-hadoop2.7.tgz’\n",
            "\n",
            "spark-3.2.1-bin-had 100%[===================>] 260.01M  59.9MB/s    in 5.3s    \n",
            "\n",
            "2022-05-11 19:36:59 (48.8 MB/s) - ‘spark-3.2.1-bin-hadoop2.7.tgz’ saved [272637746/272637746]\n",
            "\n"
          ]
        }
      ]
    },
    {
      "cell_type": "code",
      "source": [
        "import os\n",
        "os.environ[\"JAVA_HOME\"] = \"/usr/lib/jvm/java-8-openjdk-amd64\"\n",
        "os.environ[\"SPARK_HOME\"] = \"/content/spark-3.2.1-bin-hadoop2.7\""
      ],
      "metadata": {
        "id": "-xka_YLrTZGM"
      },
      "execution_count": 3,
      "outputs": []
    },
    {
      "cell_type": "code",
      "source": [
        "import findspark\n",
        "findspark.init()\n",
        "findspark.find()"
      ],
      "metadata": {
        "colab": {
          "base_uri": "https://localhost:8080/",
          "height": 35
        },
        "id": "7OYiGkkkTf1I",
        "outputId": "fdac47d0-fb29-4e7b-b12d-d0dd31353ad8"
      },
      "execution_count": 4,
      "outputs": [
        {
          "output_type": "execute_result",
          "data": {
            "text/plain": [
              "'/content/spark-3.2.1-bin-hadoop2.7'"
            ],
            "application/vnd.google.colaboratory.intrinsic+json": {
              "type": "string"
            }
          },
          "metadata": {},
          "execution_count": 4
        }
      ]
    },
    {
      "cell_type": "markdown",
      "source": [
        "Now that we have installed all the necessary dependencies in Colab, it is time to set the environment path. This will enable us to run Pyspark in the Colab environment."
      ],
      "metadata": {
        "id": "hEza4tedUQF-"
      }
    },
    {
      "cell_type": "code",
      "source": [
        "import pyspark\n",
        "import numpy as np\n",
        "import pandas as pd"
      ],
      "metadata": {
        "id": "fLyh_0FZUQ8E"
      },
      "execution_count": 5,
      "outputs": []
    },
    {
      "cell_type": "markdown",
      "source": [
        "# Problem description\n",
        "In this exercise, we will develop two classifiers to perform a binary classification task - The objective is to predict the big or small buyers in the Flamingo dataset (label 1) or not (label 0)."
      ],
      "metadata": {
        "id": "9YNTgGR0WcCx"
      }
    },
    {
      "cell_type": "markdown",
      "source": [
        "Data Preparation\n",
        "Removing columns and rows\n",
        "Import needed dataset from github\n"
      ],
      "metadata": {
        "id": "X9YTaJJxXwFI"
      }
    },
    {
      "cell_type": "code",
      "source": [
        "from pyspark.sql import SparkSession\n",
        "\n",
        "spark = SparkSession.builder.master('local[*]').appName('Buyers').getOrCreate()\n",
        "\n",
        "# Read data from CSV file\n",
        "#you can download it from here: https://raw.githubusercontent.com/besherh/BigDataManagement/main/SparkCSV/flights-larger.csv\n",
        "df = spark.read.csv('combined-data.csv', sep=',', header=True, inferSchema=True, nullValue='NULL')\n",
        "#df = pd.read_csv(\"combined-data.csv\")\n",
        "\n"
      ],
      "metadata": {
        "id": "m6IJcZCNYKzL"
      },
      "execution_count": 6,
      "outputs": []
    },
    {
      "cell_type": "markdown",
      "source": [
        ""
      ],
      "metadata": {
        "id": "N9QPDc0gKn_R"
      }
    },
    {
      "cell_type": "code",
      "source": [
        "#View table structure\n",
        "df.printSchema()"
      ],
      "metadata": {
        "colab": {
          "base_uri": "https://localhost:8080/"
        },
        "id": "XU2LTfzmYza0",
        "outputId": "b69c2ca1-1793-4ede-cb1b-8804f70dd6bc"
      },
      "execution_count": null,
      "outputs": [
        {
          "output_type": "stream",
          "name": "stdout",
          "text": [
            "root\n",
            " |-- userId: integer (nullable = true)\n",
            " |-- userSessionId: integer (nullable = true)\n",
            " |-- teamLevel: integer (nullable = true)\n",
            " |-- platformType: string (nullable = true)\n",
            " |-- count_gameclicks: integer (nullable = true)\n",
            " |-- count_hits: integer (nullable = true)\n",
            " |-- count_buyId: integer (nullable = true)\n",
            " |-- avg_price: double (nullable = true)\n",
            "\n"
          ]
        }
      ]
    },
    {
      "cell_type": "code",
      "source": [
        "#Total number of records\n",
        "df.count()\n"
      ],
      "metadata": {
        "colab": {
          "base_uri": "https://localhost:8080/"
        },
        "id": "dYYEltqHY7PV",
        "outputId": "2d260417-0d2a-4528-f18e-3b62437313e8"
      },
      "execution_count": 7,
      "outputs": [
        {
          "output_type": "execute_result",
          "data": {
            "text/plain": [
              "4619"
            ]
          },
          "metadata": {},
          "execution_count": 7
        }
      ]
    },
    {
      "cell_type": "code",
      "source": [
        "# Find Count of Null, None, NaN of All DataFrame Columns\n",
        "from pyspark.sql.functions import col,isnan, when, count"
      ],
      "metadata": {
        "id": "ILk4cbVXrBDi"
      },
      "execution_count": 8,
      "outputs": []
    },
    {
      "cell_type": "code",
      "source": [
        "#Check for missing values\n",
        "#\n",
        "df.na.drop().count()\n"
      ],
      "metadata": {
        "colab": {
          "base_uri": "https://localhost:8080/"
        },
        "id": "ksnPChNnqaRD",
        "outputId": "ef0e24e2-f297-4de2-8810-12e30e094fb2"
      },
      "execution_count": null,
      "outputs": [
        {
          "output_type": "execute_result",
          "data": {
            "text/plain": [
              "1411"
            ]
          },
          "metadata": {},
          "execution_count": 18
        }
      ]
    },
    {
      "cell_type": "code",
      "source": [
        ""
      ],
      "metadata": {
        "id": "5CuiVbqQM8gw"
      },
      "execution_count": null,
      "outputs": []
    },
    {
      "cell_type": "code",
      "source": [
        "df.na.drop(how=\"any\", thresh=2).show()"
      ],
      "metadata": {
        "colab": {
          "base_uri": "https://localhost:8080/"
        },
        "id": "PuTbFWAjMrAv",
        "outputId": "5594f864-e041-4b8d-f950-1cde2f6bb297"
      },
      "execution_count": 9,
      "outputs": [
        {
          "output_type": "stream",
          "name": "stdout",
          "text": [
            "+------+-------------+---------+------------+----------------+----------+-----------+---------+\n",
            "|userId|userSessionId|teamLevel|platformType|count_gameclicks|count_hits|count_buyId|avg_price|\n",
            "+------+-------------+---------+------------+----------------+----------+-----------+---------+\n",
            "|   812|         5648|        1|     android|              69|         8|       null|     null|\n",
            "|  1658|         5649|        1|      iphone|              31|         5|       null|     null|\n",
            "|  1589|         5650|        1|      iphone|              26|         2|       null|     null|\n",
            "|  1863|         5651|        1|     android|              35|         4|       null|     null|\n",
            "|   937|         5652|        1|     android|              39|         0|          1|      1.0|\n",
            "|   342|         5653|        1|     android|              36|         5|       null|     null|\n",
            "|   849|         5654|        1|      iphone|              40|         5|       null|     null|\n",
            "|  1277|         5655|        1|     windows|              46|         8|       null|     null|\n",
            "|  2203|         5656|        1|     android|              68|         6|       null|     null|\n",
            "|   585|         5657|        1|      iphone|              76|         9|       null|     null|\n",
            "|  1370|         5658|        1|      iphone|              69|         6|       null|     null|\n",
            "|  1623|         5659|        1|      iphone|             129|         9|          1|     10.0|\n",
            "|   881|         5660|        1|      iphone|              36|         6|       null|     null|\n",
            "|    83|         5661|        1|     android|             102|        14|          1|      5.0|\n",
            "|   453|         5662|        1|     android|             102|         7|       null|     null|\n",
            "|  1966|         5663|        1|      iphone|              63|         8|       null|     null|\n",
            "|  1073|         5664|        1|     android|             141|        21|       null|     null|\n",
            "|   121|         5665|        1|     android|              39|         4|          1|      3.0|\n",
            "|   462|         5666|        1|     android|              90|        10|          1|      3.0|\n",
            "|   708|         5667|        1|      iphone|              32|         2|       null|     null|\n",
            "+------+-------------+---------+------------+----------------+----------+-----------+---------+\n",
            "only showing top 20 rows\n",
            "\n"
          ]
        }
      ]
    },
    {
      "cell_type": "markdown",
      "source": [
        "Fill missing values with mean of column\n"
      ],
      "metadata": {
        "id": "aSVrt8Pzb2ST"
      }
    },
    {
      "cell_type": "code",
      "source": [
        "from pyspark.ml.feature import Imputer\n",
        "\n",
        "imputer = Imputer(\n",
        "    inputCols=['count_buyId', 'avg_price'], \n",
        "    outputCols=[\"{}_imputed\".format(c) for c in ['count_buyId', 'avg_price']]\n",
        "    ).setStrategy(\"mean\")"
      ],
      "metadata": {
        "id": "bU5BCKn1NhN_"
      },
      "execution_count": 10,
      "outputs": []
    },
    {
      "cell_type": "code",
      "source": [
        "# Add imputation cols to df\n",
        "df2 = imputer.fit(df).transform(df)"
      ],
      "metadata": {
        "id": "Lqk0mRLVOEFW"
      },
      "execution_count": 11,
      "outputs": []
    },
    {
      "cell_type": "code",
      "source": [
        "df2.show()"
      ],
      "metadata": {
        "colab": {
          "base_uri": "https://localhost:8080/"
        },
        "id": "vxKKAFN7Oc8M",
        "outputId": "e7e2825b-50af-4faa-82e8-dbbab947830b"
      },
      "execution_count": null,
      "outputs": [
        {
          "output_type": "stream",
          "name": "stdout",
          "text": [
            "+------+-------------+---------+------------+----------------+----------+-----------+---------+-------------------+-----------------+\n",
            "|userId|userSessionId|teamLevel|platformType|count_gameclicks|count_hits|count_buyId|avg_price|count_buyId_imputed|avg_price_imputed|\n",
            "+------+-------------+---------+------------+----------------+----------+-----------+---------+-------------------+-----------------+\n",
            "|   812|         5648|        1|     android|              69|         8|       null|     null|                  1|7.214323175053155|\n",
            "|  1658|         5649|        1|      iphone|              31|         5|       null|     null|                  1|7.214323175053155|\n",
            "|  1589|         5650|        1|      iphone|              26|         2|       null|     null|                  1|7.214323175053155|\n",
            "|  1863|         5651|        1|     android|              35|         4|       null|     null|                  1|7.214323175053155|\n",
            "|   937|         5652|        1|     android|              39|         0|          1|      1.0|                  1|              1.0|\n",
            "|   342|         5653|        1|     android|              36|         5|       null|     null|                  1|7.214323175053155|\n",
            "|   849|         5654|        1|      iphone|              40|         5|       null|     null|                  1|7.214323175053155|\n",
            "|  1277|         5655|        1|     windows|              46|         8|       null|     null|                  1|7.214323175053155|\n",
            "|  2203|         5656|        1|     android|              68|         6|       null|     null|                  1|7.214323175053155|\n",
            "|   585|         5657|        1|      iphone|              76|         9|       null|     null|                  1|7.214323175053155|\n",
            "|  1370|         5658|        1|      iphone|              69|         6|       null|     null|                  1|7.214323175053155|\n",
            "|  1623|         5659|        1|      iphone|             129|         9|          1|     10.0|                  1|             10.0|\n",
            "|   881|         5660|        1|      iphone|              36|         6|       null|     null|                  1|7.214323175053155|\n",
            "|    83|         5661|        1|     android|             102|        14|          1|      5.0|                  1|              5.0|\n",
            "|   453|         5662|        1|     android|             102|         7|       null|     null|                  1|7.214323175053155|\n",
            "|  1966|         5663|        1|      iphone|              63|         8|       null|     null|                  1|7.214323175053155|\n",
            "|  1073|         5664|        1|     android|             141|        21|       null|     null|                  1|7.214323175053155|\n",
            "|   121|         5665|        1|     android|              39|         4|          1|      3.0|                  1|              3.0|\n",
            "|   462|         5666|        1|     android|              90|        10|          1|      3.0|                  1|              3.0|\n",
            "|   708|         5667|        1|      iphone|              32|         2|       null|     null|                  1|7.214323175053155|\n",
            "+------+-------------+---------+------------+----------------+----------+-----------+---------+-------------------+-----------------+\n",
            "only showing top 20 rows\n",
            "\n"
          ]
        }
      ]
    },
    {
      "cell_type": "code",
      "source": [
        "df2.printSchema()"
      ],
      "metadata": {
        "colab": {
          "base_uri": "https://localhost:8080/"
        },
        "id": "AX1FODyQQKXO",
        "outputId": "7c5fba79-a801-41ef-a4fb-1275a7d00f08"
      },
      "execution_count": null,
      "outputs": [
        {
          "output_type": "stream",
          "name": "stdout",
          "text": [
            "root\n",
            " |-- userId: integer (nullable = true)\n",
            " |-- userSessionId: integer (nullable = true)\n",
            " |-- teamLevel: integer (nullable = true)\n",
            " |-- platformType: string (nullable = true)\n",
            " |-- count_gameclicks: integer (nullable = true)\n",
            " |-- count_hits: integer (nullable = true)\n",
            " |-- count_buyId: integer (nullable = true)\n",
            " |-- avg_price: double (nullable = true)\n",
            " |-- count_buyId_imputed: integer (nullable = true)\n",
            " |-- avg_price_imputed: double (nullable = true)\n",
            "\n"
          ]
        }
      ]
    },
    {
      "cell_type": "code",
      "source": [
        "#Create label whether user is a big buyer or small \n",
        "\n",
        "df_players = df2.withColumn('label', (df2.avg_price_imputed >=4).cast('integer'))\n"
      ],
      "metadata": {
        "id": "Edlh1ggDPInl"
      },
      "execution_count": 12,
      "outputs": []
    },
    {
      "cell_type": "code",
      "source": [
        "df_players.show(5)"
      ],
      "metadata": {
        "colab": {
          "base_uri": "https://localhost:8080/"
        },
        "id": "hMVKNGvJQt7G",
        "outputId": "9fc9310e-6304-4cce-cbaf-3a9c8fd3e3dd"
      },
      "execution_count": 13,
      "outputs": [
        {
          "output_type": "stream",
          "name": "stdout",
          "text": [
            "+------+-------------+---------+------------+----------------+----------+-----------+---------+-------------------+-----------------+-----+\n",
            "|userId|userSessionId|teamLevel|platformType|count_gameclicks|count_hits|count_buyId|avg_price|count_buyId_imputed|avg_price_imputed|label|\n",
            "+------+-------------+---------+------------+----------------+----------+-----------+---------+-------------------+-----------------+-----+\n",
            "|   812|         5648|        1|     android|              69|         8|       null|     null|                  1|7.214323175053155|    1|\n",
            "|  1658|         5649|        1|      iphone|              31|         5|       null|     null|                  1|7.214323175053155|    1|\n",
            "|  1589|         5650|        1|      iphone|              26|         2|       null|     null|                  1|7.214323175053155|    1|\n",
            "|  1863|         5651|        1|     android|              35|         4|       null|     null|                  1|7.214323175053155|    1|\n",
            "|   937|         5652|        1|     android|              39|         0|          1|      1.0|                  1|              1.0|    0|\n",
            "+------+-------------+---------+------------+----------------+----------+-----------+---------+-------------------+-----------------+-----+\n",
            "only showing top 5 rows\n",
            "\n"
          ]
        }
      ]
    },
    {
      "cell_type": "code",
      "source": [
        "dfplayers = df_players.select(['teamLevel','platformType','count_gameclicks','count_hits','count_buyId_imputed','avg_price_imputed','label']).show()"
      ],
      "metadata": {
        "id": "VOenpp2hSSSG",
        "outputId": "6f7edf87-e017-4d01-e04b-c90938843d3e",
        "colab": {
          "base_uri": "https://localhost:8080/"
        }
      },
      "execution_count": 14,
      "outputs": [
        {
          "output_type": "stream",
          "name": "stdout",
          "text": [
            "+---------+------------+----------------+----------+-------------------+-----------------+-----+\n",
            "|teamLevel|platformType|count_gameclicks|count_hits|count_buyId_imputed|avg_price_imputed|label|\n",
            "+---------+------------+----------------+----------+-------------------+-----------------+-----+\n",
            "|        1|     android|              69|         8|                  1|7.214323175053155|    1|\n",
            "|        1|      iphone|              31|         5|                  1|7.214323175053155|    1|\n",
            "|        1|      iphone|              26|         2|                  1|7.214323175053155|    1|\n",
            "|        1|     android|              35|         4|                  1|7.214323175053155|    1|\n",
            "|        1|     android|              39|         0|                  1|              1.0|    0|\n",
            "|        1|     android|              36|         5|                  1|7.214323175053155|    1|\n",
            "|        1|      iphone|              40|         5|                  1|7.214323175053155|    1|\n",
            "|        1|     windows|              46|         8|                  1|7.214323175053155|    1|\n",
            "|        1|     android|              68|         6|                  1|7.214323175053155|    1|\n",
            "|        1|      iphone|              76|         9|                  1|7.214323175053155|    1|\n",
            "|        1|      iphone|              69|         6|                  1|7.214323175053155|    1|\n",
            "|        1|      iphone|             129|         9|                  1|             10.0|    1|\n",
            "|        1|      iphone|              36|         6|                  1|7.214323175053155|    1|\n",
            "|        1|     android|             102|        14|                  1|              5.0|    1|\n",
            "|        1|     android|             102|         7|                  1|7.214323175053155|    1|\n",
            "|        1|      iphone|              63|         8|                  1|7.214323175053155|    1|\n",
            "|        1|     android|             141|        21|                  1|7.214323175053155|    1|\n",
            "|        1|     android|              39|         4|                  1|              3.0|    0|\n",
            "|        1|     android|              90|        10|                  1|              3.0|    0|\n",
            "|        1|      iphone|              32|         2|                  1|7.214323175053155|    1|\n",
            "+---------+------------+----------------+----------+-------------------+-----------------+-----+\n",
            "only showing top 20 rows\n",
            "\n"
          ]
        }
      ]
    },
    {
      "cell_type": "code",
      "source": [
        "dfplayers.show(5)"
      ],
      "metadata": {
        "id": "MGQ8qROAVkYk"
      },
      "execution_count": null,
      "outputs": []
    },
    {
      "cell_type": "code",
      "source": [
        "#Categorical transformation of PlatformType column to indexed numerical value\n",
        "\n",
        "from pyspark.ml.feature import StringIndexer\n",
        "\n",
        "# Create an indexer\n",
        "indexer = StringIndexer(inputCol='platformType', outputCol='platformType_idx')\n",
        "\n",
        "# Indexer identifies categories in the data\n",
        "indexer_model = indexer.fit(df_players)\n",
        "\n"
      ],
      "metadata": {
        "id": "O-B9RJcgRC9F"
      },
      "execution_count": 15,
      "outputs": []
    },
    {
      "cell_type": "code",
      "source": [
        "# Indexer creates a new column with numeric index values\n",
        "platformType_idx = indexer_model.transform(df_players)\n",
        "\n",
        "# Repeat the process for the other categorical feature\n",
        "#platformType_idx = StringIndexer(inputCol='platformType', outputCol='platformType_idx').fit(df_players).transform(df_players)\n"
      ],
      "metadata": {
        "id": "hie2x4z1Rt9M"
      },
      "execution_count": 16,
      "outputs": []
    },
    {
      "cell_type": "code",
      "source": [
        "df_players.columns"
      ],
      "metadata": {
        "colab": {
          "base_uri": "https://localhost:8080/"
        },
        "id": "8hlwFsEOWuD1",
        "outputId": "40986890-acf5-4542-e083-85467d4460e9"
      },
      "execution_count": 17,
      "outputs": [
        {
          "output_type": "execute_result",
          "data": {
            "text/plain": [
              "['userId',\n",
              " 'userSessionId',\n",
              " 'teamLevel',\n",
              " 'platformType',\n",
              " 'count_gameclicks',\n",
              " 'count_hits',\n",
              " 'count_buyId',\n",
              " 'avg_price',\n",
              " 'count_buyId_imputed',\n",
              " 'avg_price_imputed',\n",
              " 'label']"
            ]
          },
          "metadata": {},
          "execution_count": 17
        }
      ]
    },
    {
      "cell_type": "code",
      "source": [
        "#Assembling columns\n",
        "\n",
        "from pyspark.ml.feature import VectorAssembler\n",
        "\n",
        "# Create an assembler object\n",
        "assembler = VectorAssembler(inputCols=[\n",
        "    'teamLevel', 'count_gameclicks', 'count_hits',\n",
        "    'count_buyId_imputed', \n",
        "    'avg_price_imputed'\n",
        "    \n",
        "], outputCol='features')\n",
        "\n",
        "# Consolidate predictor columns\n",
        "buyers_assembled = assembler.transform(df_players)\n",
        "\n",
        "# Check the resulting column\n",
        "buyers_assembled.select('features', 'label').show(5, truncate=False)"
      ],
      "metadata": {
        "colab": {
          "base_uri": "https://localhost:8080/"
        },
        "id": "QFB54XYAWfe3",
        "outputId": "e4e1f165-710c-4b9f-a405-3c7497525849"
      },
      "execution_count": 18,
      "outputs": [
        {
          "output_type": "stream",
          "name": "stdout",
          "text": [
            "+------------------------------------+-----+\n",
            "|features                            |label|\n",
            "+------------------------------------+-----+\n",
            "|[1.0,69.0,8.0,1.0,7.214323175053155]|1    |\n",
            "|[1.0,31.0,5.0,1.0,7.214323175053155]|1    |\n",
            "|[1.0,26.0,2.0,1.0,7.214323175053155]|1    |\n",
            "|[1.0,35.0,4.0,1.0,7.214323175053155]|1    |\n",
            "|[1.0,39.0,0.0,1.0,1.0]              |0    |\n",
            "+------------------------------------+-----+\n",
            "only showing top 5 rows\n",
            "\n"
          ]
        }
      ]
    },
    {
      "cell_type": "code",
      "source": [
        "buyers_assembled.show(2)"
      ],
      "metadata": {
        "id": "GqLZI20MpoOd",
        "outputId": "8114c2e4-2286-41ee-ac2e-7efb540c2a15",
        "colab": {
          "base_uri": "https://localhost:8080/"
        }
      },
      "execution_count": 20,
      "outputs": [
        {
          "output_type": "stream",
          "name": "stdout",
          "text": [
            "+------+-------------+---------+------------+----------------+----------+-----------+---------+-------------------+-----------------+-----+--------------------+\n",
            "|userId|userSessionId|teamLevel|platformType|count_gameclicks|count_hits|count_buyId|avg_price|count_buyId_imputed|avg_price_imputed|label|            features|\n",
            "+------+-------------+---------+------------+----------------+----------+-----------+---------+-------------------+-----------------+-----+--------------------+\n",
            "|   812|         5648|        1|     android|              69|         8|       null|     null|                  1|7.214323175053155|    1|[1.0,69.0,8.0,1.0...|\n",
            "|  1658|         5649|        1|      iphone|              31|         5|       null|     null|                  1|7.214323175053155|    1|[1.0,31.0,5.0,1.0...|\n",
            "+------+-------------+---------+------------+----------------+----------+-----------+---------+-------------------+-----------------+-----+--------------------+\n",
            "only showing top 2 rows\n",
            "\n"
          ]
        }
      ]
    },
    {
      "cell_type": "code",
      "source": [
        "import pyspark\n",
        "import numpy as np\n",
        "import pandas as pd"
      ],
      "metadata": {
        "id": "jLYIyg3dqwKa"
      },
      "execution_count": 21,
      "outputs": []
    },
    {
      "cell_type": "code",
      "source": [
        "\n",
        "from pyspark.ml.feature import StandardScaler\n",
        "scale=StandardScaler(inputCol='features',outputCol='standardized')\n",
        "data_scale=scale.fit(buyers_assembled)\n",
        "data_scale_output=data_scale.transform(buyers_assembled)\n",
        "data_scale_output.show(2)"
      ],
      "metadata": {
        "id": "jvt7usOPqkm3",
        "outputId": "42931500-6fd8-4ded-c9a7-ac286d4dc3bb",
        "colab": {
          "base_uri": "https://localhost:8080/"
        }
      },
      "execution_count": 22,
      "outputs": [
        {
          "output_type": "stream",
          "name": "stdout",
          "text": [
            "+------+-------------+---------+------------+----------------+----------+-----------+---------+-------------------+-----------------+-----+--------------------+--------------------+\n",
            "|userId|userSessionId|teamLevel|platformType|count_gameclicks|count_hits|count_buyId|avg_price|count_buyId_imputed|avg_price_imputed|label|            features|        standardized|\n",
            "+------+-------------+---------+------------+----------------+----------+-----------+---------+-------------------+-----------------+-----+--------------------+--------------------+\n",
            "|   812|         5648|        1|     android|              69|         8|       null|     null|                  1|7.214323175053155|    1|[1.0,69.0,8.0,1.0...|[0.51957159924961...|\n",
            "|  1658|         5649|        1|      iphone|              31|         5|       null|     null|                  1|7.214323175053155|    1|[1.0,31.0,5.0,1.0...|[0.51957159924961...|\n",
            "+------+-------------+---------+------------+----------------+----------+-----------+---------+-------------------+-----------------+-----+--------------------+--------------------+\n",
            "only showing top 2 rows\n",
            "\n"
          ]
        }
      ]
    },
    {
      "cell_type": "code",
      "source": [
        ""
      ],
      "metadata": {
        "id": "e3KO5Iqmq-38"
      },
      "execution_count": null,
      "outputs": []
    },
    {
      "cell_type": "markdown",
      "source": [
        "Now that our data is standardized we can develop the K Means algorithm. K-means is one of the most commonly used clustering algorithms for grouping data into a predefined number of clusters."
      ],
      "metadata": {
        "id": "cNlnoJsTrOOQ"
      }
    },
    {
      "cell_type": "code",
      "source": [
        ""
      ],
      "metadata": {
        "id": "ufwceijdrWg1"
      },
      "execution_count": null,
      "outputs": []
    },
    {
      "cell_type": "code",
      "source": [
        "from pyspark.ml.clustering import KMeans\n",
        "from pyspark.ml.evaluation import ClusteringEvaluator\n",
        "silhouette_score=[]\n",
        "evaluator = ClusteringEvaluator(predictionCol='prediction', featuresCol='standardized', \\\n",
        "                                metricName='silhouette', distanceMeasure='squaredEuclidean')\n",
        "for i in range(2,10):\n",
        "    KMeans_algo=KMeans(featuresCol='standardized', k=i)\n",
        "    KMeans_fit=KMeans_algo.fit(data_scale_output)\n",
        "    output=KMeans_fit.transform(data_scale_output)\n",
        "    score=evaluator.evaluate(output)\n",
        "    silhouette_score.append(score)\n",
        "    print(\"Silhouette Score:\",score)"
      ],
      "metadata": {
        "id": "2k0d6vF-rQI7",
        "outputId": "7d70ede4-aa5a-425c-b8d7-a72cbebbccc9",
        "colab": {
          "base_uri": "https://localhost:8080/"
        }
      },
      "execution_count": 23,
      "outputs": [
        {
          "output_type": "stream",
          "name": "stdout",
          "text": [
            "Silhouette Score: 0.6352423282139211\n",
            "Silhouette Score: 0.6339155896365148\n",
            "Silhouette Score: 0.4455197184838785\n",
            "Silhouette Score: 0.46735290203286245\n",
            "Silhouette Score: 0.5274610856436776\n",
            "Silhouette Score: 0.5423794767938335\n",
            "Silhouette Score: 0.47988102082353556\n",
            "Silhouette Score: 0.41436702062328706\n"
          ]
        }
      ]
    },
    {
      "cell_type": "markdown",
      "source": [
        "Silhouette Score using ClusteringEvaluator() measures how close each point in one cluster is to points in the neighboring clusters thus helping in figuring out clusters that are compact and well-spaced out."
      ],
      "metadata": {
        "id": "BAs76lt9rrsW"
      }
    },
    {
      "cell_type": "code",
      "source": [
        "#Visualizing the silhouette scores in a plot\n",
        "import matplotlib.pyplot as plt\n",
        "fig, ax = plt.subplots(1,1, figsize =(8,6))\n",
        "ax.plot(range(2,10),silhouette_score)\n",
        "ax.set_xlabel('k')\n",
        "ax.set_ylabel('cost')"
      ],
      "metadata": {
        "id": "DwQVoBZBrsut",
        "outputId": "49392705-8806-4488-e8ad-b2361920d404",
        "colab": {
          "base_uri": "https://localhost:8080/",
          "height": 405
        }
      },
      "execution_count": 24,
      "outputs": [
        {
          "output_type": "execute_result",
          "data": {
            "text/plain": [
              "Text(0, 0.5, 'cost')"
            ]
          },
          "metadata": {},
          "execution_count": 24
        },
        {
          "output_type": "display_data",
          "data": {
            "text/plain": [
              "<Figure size 576x432 with 1 Axes>"
            ],
            "image/png": "[encoded data removed]"
          },
          "metadata": {
            "needs_background": "light"
          }
        }
      ]
    },
    {
      "cell_type": "markdown",
      "source": [
        "Highest value gotten is between when k = 2 or 3; "
      ],
      "metadata": {
        "id": "Iq-aViWcsJaQ"
      }
    },
    {
      "cell_type": "code",
      "source": [
        "final_clustering=KMeans(featuresCol='standardized', k=3)\n",
        "KMeans_fit=KMeans_algo.fit(data_scale_output)\n",
        "clusters_output=KMeans_fit.transform(data_scale_output)\n"
      ],
      "metadata": {
        "id": "9_CSRd0ksZkr"
      },
      "execution_count": 27,
      "outputs": []
    },
    {
      "cell_type": "code",
      "source": [
        "#notice the last column [prediction]\n",
        "clusters_output.show()"
      ],
      "metadata": {
        "id": "GwCRaZnLshWi",
        "outputId": "d6709c13-c018-4200-ca50-1f39554dcb35",
        "colab": {
          "base_uri": "https://localhost:8080/"
        }
      },
      "execution_count": 28,
      "outputs": [
        {
          "output_type": "stream",
          "name": "stdout",
          "text": [
            "+------+-------------+---------+------------+----------------+----------+-----------+---------+-------------------+-----------------+-----+--------------------+--------------------+----------+\n",
            "|userId|userSessionId|teamLevel|platformType|count_gameclicks|count_hits|count_buyId|avg_price|count_buyId_imputed|avg_price_imputed|label|            features|        standardized|prediction|\n",
            "+------+-------------+---------+------------+----------------+----------+-----------+---------+-------------------+-----------------+-----+--------------------+--------------------+----------+\n",
            "|   812|         5648|        1|     android|              69|         8|       null|     null|                  1|7.214323175053155|    1|[1.0,69.0,8.0,1.0...|[0.51957159924961...|         0|\n",
            "|  1658|         5649|        1|      iphone|              31|         5|       null|     null|                  1|7.214323175053155|    1|[1.0,31.0,5.0,1.0...|[0.51957159924961...|         0|\n",
            "|  1589|         5650|        1|      iphone|              26|         2|       null|     null|                  1|7.214323175053155|    1|[1.0,26.0,2.0,1.0...|[0.51957159924961...|         0|\n",
            "|  1863|         5651|        1|     android|              35|         4|       null|     null|                  1|7.214323175053155|    1|[1.0,35.0,4.0,1.0...|[0.51957159924961...|         0|\n",
            "|   937|         5652|        1|     android|              39|         0|          1|      1.0|                  1|              1.0|    0|[1.0,39.0,0.0,1.0...|[0.51957159924961...|         0|\n",
            "|   342|         5653|        1|     android|              36|         5|       null|     null|                  1|7.214323175053155|    1|[1.0,36.0,5.0,1.0...|[0.51957159924961...|         0|\n",
            "|   849|         5654|        1|      iphone|              40|         5|       null|     null|                  1|7.214323175053155|    1|[1.0,40.0,5.0,1.0...|[0.51957159924961...|         0|\n",
            "|  1277|         5655|        1|     windows|              46|         8|       null|     null|                  1|7.214323175053155|    1|[1.0,46.0,8.0,1.0...|[0.51957159924961...|         0|\n",
            "|  2203|         5656|        1|     android|              68|         6|       null|     null|                  1|7.214323175053155|    1|[1.0,68.0,6.0,1.0...|[0.51957159924961...|         0|\n",
            "|   585|         5657|        1|      iphone|              76|         9|       null|     null|                  1|7.214323175053155|    1|[1.0,76.0,9.0,1.0...|[0.51957159924961...|         0|\n",
            "|  1370|         5658|        1|      iphone|              69|         6|       null|     null|                  1|7.214323175053155|    1|[1.0,69.0,6.0,1.0...|[0.51957159924961...|         0|\n",
            "|  1623|         5659|        1|      iphone|             129|         9|          1|     10.0|                  1|             10.0|    1|[1.0,129.0,9.0,1....|[0.51957159924961...|         0|\n",
            "|   881|         5660|        1|      iphone|              36|         6|       null|     null|                  1|7.214323175053155|    1|[1.0,36.0,6.0,1.0...|[0.51957159924961...|         0|\n",
            "|    83|         5661|        1|     android|             102|        14|          1|      5.0|                  1|              5.0|    1|[1.0,102.0,14.0,1...|[0.51957159924961...|         0|\n",
            "|   453|         5662|        1|     android|             102|         7|       null|     null|                  1|7.214323175053155|    1|[1.0,102.0,7.0,1....|[0.51957159924961...|         0|\n",
            "|  1966|         5663|        1|      iphone|              63|         8|       null|     null|                  1|7.214323175053155|    1|[1.0,63.0,8.0,1.0...|[0.51957159924961...|         0|\n",
            "|  1073|         5664|        1|     android|             141|        21|       null|     null|                  1|7.214323175053155|    1|[1.0,141.0,21.0,1...|[0.51957159924961...|         0|\n",
            "|   121|         5665|        1|     android|              39|         4|          1|      3.0|                  1|              3.0|    0|[1.0,39.0,4.0,1.0...|[0.51957159924961...|         0|\n",
            "|   462|         5666|        1|     android|              90|        10|          1|      3.0|                  1|              3.0|    0|[1.0,90.0,10.0,1....|[0.51957159924961...|         0|\n",
            "|   708|         5667|        1|      iphone|              32|         2|       null|     null|                  1|7.214323175053155|    1|[1.0,32.0,2.0,1.0...|[0.51957159924961...|         0|\n",
            "+------+-------------+---------+------------+----------------+----------+-----------+---------+-------------------+-----------------+-----+--------------------+--------------------+----------+\n",
            "only showing top 20 rows\n",
            "\n"
          ]
        }
      ]
    },
    {
      "cell_type": "markdown",
      "source": [
        "# **Decision Tree**\n",
        "Train/test split\n",
        "To objectively assess a Machine Learning model you need to be able to test it on an independent set of data. You can't use the same data that you used to train the model: of course the model will perform (relatively) well on those data!\n",
        "\n",
        "You will split the data into two components:\n",
        "\n",
        "training data (used to train the model) and\n",
        "testing data (used to test the model)."
      ],
      "metadata": {
        "id": "uKyUc5vBYCZ5"
      }
    },
    {
      "cell_type": "code",
      "source": [
        "# Split into training and test sets in a 80:20 ratio\n",
        "buyers_train, buyers_test = buyers_assembled.randomSplit([0.8, 0.2], seed=17)\n",
        "\n",
        "# Check that training set has around 80% of records\n",
        "training_ratio = buyers_train.count() / buyers_assembled.count()\n",
        "print(training_ratio)"
      ],
      "metadata": {
        "colab": {
          "base_uri": "https://localhost:8080/"
        },
        "id": "vj_yTguuZI1j",
        "outputId": "d6b875d6-9a87-4dc2-fa28-576b57af100f"
      },
      "execution_count": null,
      "outputs": [
        {
          "output_type": "stream",
          "name": "stdout",
          "text": [
            "0.7977917298116476\n"
          ]
        }
      ]
    },
    {
      "cell_type": "code",
      "source": [
        "buyers_test.show"
      ],
      "metadata": {
        "colab": {
          "base_uri": "https://localhost:8080/"
        },
        "id": "9jDH1xnhZoN-",
        "outputId": "2f66c11d-44c5-4f8c-cf3b-afd93f76d745"
      },
      "execution_count": null,
      "outputs": [
        {
          "output_type": "execute_result",
          "data": {
            "text/plain": [
              "<bound method DataFrame.show of DataFrame[userId: int, userSessionId: int, teamLevel: int, platformType: string, count_gameclicks: int, count_hits: int, count_buyId: int, avg_price: double, count_buyId_imputed: int, avg_price_imputed: double, Buyers: int, features: vector]>"
            ]
          },
          "metadata": {},
          "execution_count": 83
        }
      ]
    },
    {
      "cell_type": "markdown",
      "source": [
        "# Build a Decision Tree\n",
        "Now that you've split the flights data into training and testing sets, you can use the training set to fit a Decision Tree model."
      ],
      "metadata": {
        "id": "UADmJPT3Ytmu"
      }
    },
    {
      "cell_type": "code",
      "source": [
        "from pyspark.ml.classification import DecisionTreeClassifier\n",
        "\n",
        "# Create a classifier object and fit to the training data\n",
        "tree = DecisionTreeClassifier()\n",
        "tree_model = tree.fit(buyers_train)\n"
      ],
      "metadata": {
        "id": "CROWiyUxluSV"
      },
      "execution_count": null,
      "outputs": []
    },
    {
      "cell_type": "code",
      "source": [
        "# Create predictions for the testing data and take a look at the predictions\n",
        "prediction = tree_model.transform(buyers_test)\n",
        "prediction.select('label', 'prediction', 'probability').show(5, False)"
      ],
      "metadata": {
        "colab": {
          "base_uri": "https://localhost:8080/"
        },
        "id": "N-8it2lhl7D7",
        "outputId": "1595bdc5-9894-475f-e8d8-ed6090b8e18d"
      },
      "execution_count": null,
      "outputs": [
        {
          "output_type": "stream",
          "name": "stdout",
          "text": [
            "+-----+----------+-----------+\n",
            "|label|prediction|probability|\n",
            "+-----+----------+-----------+\n",
            "|1    |1.0       |[0.0,1.0]  |\n",
            "|0    |0.0       |[1.0,0.0]  |\n",
            "|1    |1.0       |[0.0,1.0]  |\n",
            "|1    |1.0       |[0.0,1.0]  |\n",
            "|1    |1.0       |[0.0,1.0]  |\n",
            "+-----+----------+-----------+\n",
            "only showing top 5 rows\n",
            "\n"
          ]
        }
      ]
    },
    {
      "cell_type": "markdown",
      "source": [
        "# Evaluate the Decision Tree\n",
        "You can assess the quality of your model by evaluating how well it performs on the testing data. Because the model was not trained on these data, this represents an objective assessment of the model.\n",
        "\n",
        "A confusion matrix gives a useful breakdown of predictions versus known values. It has four cells which represent the counts of:\n",
        "\n",
        "True Negatives (TN) — model predicts negative outcome & known outcome is negative\n",
        "True Positives (TP) — model predicts positive outcome & known outcome is positive\n",
        "False Negatives (FN) — model predicts negative outcome but known outcome is positive\n",
        "False Positives (FP) — model predicts positive outcome but known outcome is negative."
      ],
      "metadata": {
        "id": "yBj5479Mccu2"
      }
    },
    {
      "cell_type": "code",
      "source": [
        "# Create a confusion matrix\n",
        "prediction.groupBy('label', 'prediction').count().show()\n",
        "\n",
        "# Calculate the elements of the confusion matrix\n",
        "TN = prediction.filter('prediction = 0 AND label = prediction').count()\n",
        "TP = prediction.filter('prediction = 1 AND label = prediction').count()\n",
        "FN = prediction.filter('prediction = 0 AND label = 1').count()\n",
        "FP = prediction.filter('prediction = 1 AND label = 0').count()\n",
        "\n",
        "# Accuracy measures the proportion of correct predictions\n",
        "accuracy = (TN + TP) / (TN + TP + FN + FP)\n",
        "print(accuracy)"
      ],
      "metadata": {
        "colab": {
          "base_uri": "https://localhost:8080/"
        },
        "id": "DZGC_CQ5cfz2",
        "outputId": "8287d853-b460-4cc8-c736-6337f8614bc0"
      },
      "execution_count": null,
      "outputs": [
        {
          "output_type": "stream",
          "name": "stdout",
          "text": [
            "+-----+----------+-----+\n",
            "|label|prediction|count|\n",
            "+-----+----------+-----+\n",
            "|    1|       0.0|    5|\n",
            "|    0|       0.0|  146|\n",
            "|    1|       1.0|  782|\n",
            "|    0|       1.0|    1|\n",
            "+-----+----------+-----+\n",
            "\n",
            "0.9935760171306209\n"
          ]
        }
      ]
    },
    {
      "cell_type": "markdown",
      "source": [
        "# Logistic Regression\n",
        "Build a Logistic Regression model\n",
        "You've already built a Decision Tree model using the Team Buyers data. Now you're going to create a Logistic Regression model on the same data."
      ],
      "metadata": {
        "id": "E-uv2vRxdMbE"
      }
    },
    {
      "cell_type": "code",
      "source": [
        "buyers_train.columns"
      ],
      "metadata": {
        "colab": {
          "base_uri": "https://localhost:8080/"
        },
        "id": "S5Ym8OwsdrY2",
        "outputId": "f2343c26-de21-4df6-fcf4-65c9cdac6523"
      },
      "execution_count": null,
      "outputs": [
        {
          "output_type": "execute_result",
          "data": {
            "text/plain": [
              "['userId',\n",
              " 'userSessionId',\n",
              " 'teamLevel',\n",
              " 'platformType',\n",
              " 'count_gameclicks',\n",
              " 'count_hits',\n",
              " 'count_buyId',\n",
              " 'avg_price',\n",
              " 'count_buyId_imputed',\n",
              " 'avg_price_imputed',\n",
              " 'label',\n",
              " 'features']"
            ]
          },
          "metadata": {},
          "execution_count": 98
        }
      ]
    },
    {
      "cell_type": "code",
      "source": [
        "from pyspark.ml.classification import LogisticRegression\n",
        "\n",
        "# Selecting numeric columns\n",
        "buyers_train_num = buyers_train.select(\"teamLevel\", 'count_gameclicks', 'count_hits','count_buyId_imputed','avg_price_imputed', 'features', 'label')\n",
        "buyers_test_num = buyers_test.select(\"teamLevel\", 'count_gameclicks', 'count_hits','count_buyId_imputed','avg_price_imputed', 'features', 'label')\n",
        "\n",
        "# Create classifier object and train on training data\n",
        "logistic = LogisticRegression().fit(buyers_train_num)\n",
        "\n",
        "# Create a predictions for the test data and show confusion matrix\n",
        "prediction = logistic.transform(buyers_test_num)\n",
        "prediction.groupBy(\"label\", \"prediction\").count().show()"
      ],
      "metadata": {
        "colab": {
          "base_uri": "https://localhost:8080/"
        },
        "id": "SheFoTr1dS3M",
        "outputId": "6d9c224e-ef82-42c2-bb5c-0f755c7bf25d"
      },
      "execution_count": null,
      "outputs": [
        {
          "output_type": "stream",
          "name": "stdout",
          "text": [
            "+-----+----------+-----+\n",
            "|label|prediction|count|\n",
            "+-----+----------+-----+\n",
            "|    0|       0.0|  147|\n",
            "|    1|       1.0|  787|\n",
            "+-----+----------+-----+\n",
            "\n"
          ]
        }
      ]
    },
    {
      "cell_type": "markdown",
      "source": [
        "# Evaluate the Logistic Regression model\n",
        "Accuracy is generally not a very reliable metric because it can be biased by the most common target class.\n",
        "\n",
        "There are two other useful metrics:\n",
        "\n",
        "# precision and recall.\n",
        "Precision is the proportion of positive predictions which are correct. For all buyers which are predicted to be big , what proportion is actually big or small?\n",
        "\n",
        "Recall is the proportion of positives outcomes which are correctly predicted. For all big buyers, what proportion is correctly predicted by the model?\n",
        "\n",
        "The precision and recall are generally formulated in terms of the positive target class. But it's also possible to calculate weighted versions of these metrics which look at both"
      ],
      "metadata": {
        "id": "PFCZQ46OfFf2"
      }
    },
    {
      "cell_type": "code",
      "source": [
        "# Calculate the elements of the confusion matrix\n",
        "TN = prediction.filter('prediction = 0 AND label = prediction').count()\n",
        "TP = prediction.filter('prediction = 1 AND label = prediction').count()\n",
        "FN = prediction.filter('prediction = 0 AND label = 1').count()\n",
        "FP = prediction.filter('prediction = 1 AND label = 0').count()"
      ],
      "metadata": {
        "id": "ADidyZEJfb3u"
      },
      "execution_count": null,
      "outputs": []
    },
    {
      "cell_type": "code",
      "source": [
        "from pyspark.ml.evaluation import MulticlassClassificationEvaluator, BinaryClassificationEvaluator\n",
        "\n",
        "# Calculate precision and recall\n",
        "precision = TP / (TP + FP)\n",
        "recall = TP / (TP + FN)\n",
        "print('precision = {:.2f}\\nrecall   = {:.2f}'.format(precision, recall))\n",
        "\n",
        "# Find weighted precision\n",
        "multi_evaluator = MulticlassClassificationEvaluator()\n",
        "weighted_precision = multi_evaluator.evaluate(prediction, {multi_evaluator.metricName: \"weightedPrecision\"})\n",
        "\n",
        "# Find AUC\n",
        "binary_evaluator = BinaryClassificationEvaluator()\n",
        "auc = binary_evaluator.evaluate(prediction, {binary_evaluator.metricName: \"areaUnderROC\"})"
      ],
      "metadata": {
        "colab": {
          "base_uri": "https://localhost:8080/"
        },
        "id": "vM0nWR-_fh-n",
        "outputId": "b1a0c026-832f-46d4-efb8-3b10facb2925"
      },
      "execution_count": null,
      "outputs": [
        {
          "output_type": "stream",
          "name": "stdout",
          "text": [
            "precision = 1.00\n",
            "recall   = 1.00\n"
          ]
        }
      ]
    }
  ]
}