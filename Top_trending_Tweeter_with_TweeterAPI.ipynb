{
  "nbformat": 4,
  "nbformat_minor": 0,
  "metadata": {
    "colab": {
      "name": "Top trending Tweeter with TweeterAPI.ipynb",
      "provenance": [],
      "authorship_tag": "ABX9TyM1EFjBmtcy8j8iFJqiCeGQ",
      "include_colab_link": true
    },
    "kernelspec": {
      "name": "python3",
      "display_name": "Python 3"
    },
    "language_info": {
      "name": "python"
    }
  },
  "cells": [
    {
      "cell_type": "markdown",
      "metadata": {
        "id": "view-in-github",
        "colab_type": "text"
      },
      "source": [
        "<a href=\"https://colab.research.google.com/github/Adekoyaag/Adekoyaag/blob/main/Top_trending_Tweeter_with_TweeterAPI.ipynb\" target=\"_parent\"><img src=\"https://colab.research.google.com/assets/colab-badge.svg\" alt=\"Open In Colab\"/></a>"
      ]
    },
    {
      "cell_type": "code",
      "source": [
        "# -*- coding: utf-8 -*-\n",
        "\"\"\"\n",
        "Created on Thu Mar 31 02:23:10 2022\n",
        "\n",
        "@author: DELL\n",
        "\"\"\"\n",
        "\n",
        "import tweepy\n",
        "import matplotlib.pyplot as plt\n",
        "from twython import Twython\n",
        "import json\n",
        "import pandas as pd"
      ],
      "metadata": {
        "id": "v-jMMx-6-ynE"
      },
      "execution_count": null,
      "outputs": []
    },
    {
      "cell_type": "code",
      "source": [
        "\n",
        "\n",
        "#from twitter import Twitter\n",
        "\n",
        "\n",
        "consumer_key = 'inser your key'\n",
        "consumer_secret = 'insert yours'\n",
        "access_token = 'insert your token'\n",
        "access_secret = 'insert yours'\n",
        "\n",
        "\n",
        "auth = tweepy.OAuthHandler(consumer_key, consumer_secret)\n",
        "auth.set_access_token(access_token, access_secret)\n",
        "our_api = tweepy.API(auth)\n"
      ],
      "metadata": {
        "id": "4qohgA06-63q"
      },
      "execution_count": null,
      "outputs": []
    },
    {
      "cell_type": "code",
      "source": [
        "#python_tweets = Twython(creds['CONSUMER_KEY'], creds['CONSUMER_SECRET'])\n",
        "\n",
        "trends= our_api.get_place_trends(id=1)\n",
        "print(trends)\n",
        "\n",
        "dict_={'Name':[], 'Tweet_volume':[], }\n",
        "\n",
        "\n",
        "\n",
        "for values in trends:\n",
        "    \n",
        "    for trend in values['trends']:\n",
        "        \n",
        "        dict_['Name'].append(trend['name'])\n",
        "        \n",
        "        dict_['Tweet_volume'].append(trend['tweet_volume'])\n",
        "        "
      ],
      "metadata": {
        "id": "Hm9o1XW9_DEK"
      },
      "execution_count": null,
      "outputs": []
    },
    {
      "cell_type": "code",
      "source": [
        "\n",
        "df=pd.DataFrame(dict_)\n",
        "\n",
        "df = df[df[\"Tweet_volume\"]>0] #Filter to remove all NaN tweet_volumes\n",
        "\n",
        "df.sort_values(by='Tweet_volume', inplace=True, ascending=True)\n",
        "\n",
        "d3 = df.head(10)"
      ],
      "metadata": {
        "id": "ggTAAus-_C6x"
      },
      "execution_count": null,
      "outputs": []
    },
    {
      "cell_type": "code",
      "source": [
        "\n",
        "#Plot chart\n",
        "d3.plot.bar(x=\"Name\", y=\"Tweet_volume\", rot=70, title=\"Top Trending Tweet Volume in World\");\n",
        "plt.show(block=True);\n"
      ],
      "metadata": {
        "id": "C5qX9RJL_VNi"
      },
      "execution_count": null,
      "outputs": []
    },
    {
      "cell_type": "code",
      "source": [
        "\n",
        "#Another chart type- change paraid =\n",
        "\n",
        "d3.plot.bar(x=\"Name\", y=\"Tweet_volume\", rot=70, title=\"Top Ten(10) Tweet in Nigeria\");\n",
        "plt.show(block=True);"
      ],
      "metadata": {
        "id": "DQWNQtPv_Wj8"
      },
      "execution_count": null,
      "outputs": []
    },
    {
      "cell_type": "code",
      "execution_count": null,
      "metadata": {
        "id": "ZP2c9aUm-p0E"
      },
      "outputs": [],
      "source": [
        "\n",
        "\n",
        "#Trying another chart\n",
        "y = d3[\"Name\"]\n",
        "x = d3[\"Tweet_volume\"]\n",
        "#z = df2['DateCreated']\n",
        "myexplode = [0.2,0.1,0.1,0.1,0.,0.1,0.1,0.1,0.2,0.2]\n",
        "plt.pie(x, labels = y, autopct='%1.0f%%', explode=myexplode)\n",
        "#plt.legend()\n",
        "\n",
        "plt.title(\"Top Ten(10) Tweet in worlds\",  bbox={'facecolor':'0.8', 'pad':4})\n",
        "plt.show()\n",
        "\n",
        "\n",
        "\n"
      ]
    },
    {
      "cell_type": "code",
      "source": [
        ""
      ],
      "metadata": {
        "id": "pAGhRpj9-spF"
      },
      "execution_count": null,
      "outputs": []
    }
  ]
}